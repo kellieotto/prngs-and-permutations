{
 "cells": [
  {
   "cell_type": "markdown",
   "metadata": {},
   "source": [
    "# Bounds on the number of samples of size $k$ from a population of size $n$ for various PRNGs and sampling algorithms\n",
    "\n",
    "This notebook uses entropy-based bounds to find upper bounds on the number of samples that can be generated using a variety of algorithms for generating pseudo-random numbers (PRNs) and for turning sequences of PRNs into samples.\n",
    "\n",
    "+ a hypothetical sampling algorithm that uses an optimal coding of samples to turn strings of $\\log_2({n \\choose k})$ bits into samples of size $k$\n",
    "+ a common algorithm that involves assigning a PRN to each of the $n$ elements, then taking those elements assigned the smallest $k$ numbers to be the sample\n",
    "\n",
    "PRNGs considered include [linear congruential generators](https://en.wikipedia.org/wiki/Linear_congruential_generator) (LCGs, including [RANDU](https://en.wikipedia.org/wiki/RANDU)), and the [Mersenne Twister](https://en.wikipedia.org/wiki/Mersenne_Twister).\n",
    "\n",
    "[Kellie Ottoboni](http://www.stat.berkeley.edu/~kellieotto/) and [Philip B. Stark](www.stat.berkeley.edu/~stark)\n",
    "\n"
   ]
  },
  {
   "cell_type": "code",
   "execution_count": 1,
   "metadata": {
    "collapsed": false
   },
   "outputs": [],
   "source": [
    "from __future__ import division\n",
    "import math\n",
    "import numpy as np\n",
    "import scipy as sp\n",
    "from scipy.misc import comb, factorial\n",
    "from scipy.optimize import brentq"
   ]
  },
  {
   "cell_type": "code",
   "execution_count": 4,
   "metadata": {
    "collapsed": true
   },
   "outputs": [],
   "source": [
    "def H(q):  # entropy of a Bernoulli(q) variable\n",
    "    return -q*math.log(q, 2) - (1-q)*math.log(1-q, 2)\n",
    "    \n",
    "\n",
    "def comb_upper_bound(n, k):  # entropy upper bound on nCk\n",
    "    q = k/n\n",
    "    return 2**(n*H(q))\n",
    "\n",
    "\n",
    "def comb_lower_bound(n, k): # entropy upper bound on nCk\n",
    "    q = k/n\n",
    "    return 2**(n*H(q))/(n+1)"
   ]
  },
  {
   "cell_type": "code",
   "execution_count": 3,
   "metadata": {
    "collapsed": false
   },
   "outputs": [],
   "source": [
    "# number of bits per period divided by log_2(choose(n,k))?\n",
    "def sample_counter(n, k, period, word_length):\n",
    "    return (period*word_length) > math.log(comb(n, k), 2)*comb(n, k)\n",
    "\n",
    "\n",
    "def sample_counter_lb(n, k, period, word_length):\n",
    "    ub_bits_for_all_samples = (n*H(k/n) - math.log(n+1, 2))*(2**(n*H(k/n)))/(n+1)\n",
    "    return (period*word_length) > ub_bits_for_all_samples"
   ]
  },
  {
   "cell_type": "markdown",
   "metadata": {},
   "source": [
    "# RANDU\n",
    "The next few computations are specific to the RANDU PRNG, a particularly bad [LCG](https://en.wikipedia.org/wiki/Linear_congruential_generator) promulgated in the 1960s and widely copied."
   ]
  },
  {
   "cell_type": "code",
   "execution_count": 5,
   "metadata": {
    "collapsed": false
   },
   "outputs": [],
   "source": [
    "randu_period = 2**29\n",
    "randu_word_length = 32"
   ]
  },
  {
   "cell_type": "code",
   "execution_count": 6,
   "metadata": {
    "collapsed": false
   },
   "outputs": [
    {
     "name": "stdout",
     "output_type": "stream",
     "text": [
      "31\n",
      "32\n",
      "33\n",
      "34\n",
      "35\n",
      "can't do  35\n",
      "31\n",
      "32\n",
      "33\n",
      "34\n",
      "can't do  34\n"
     ]
    }
   ],
   "source": [
    "n = 30\n",
    "k = 20\n",
    "can_do = True\n",
    "while can_do:\n",
    "    n = n+1\n",
    "    can_do = sample_counter_lb(n, k, randu_period, randu_word_length)\n",
    "    print n\n",
    "print \"can't do \",n\n",
    "\n",
    "n = 30\n",
    "k = 20\n",
    "can_do = True\n",
    "while can_do:\n",
    "    n = n+1\n",
    "    can_do = sample_counter(n, k, randu_period, randu_word_length)\n",
    "    print n\n",
    "print \"can't do \",n"
   ]
  },
  {
   "cell_type": "markdown",
   "metadata": {},
   "source": [
    "# Most efficient coding/a single period of the PRNG\n",
    "\n",
    "Suppose we generate samples of size $k$ from a population of size $n$.\n",
    "There are ${n \\choose k}$ such samples.\n",
    "The most efficient coding scheme requires $\\log_2{n \\choose k}$ bits to encode all possible samples.\n",
    "\n",
    "A PRNG generates a \"word\" (typically an integer) using a fixed number of bits.\n",
    "The period of the PRNG tells us the maximum number of words the PRNG can generate starting from a particular seed.\n",
    "The period times the word length is the number of random bits that the PRNG can generate.\n",
    "If this number is less than the number of bits per sample encoding times the number of samples, ${n \\choose k}\\log_2{n \\choose k}$, then it is not possible to generate all possible samples in one period of the PRNG.\n",
    "\n",
    "For a particular PRNG with known period and word length (typically 32 bits), we can fix $k$ and calculate the largest $n$ for which the PRNG can generate all possible samples.\n",
    "Similarly, we can fix $n$ and find the largest $k$ for which the PRNG can generate all possible samples.\n",
    "Note, when we vary $k$ it is only interesting for $1 \\leq k \\leq \\lfloor{\\frac{n}{2}}\\rfloor$.\n",
    "Without loss of generality, if $k > \\lfloor{\\frac{n}{2}}\\rfloor$, we can think of the sampling as selecting individuals to *exclude* from the sample.\n",
    "\n",
    "For large $n$, it's costly to compute binomial coefficients.\n",
    "Instead, we use the following bound:\n",
    "\n",
    "$$ \\frac{2^{nH(k/n)}}{n+1} \\leq {n \\choose k} \\leq 2^{nH(k/n)}$$\n",
    "\n",
    "When dealing with the Mersenne Twister, we substitute the lower bound for ${n \\choose k}$, giving overly optimistic estimates of maximum $n$.\n",
    "\n",
    "## RANDU"
   ]
  },
  {
   "cell_type": "code",
   "execution_count": 7,
   "metadata": {
    "collapsed": false
   },
   "outputs": [
    {
     "name": "stdout",
     "output_type": "stream",
     "text": [
      "[33.0, 57.0, 105.0, 503.0]\n"
     ]
    }
   ],
   "source": [
    "k = [20, 50, 100, 500]\n",
    "maxn = [0, 0, 0, 0]\n",
    "i = 0\n",
    "step_size = 10\n",
    "for kk in k:\n",
    "    can_do = True\n",
    "    n = kk\n",
    "    while can_do:\n",
    "        n = n + step_size\n",
    "        can_do = sample_counter_lb(n, kk, randu_period, randu_word_length)\n",
    "#    print n\n",
    "    \n",
    "    count = lambda x: randu_period*randu_word_length - math.log(comb(x, kk), 2)*comb(x, kk)\n",
    "    if kk==(n-step_size):\n",
    "        llim = n - step_size + 1\n",
    "    else:\n",
    "        llim = n - step_size\n",
    "    maxn[i] = np.trunc(brentq(count, llim, n))\n",
    "    i = i + 1\n",
    "    \n",
    "print(maxn)"
   ]
  },
  {
   "cell_type": "code",
   "execution_count": 8,
   "metadata": {
    "collapsed": false
   },
   "outputs": [
    {
     "name": "stdout",
     "output_type": "stream",
     "text": [
      "[5, 10, 9, 6]\n"
     ]
    }
   ],
   "source": [
    "n = [10, 20, 50, 100]\n",
    "maxk = [0, 0, 0, 0]\n",
    "i = 0\n",
    "step_size = 1\n",
    "for nn in n:\n",
    "    can_do = True\n",
    "    k = 0\n",
    "    while can_do and k < nn/2:\n",
    "        k = k + step_size\n",
    "        can_do = sample_counter(nn, k, randu_period, randu_word_length)\n",
    "    maxk[i] = k\n",
    "    i = i + 1\n",
    "    \n",
    "print(maxk)"
   ]
  },
  {
   "cell_type": "markdown",
   "metadata": {},
   "source": [
    "## Mersenne Twister"
   ]
  },
  {
   "cell_type": "code",
   "execution_count": 9,
   "metadata": {
    "collapsed": false
   },
   "outputs": [],
   "source": [
    "mersenne_twister_period = (2**19937) - 1\n",
    "mersenne_twister_word_length = 32"
   ]
  },
  {
   "cell_type": "code",
   "execution_count": 10,
   "metadata": {
    "collapsed": false
   },
   "outputs": [
    {
     "name": "stdout",
     "output_type": "stream",
     "text": [
      "1100\n",
      "2100\n",
      "3100\n",
      "4100\n",
      "5100\n",
      "6100\n",
      "7100\n",
      "8100\n",
      "9100\n",
      "10100\n",
      "11100\n",
      "12100\n",
      "13100\n",
      "14100\n",
      "15100\n",
      "16100\n",
      "17100\n",
      "18100\n",
      "19100\n",
      "20100\n",
      "21100\n",
      "22100\n",
      "23100\n",
      "24100\n",
      "25100\n",
      "26100\n",
      "27100\n",
      "28100\n",
      "29100\n",
      "30100\n",
      "31100\n",
      "32100\n",
      "33100\n",
      "34100\n",
      "35100\n",
      "36100\n",
      "37100\n",
      "38100\n",
      "39100\n",
      "40100\n",
      "41100\n",
      "42100\n",
      "can't do  42100\n"
     ]
    }
   ],
   "source": [
    "n = 100\n",
    "k = 100\n",
    "can_do = True\n",
    "while can_do and n<1000000:\n",
    "    n = n+1000\n",
    "    can_do = sample_counter_lb(n, k, mersenne_twister_period, mersenne_twister_word_length)\n",
    "    print n\n",
    "print \"can't do \",n"
   ]
  },
  {
   "cell_type": "code",
   "execution_count": 11,
   "metadata": {
    "collapsed": false
   },
   "outputs": [
    {
     "name": "stdout",
     "output_type": "stream",
     "text": [
      "[23434807, 41570.0]\n"
     ]
    }
   ],
   "source": [
    "k = [50, 100]\n",
    "maxn = [0, 0]\n",
    "i = 0\n",
    "step_size = 10**4\n",
    "for kk in k:\n",
    "    can_do = True\n",
    "    n = kk\n",
    "    while can_do:\n",
    "        n = n + step_size\n",
    "        can_do = sample_counter_lb(n, kk, mersenne_twister_period, mersenne_twister_word_length)\n",
    "    \n",
    "    # This doesn't seem to work. I wonder if it's a problem with long int math.\n",
    "#    count = lambda x: mersenne_twister_period*mersenne_twister_word_length - long((x*H(kk/x) - math.log(x+1, 2))*(2**(x*H(kk/x))/(x+1)))\n",
    "#    maxn[i] = brentq(count, n-step_size, n)\n",
    "    while not can_do:\n",
    "        n = n - 1\n",
    "        can_do = sample_counter_lb(n, kk, mersenne_twister_period, mersenne_twister_word_length)\n",
    "    maxn[i] = n\n",
    "    i = i + 1\n",
    "    step_size = step_size/100\n",
    "print maxn"
   ]
  },
  {
   "cell_type": "markdown",
   "metadata": {},
   "source": [
    "# Naive Sampling Algorithm\n",
    "\n",
    "The \"naive sampling algorithm\" is the algorithm that assigns a PRN to each item, then sorts and takes top k.\n",
    "We ask:\n",
    "- can all permutations occur?\n",
    "- can all $nPk$ permutations occur?\n",
    "- can all $nCk$ samples occur?\n",
    "\n",
    "We look at RANDU and the Mersenne Twister.\n",
    "Unfortunately, due to overflow errors, we don't have results for the Mersenne Twister yet."
   ]
  },
  {
   "cell_type": "code",
   "execution_count": 14,
   "metadata": {
    "collapsed": false
   },
   "outputs": [
    {
     "name": "stdout",
     "output_type": "stream",
     "text": [
      "[[  45.40777855  -99.        ]\n",
      " [  34.73680601  -99.        ]\n",
      " [  58.46911336  -99.        ]\n",
      " [ 106.60976355  -99.        ]]\n"
     ]
    }
   ],
   "source": [
    "# All permutations\n",
    "\n",
    "k = np.array([10, 20, 50, 100])\n",
    "all_perm = np.zeros((4, 2))\n",
    "period_lengths = np.array([randu_period, mersenne_twister_period])\n",
    "i = 0\n",
    "for kk in k:\n",
    "    j = 0\n",
    "    for p in period_lengths:\n",
    "        count = lambda nn: p - long((2**(nn*H(kk/nn))/(nn+1)))\n",
    "        if count(10000)>0:\n",
    "            all_perm[i, j] = -99\n",
    "        else:\n",
    "            all_perm[i, j] = brentq(count, kk+1, 10000)\n",
    "        j = j + 1\n",
    "    i = i + 1\n",
    "print(all_perm)"
   ]
  },
  {
   "cell_type": "code",
   "execution_count": 15,
   "metadata": {
    "collapsed": false
   },
   "outputs": [
    {
     "name": "stdout",
     "output_type": "stream",
     "text": [
      "[[  17.59068915  -99.        ]\n",
      " [  26.35785924  -99.        ]\n",
      " [  55.06263187  -99.        ]\n",
      " [ 104.34016714  -99.        ]]\n"
     ]
    }
   ],
   "source": [
    "# can all nPk permutations occur?\n",
    "\n",
    "k = np.array([10, 20, 50, 100])\n",
    "all_perm = np.zeros((4, 2))\n",
    "period_lengths = np.array([randu_period, mersenne_twister_period])\n",
    "i = 0\n",
    "for kk in k:\n",
    "    j = 0\n",
    "    for p in period_lengths:\n",
    "        count = lambda nn: p - long(factorial(nn)/factorial(kk))\n",
    "        if count(150)>0:\n",
    "            all_perm[i, j] = -99\n",
    "        else:\n",
    "            all_perm[i, j] = brentq(count, kk+1, 150)\n",
    "        j = j + 1\n",
    "    i = i + 1\n",
    "print(all_perm)"
   ]
  },
  {
   "cell_type": "code",
   "execution_count": 16,
   "metadata": {
    "collapsed": false
   },
   "outputs": [
    {
     "name": "stdout",
     "output_type": "stream",
     "text": [
      "[[  38.42577637  -99.        ]\n",
      " [  32.92813183  -99.        ]\n",
      " [  57.35133302  -99.        ]\n",
      " [ 105.59084038  -99.        ]]\n"
     ]
    }
   ],
   "source": [
    "# What's the largest n for which all nCk samples can occur?\n",
    "\n",
    "\n",
    "k = np.array([10, 20, 50, 100])\n",
    "all_perm = np.zeros((4, 2))\n",
    "period_lengths = np.array([randu_period, mersenne_twister_period])\n",
    "i = 0\n",
    "for kk in k:\n",
    "    j = 0\n",
    "    for p in period_lengths:\n",
    "        count = lambda nn: p - long(comb(nn,kk))\n",
    "        if count(150)>0:\n",
    "            all_perm[i, j] = -99\n",
    "        else:\n",
    "            all_perm[i, j] = brentq(count, kk+1, 150)\n",
    "        j = j + 1\n",
    "    i = i + 1\n",
    "print(all_perm)"
   ]
  },
  {
   "cell_type": "markdown",
   "metadata": {
    "collapsed": true
   },
   "source": [
    "# testing out bounds when factorial overflows"
   ]
  },
  {
   "cell_type": "code",
   "execution_count": 19,
   "metadata": {
    "collapsed": false
   },
   "outputs": [
    {
     "data": {
      "text/plain": [
       "array(inf)"
      ]
     },
     "execution_count": 11,
     "metadata": {},
     "output_type": "execute_result"
    }
   ],
   "source": [
    "factorial(41400)"
   ]
  },
  {
   "cell_type": "code",
   "execution_count": 13,
   "metadata": {
    "collapsed": false
   },
   "outputs": [
    {
     "name": "stdout",
     "output_type": "stream",
     "text": [
      "inf\n",
      "1.3025055052e+306\n",
      "3.07187449635e+301\n"
     ]
    }
   ],
   "source": [
    "print comb(41400,100)\n",
    "print comb_upper_bound(41400, 100)\n",
    "print comb_lower_bound(41400, 100)"
   ]
  }
 ],
 "metadata": {
  "kernelspec": {
   "display_name": "Python 2",
   "language": "python",
   "name": "python2"
  }
 },
 "nbformat": 4,
 "nbformat_minor": 0
}
