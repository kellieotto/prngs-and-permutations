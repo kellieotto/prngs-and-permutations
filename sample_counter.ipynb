{
 "cells": [
  {
   "cell_type": "markdown",
   "metadata": {},
   "source": [
    "# Simple Random Sampling: Not So Simple\n",
    "\n",
    "This notebook examines common strategies for drawing pseudo-random samples of size $k$ from a population of size $n$. \n",
    "\n",
    "Among other things, it finds bounds on the number of samples that can be generated using a variety of algorithms for generating pseudo-random numbers (PRNs), for a number of algorithms that use PRNs to generate samples.\n",
    "\n",
    "+ a hypothetical sampling algorithm that uses an optimal coding of samples to turn strings of $\\log_2{n \\choose k}$ bits into samples of size $k$\n",
    "+ a common algorithm that involves assigning a PRN to each of the $n$ elements, then taking those elements assigned the smallest $k$ numbers to be the sample (`PIKK` for \"permute and keep $k$\")\n",
    "+ algorithm `R`, a streamable algorithm that also uses at least one PRN per element of the population, but avoids the sort\n",
    "+ algorithm `Z` of Vitter (1985)\n",
    "+ algorithm `Random-Sample` on p. 130 of [Cormen et al. (2009)](https://mitpress.mit.edu/books/introduction-algorithms), which uses only $k$ random integers\n",
    "\n",
    "PRNGs considered include [linear congruential generators](https://en.wikipedia.org/wiki/Linear_congruential_generator) (LCGs, including [RANDU](https://en.wikipedia.org/wiki/RANDU)), and the [Mersenne Twister](https://en.wikipedia.org/wiki/Mersenne_Twister). The behavior of the [middle square method](https://en.wikipedia.org/wiki/Middle-square_method) is worse. \n",
    "There is some discussion of using cryptographic hash functions to generate PRNs.\n",
    "\n",
    "[Kellie Ottoboni](http://www.stat.berkeley.edu/~kellieotto/), [Ronald L. Rivest](http://people.csail.mit.edu/rivest/) and [Philip B. Stark](www.stat.berkeley.edu/~stark)\n",
    "\n"
   ]
  },
  {
   "cell_type": "markdown",
   "metadata": {},
   "source": [
    "## References\n",
    "\n",
    "1. Cormen, T.H., C.E. Leiserson, R.L. Rivest and C. Stein, 2009. _Introduction to Algorithms, 3rd edition_, MIT Press.\n",
    "1. Fishman, G.S., and L.R. Moore, 1981. In Search of Correlation in Multiplicative Congruential Generators with Modulus 2\\*\\*31-1, _Computer Science and Statistics: Proceedings of the 13 Symposium on the Interface_, William F. Eddy, ed., Springer Verlag, New York.\n",
    "1. Knuth, D., 1997 _The Art of Computer Programming, V.II: Seminumerical methods_, 3rd edition, Addison-Wesley, Boston.\n",
    "1. L'Ecuyer, P. and R. Simard, 2007. TestU01: A C Library for Empirical Testing of Random Number Generators, _ACM Trans. Math. Softw._, _33_, http://doi.acm.org/10.1145/1268776.1268777\n",
    "1. Marsaglia, G., 1968. Random Numbers Fall Mainly in the Planes, _PNAS_, _61_, 25&ndash;28.\n",
    "1. Marsaglia, G., 2003. Xorshift RNGs. _Journal of Statistical Software_, _8_, 1&ndash;6.\n",
    "1. Matsumoto, M., and T. Nishimura, 1998. 8). Mersenne twister: a 623-dimensionally equidistributed uniform pseudo-random number generator, _ACM Transactions on Modeling and Computer Simulation_, _8_, 3&ndash;30. doi:10.1145/272991.272995\n",
    "1. NIST Computer Security Division, _Random Number Generation_ http://csrc.nist.gov/groups/ST/toolkit/rng/\n",
    "1. O'Neill, M.E., 2015. PCG: A Family of Simple Fast Space-Efficient Statistically Good Algorithms for Random Number Generation, submitted to _ACM Transactions on Mathematical Software_. http://www.pcg-random.org/pdf/toms-oneill-pcg-family-v1.02.pdf\n",
    "1. http://www.pcg-random.org/\n",
    "1. Shannon, C.E., 1948. A Mathematical Theory of Communication, _Bell System Technical Journal, 27_, 379&ndash;423, 623&ndash;656. \n",
    "1. Vitter, J.S., 1985. Random Sampling with a Reservoir, _ACM Transactions on Mathematical Software, 11_, 37&ndash;57.\n",
    "1. Wikipedia articles, including https://en.wikipedia.org/wiki/Mersenne_Twister, https://en.wikipedia.org/wiki/Linear_congruential_generator, https://en.wikipedia.org/wiki/Comparison_of_hardware_random_number_generators, https://en.wikipedia.org/wiki/Pseudorandom_number_generator, https://en.wikipedia.org/wiki/List_of_random_number_generators "
   ]
  },
  {
   "cell_type": "markdown",
   "metadata": {},
   "source": [
    "Highly encourage you to look at the customer reviews of _A Million Random Digits with 100,000 Normal Deviates_ on Amazon.com \n",
    "\n",
    "https://www.amazon.com/Million-Random-Digits-Normal-Deviates/dp/0833030477\n",
    "\n",
    "> Such a terrific reference work! But with so many terrific random digits, it's a shame they didn't sort them, to make it easier to find the one you're looking for.\n",
    "\n",
    "> While the printed version is good, I would have expected the publisher to have an audiobook version as well. \n",
    "\n",
    "> The book is a promising reference concept, but the execution is somewhat sloppy. Whatever generator they used was not fully tested. The bulk of each page seems random enough. However at the lower left and lower right of alternate pages, the number is found to increment directly.\n",
    "\n",
    "> If you like this book, I highly recommend that you read it in the original binary. As with most translations, conversion from binary to decimal frequently causes a loss of information and, unfortunately, it's the most significant digits that are lost in the conversion.\n",
    "\n",
    "> At first, I was overjoyed when I received my copy of this book. However, when an enemy in my department showed me HER copy, I found that they were the OPPOSITE of random - they were IDENTICAL."
   ]
  },
  {
   "cell_type": "code",
   "execution_count": 3,
   "metadata": {
    "collapsed": false
   },
   "outputs": [],
   "source": [
    "%matplotlib inline\n",
    "from __future__ import division\n",
    "import math\n",
    "import numpy as np\n",
    "import scipy as sp\n",
    "from scipy.misc import comb, factorial\n",
    "from scipy.optimize import brentq\n",
    "import matplotlib.pyplot as plt\n",
    "from mpl_toolkits.mplot3d import Axes3D"
   ]
  },
  {
   "cell_type": "markdown",
   "metadata": {},
   "source": [
    "## Pseudo-random number generators (PRNGs)\n",
    "\n",
    "Most computers lack the hardware needed to generate truly random numbers. (But see, e.g., https://en.wikipedia.org/wiki/Comparison_of_hardware_random_number_generators)\n",
    "\n",
    "Instead, they use algorithms called PRNGs to generate deterministic sequences from an initial \"seed,\" which generally can be set by the user, for instance to an externally generated random value.\n",
    "\n",
    "Depending on the quality of the PRNG, the sequences behave more or less like sequences of random numbers.\n",
    "\n",
    "Each time a number is generated, the PRNG's \"state\" changes.\n",
    "\n",
    "Must consider fitness for use of PRNGs. What's \"good enough?\"\n",
    "\n",
    "Different requirements for statistics with small data, simulations, statistics with big data, and cryptography."
   ]
  },
  {
   "cell_type": "markdown",
   "metadata": {},
   "source": [
    "## Properties of PRNGs\n",
    "\n",
    "+ number of states\n",
    "    - dimension of state space in bits\n",
    "    \n",
    "+ period\n",
    "    - maximum over initial states of the number of states visited before repeating\n",
    "    - period &le; number of states\n",
    "    - if state has $s$ bits, period $\\le 2^s$\n",
    "    - for some PRNGs, period is much less than number of states\n",
    "    - for some seeds for some PRNGs, number of states visited much less than period\n",
    "    \n",
    "+ $k$-distribution\n",
    "    - suppose $\\{X_i\\}$ is sequence of $P$ $w$-bit integers\n",
    "    - define $t_v(X_i)$ to be the first $v$ bits of $X_i$\n",
    "    - $\\{X_i\\}$ is $k$-distributed to $v$-bit accuracy if each of the $2^{kv}-1$ possible nonzero $kv$-bit vectors occurs equally often among the $P$ $kv$-bit vectors\n",
    "$$ (t_v(X_i),\\,t_v(X_{i+1}), \\ldots ,t_v(X_{i+k-1}))\\quad (0\\le i<P),$$\n",
    "and the zero vector occurs once less often.\n",
    "\n",
    "+ sensitivity to initial state; burn-in\n",
    "    - many PRNGs don't do well if the seed has too many zeros\n",
    "    - some require many iterations before output behaves well\n",
    "    - for some seeds, some PRNGs repeat very quickly"
   ]
  },
  {
   "cell_type": "markdown",
   "metadata": {},
   "source": [
    "## Some PRNGs"
   ]
  },
  {
   "cell_type": "markdown",
   "metadata": {},
   "source": [
    "### Middle Square\n",
    "\n",
    "Dates to Franciscan friar ca. 1240; reinvented by von Neumann, ca. 1949.\n",
    "\n",
    "Take $n$-digit number, square it, use middle $n$ digits as the \"random\" and the new seed.\n",
    "\n",
    "E.g., for $n=4$, take $X_0 = 1234$.\n",
    "\n",
    "$1234^2 = 1522756$, so $X_1 = 2275$.\n",
    "\n",
    "$2275^2 = 5175625$, so $X_2 = 7562$.\n",
    "\n",
    "+ $10^n$ possible states, but not all attainable from a given seed\n",
    "+ period at most $8^n$, but can be very short. E.g., for $n=4$,\n",
    "    - 0000, 0100, 2500, 3792, & 7600 repeat forever\n",
    "    - 0540 &rightarrow; 2916 &rightarrow; 5030 &rightarrow; 3009 &rightarrow; 0540\n"
   ]
  },
  {
   "cell_type": "markdown",
   "metadata": {},
   "source": [
    "## Linear Congruential Generators (LCGs)\n",
    "\n",
    "$$ X_{n+1} = (aX_n +c)\\mod m.$$\n",
    "\n",
    "LCG period is at most $m$.\n",
    "\n",
    "### Hull-Dobell Theorem: the period of an LCG is $m$ for all seeds $X_0$ iff\n",
    "\n",
    "+ $m$ and $c$ are relatively prime\n",
    "+ $a-1$  is divisible by all prime factors of $m$\n",
    "+ $a-1$  is divisible by 4 if $m$ is divisible by 4\n"
   ]
  },
  {
   "cell_type": "markdown",
   "metadata": {},
   "source": [
    "## RANDU\n",
    "\n",
    "RANDU is a particularly bad [linear congruential generator](https://en.wikipedia.org/wiki/Linear_congruential_generator) promulgated in the 1960s and widely copied.\n",
    "\n",
    "RANDU is given by the recursion\n",
    "\n",
    "$$ X_{j+1} = 65539 X_j\\mod 2^{31}.$$\n",
    "\n",
    "It has a short period ($2^{29}$), all its outputs are odd integers. It fails the spectral test.\n",
    "\n",
    "Triples of values from RANDU fall on 15 planes in 3-dimensional space, as shown below."
   ]
  },
  {
   "cell_type": "code",
   "execution_count": 4,
   "metadata": {
    "collapsed": false
   },
   "outputs": [],
   "source": [
    "# RANDU constants\n",
    "A = 0\n",
    "M = 2**31\n",
    "B = 65539\n",
    "\n",
    "randu_period = 2**29\n",
    "randu_word_length = 32\n",
    "\n",
    "def nextRand(x):\n",
    "    return (A + B * x) % M"
   ]
  },
  {
   "cell_type": "code",
   "execution_count": 5,
   "metadata": {
    "collapsed": false
   },
   "outputs": [],
   "source": [
    "# generate triples using RANDU\n",
    "x = 1234567890  # seed\n",
    "reps = 100000\n",
    "xs = np.ndarray(shape = (3,reps))\n",
    "for i in range(reps):\n",
    "    x = nextRand(x)\n",
    "    xs[0][i] = x\n",
    "    x = nextRand(x)\n",
    "    xs[1][i] = x\n",
    "    x = nextRand(x)\n",
    "    xs[2][i] = x"
   ]
  },
  {
   "cell_type": "code",
   "execution_count": 6,
   "metadata": {
    "collapsed": false
   },
   "outputs": [
    {
     "data": {
      "image/png": "[encoded data removed]",
      "text/plain": [
       "<matplotlib.figure.Figure at 0x1068663d0>"
      ]
     },
     "metadata": {},
     "output_type": "display_data"
    }
   ],
   "source": [
    "fig = plt.figure()\n",
    "ax = fig.add_subplot(111, projection='3d')\n",
    "ax.scatter(xs[0],xs[1], xs[2])\n",
    "\n",
    "plt.rcParams['figure.figsize'] = (25.0, 25.0) \n",
    "\n",
    "ax.view_init(-100,110)\n",
    "\n",
    "plt.show()"
   ]
  },
  {
   "cell_type": "markdown",
   "metadata": {},
   "source": [
    "## Wichmann-Hill (1982)\n",
    "\n",
    "Sum of 3 LCGs. Period is 6,953,607,871,644. \n",
    "\n",
    "    def WH(s1, s2, s3):\n",
    "        s1 = (171 * s1) % 30269\n",
    "        s2 = (172 * s2) % 30307\n",
    "        s3 = (170 * s3) % 30323\n",
    "        r = (s1/30269 + s2/30307 + s3/30323) %  1\n",
    "        return [r, s1, s2, s3]\n",
    "\n",
    "#### The right way, the wrong way, and the Microsoft way.\n",
    "WH generally not considered adequate for statistics, but was (nominally) the PRNG in Excel for several\n",
    "generations. Excel did not allow the seed to be set.\n",
    "Moreover, WH in Excel had an implementation bug that persisted for several generations (occasionally gave\n",
    "a negative number; since seed couldn't be set, could not replicate!). See\n",
    "McCullough, B.D., 2008. Microsoft Excel’s ‘Not The Wichmann–Hill’ random number generators\n",
    "_Computational Statistics & Data Analysis_, _52_, 4587&ndash;4593\n",
    "doi:10.1016/j.csda.2008.03.006"
   ]
  },
  {
   "cell_type": "markdown",
   "metadata": {},
   "source": [
    "### Mersenne Twister (MT)  Matsumoto & Nishimura (1997)\n",
    "\n",
    "+ example of \"twisted generalized feedback shift register\"\n",
    "+ Period $2^{19937}-1$, a Mersenne Prime\n",
    "+ $k$-distributed to 32-bit accuracy for all $k \\in \\{1, \\ldots, 623\\}$. \n",
    "+ Passes DIEHARD and most of TestU01 \n",
    "+ Standard in many packages:\n",
    "    - GNU Octave, Maple, MATLAB, Mathematica, Python, R, Stata\n",
    "    - Apache, CMU Common Lisp, Embeddable Common Lisp, Free Pascal, GLib, PHP, GAUSS, IDL, Julia, Ruby, SageMath, Steel Bank Common Lisp, Scilab, Stata, GNU Scientific Library, GNU Multiple Precision Arithmetic Library, Microsoft Visual C++, C++ (v11 and up).\n",
    "    - SPSS and SAS offer MT \n",
    "+ generally considered adequate for statistics (but not for cryptography&mdash;observing 623 outputs allows perfect prediction)\n",
    "+ Usual implementation has 623-dimensional state space, but TinyMT uses only 127 bits\n",
    "+ Seeding complicated, since state is an array\n",
    "+ can take a while to \"burn in,\" especially for seeds with many zeros\n",
    "+ output for close seed states can be close\n",
    "+ 2002 update improves seeding"
   ]
  },
  {
   "cell_type": "code",
   "execution_count": 7,
   "metadata": {
    "collapsed": true
   },
   "outputs": [],
   "source": [
    "# Python implementation of MT19937 from Wikipedia \n",
    "# https://en.wikipedia.org/wiki/Mersenne_Twister#Python_implementation\n",
    "\n",
    "def _int32(x):\n",
    "    # Get the 32 least significant bits.\n",
    "    return int(0xFFFFFFFF & x)\n",
    "\n",
    "class MT19937:\n",
    "\n",
    "    def __init__(self, seed):\n",
    "        # Initialize the index to 0\n",
    "        self.index = 624\n",
    "        self.mt = [0] * 624\n",
    "        self.mt[0] = seed  # Initialize the initial state to the seed\n",
    "        for i in range(1, 624):\n",
    "            self.mt[i] = _int32(\n",
    "                1812433253 * (self.mt[i - 1] ^ self.mt[i - 1] >> 30) + i)\n",
    "\n",
    "    def extract_number(self):\n",
    "        if self.index >= 624:\n",
    "            self.twist()\n",
    "\n",
    "        y = self.mt[self.index]\n",
    "\n",
    "        # Right shift by 11 bits\n",
    "        y = y ^ y >> 11\n",
    "        # Shift y left by 7 and take the bitwise and of 2636928640\n",
    "        y = y ^ y << 7 & 2636928640\n",
    "        # Shift y left by 15 and take the bitwise and of y and 4022730752\n",
    "        y = y ^ y << 15 & 4022730752\n",
    "        # Right shift by 18 bits\n",
    "        y = y ^ y >> 18\n",
    "\n",
    "        self.index = self.index + 1\n",
    "\n",
    "        return _int32(y)\n",
    "\n",
    "    def twist(self):\n",
    "        for i in range(624):\n",
    "            # Get the most significant bit and add it to the less significant\n",
    "            # bits of the next number\n",
    "            y = _int32((self.mt[i] & 0x80000000) +\n",
    "                       (self.mt[(i + 1) % 624] & 0x7fffffff))\n",
    "            self.mt[i] = self.mt[(i + 397) % 624] ^ y >> 1\n",
    "\n",
    "            if y % 2 != 0:\n",
    "                self.mt[i] = self.mt[i] ^ 0x9908b0df\n",
    "        self.index = 0"
   ]
  },
  {
   "cell_type": "markdown",
   "metadata": {},
   "source": [
    "### xorshift family\n",
    "\n",
    "Originated by Marsaglia, 2003.\n",
    "\n",
    "Vigna, S., 2014. Further scramblings of Marsaglia's xorshift generators. https://arxiv.org/abs/1404.0390\n",
    "\n",
    "128-bit xorshift+  Implemented in Python package randomstate https://pypi.python.org/pypi/randomstate/1.10.1\n",
    "\n",
    "    uint64_t s[2];\n",
    "\n",
    "    uint64_t xorshift128plus(void) {\n",
    "\t    uint64_t x = s[0];\n",
    "\t    uint64_t const y = s[1];\n",
    "\t    s[0] = y;\n",
    "\t    x ^= x << 23; // a\n",
    "\t    s[1] = x ^ y ^ (x >> 17) ^ (y >> 26); // b, c\n",
    "\t    return s[1] + y;\n",
    "    }\n",
    "    \n",
    "    \n",
    "1024-bit xorshift+\n",
    "\n",
    "    uint64_t s[16];\n",
    "    int p;\n",
    "    \n",
    "    uint64_t next(void) {\n",
    "        const uint64_t s0 = s[p];\n",
    "        uint64_t s1 = s[p = (p + 1) & 15];\n",
    "        const uint64_t result = s0 + s1;\n",
    "        s1 ^= s1 << 31; // a\n",
    "        s[p] = s1 ^ s0 ^ (s1 >> 11) ^ (s0 >> 30); // b, c\n",
    "    return result;\n",
    "}\n",
    "\n",
    "xorshift+ passes all the tests in BigCrush, has 128-bit state space and period $2^{128}-1$, but is \n",
    "only $(k-1)$-dimensionally equidistributed, where $k$ is the dimension of the distribution of the xorshift\n",
    "generator from which it's derived. E.g., for the 128-bit version, xorshift+ is only 1-dimensionally equidistributed."
   ]
  },
  {
   "cell_type": "markdown",
   "metadata": {},
   "source": [
    "## Other non-cryptographic PRNGs\n",
    "\n",
    "See http://www.pcg-random.org/ and the talk http://www.pcg-random.org/posts/stanford-colloquium-talk.html\n",
    "\n",
    "PCG family permutes the output of a LCG; great statistical properties and very fast and compact.\n",
    "\n",
    "Better than MT, xorshift+, et al.\n",
    "\n",
    "    // *Really* minimal PCG32 code / (c) 2014 M.E. O'Neill / pcg-random.org\n",
    "    // Licensed under Apache License 2.0 (NO WARRANTY, etc. see website)\n",
    "\n",
    "    typedef struct { uint64_t state;  uint64_t inc; } pcg32_random_t;\n",
    "\n",
    "    uint32_t pcg32_random_r(pcg32_random_t* rng)\n",
    "    {\n",
    "        uint64_t oldstate = rng->state;\n",
    "        // Advance internal state\n",
    "        rng->state = oldstate * 6364136223846793005ULL + (rng->inc|1);\n",
    "        // Calculate output function (XSH RR), uses old state for max ILP\n",
    "        uint32_t xorshifted = ((oldstate >> 18u) ^ oldstate) >> 27u;\n",
    "        uint32_t rot = oldstate >> 59u;\n",
    "        return (xorshifted >> rot) | (xorshifted << ((-rot) & 31));\n",
    "    }"
   ]
  },
  {
   "cell_type": "markdown",
   "metadata": {},
   "source": [
    "### Methods based on cryptographic hash functions\n",
    "\n",
    "Cryptographic hash functions have several basic properties:\n",
    "\n",
    "1. produce fixed-length \"digest\" of an arbitrarily long \"message\": $H:\\{0, 1\\}^* \\rightarrow \\{0, 1\\}^L$.\n",
    "1. inexpensive to compute\n",
    "1. non-invertible (\"one-way,\" hard to find pre-image of any hash except by exhaustive enumeration)\n",
    "1. collision-resistant (hard to find $M_1 \\ne M_2$ such that $H(M_1) = H(M_2)$)\n",
    "1. small change to input produces big change to output (\"unpredictable,\" input and output effectively independent)\n",
    "1. equidistributed: bits of the hash are essentially random \n",
    "\n",
    "Summary: as if $H(M)$ is random $L$-bit string is assigned to $M$ in a way that's essentially unique.\n",
    "\n",
    "#### Simple, hash-based PRNG\n",
    "\n",
    "Generate a random string $S$ of reasonable length, e.g., 20 digits.\n",
    "\n",
    "$$ X_i = {\\mbox{Hash}}(S+i),$$\n",
    "\n",
    "where $+$ denotes string concatenation, and the resulting string is interpreted as a (long) hexadecimal number.\n",
    "\n",
    "Sample implementation in Python by Ron Rivest: http://people.csail.mit.edu/rivest/sampler.py\n",
    "\n",
    "Sample implementation in angular-js by Chris Jerdonek: https://github.com/cjerdonek/quick-sampler\n",
    "\n",
    "Sample implementation in JavaScript: https://www.stat.berkeley.edu/~stark/Java/Html/sha256Rand.htm\n",
    "\n",
    "#### More complicated hash-based PRNGs\n",
    "\n",
    "Save randomness to re-seed, etc.\n",
    "\n",
    "See `Fortuna`, https://www.schneier.com/academic/fortuna/"
   ]
  },
  {
   "cell_type": "markdown",
   "metadata": {},
   "source": [
    "## Tests of PRNGS\n",
    "\n",
    "### Theoretical analyses, e.g., Knuth (1969), Marsaglia (1968)\n",
    "\n",
    "### Statistical tests\n",
    "\n",
    "#### Knuth (1969) _The Art of Computer Programming_, v.2 \n",
    "\n",
    "+ Many $\\chi^2$-based tests\n",
    "+ Kolmogorov-Smirnov\n",
    "+ Sphere-packing\n",
    "+ **MORE**\n",
    "\n",
    "#### Marsaglia (1996) DIEHARD tests\n",
    "\n",
    "+ Birthday spacings\n",
    "+ Overlapping permutations of 5 random numbers\n",
    "+ Ranks of binary matrices of various dimensions\n",
    "+ Monkeys at typewriters: count overlapping \"words\" in strings of bits\n",
    "+ Count the 1s in bytes; translate to \"words.\"\n",
    "+ Parking lot test, 100 &times; 100 square lot. Count non-collisions.\n",
    "+ Minimum distance test: Min distance between 8,000 random points in a 10,000 &times; 10,000 square. \n",
    "+ Sphere-packing in a cube at random; diameter of smallest sphere.\n",
    "+ Squeeze test: Multiply 231 by random floats on (0,1) until hitting 1.\n",
    "+ Overlapping sums of 100 random (0,1) floats.\n",
    "+ Runs test for random floats\n",
    "+ #wins and # rolls in 200,000 games of craps\n",
    "\n",
    "#### L’Ecuyer and Simard (2007) TestU01 http://dl.acm.org/citation.cfm?doid=1268776.1268777\n",
    "\n",
    "+ Kolmogorov-Smirnov, Cr&aacute;mer-von Mises, Anderson-Darling, clustering, run and gap, hits in partition of a hypercube (collisions, empty cells, time between visits, ...), birthday spacings, close pairs, coupon collector, sum collector, complexity of bit strings (linear complexity, jump complexity, jump size complexity, Lempel-Ziv complexity), spectral tests on bit strings, autocorrelation of bits, runs and gaps in bits, ..., ranks of binary matrices, longest runs, Hamming weights, random walks, close pairs of binary sequences, \n",
    "\n",
    "#### NIST \n",
    "\n",
    "+ http://csrc.nist.gov/groups/ST/toolkit/rng/stats_tests.html\n",
    "+ http://csrc.nist.gov/groups/ST/toolkit/rng/documents/SP800-22rev1a.pdf"
   ]
  },
  {
   "cell_type": "markdown",
   "metadata": {},
   "source": [
    "<hr />\n",
    "# Random sampling\n",
    "\n",
    "A _simple random sample of size $k$ from a population of size $n$_ is a sample drawn in such a way that each of the ${n \\choose k}$ possible subsets of size $k$ is equally likely.\n",
    "\n",
    "Given a good source of randomness, there are many ways to operationalize this definition to draw simple random samples."
   ]
  },
  {
   "cell_type": "markdown",
   "metadata": {},
   "source": [
    "### Algorithm `PIKK` (permute indices and keep $k$)\n",
    "\n",
    "For instance, if we had a way to generate independent, identically distributed (iid) $U[0,1]$ random numbers, we could do it as follows:\n",
    "\n",
    "**Algorithm `PIKK`**\n",
    "\n",
    "+ assign iid $U[0,1]$ numbers to the $n$ elements of the population\n",
    "+ the sample consists of the $k$ items assigned the smallest random numbers (break ties randomly)\n",
    "\n",
    "+ amounts to generating a random permutation of the population, then taking first $k$.\n",
    "+ if the numbers really are iid, every permutation is equally likely, and it follows that the first $k$ are an SRS\n",
    "+ requires $n$ random numbers (and sorting)"
   ]
  },
  {
   "cell_type": "code",
   "execution_count": 144,
   "metadata": {
    "collapsed": false
   },
   "outputs": [
    {
     "data": {
      "text/plain": [
       "{19, 32, 55, 69, 80}"
      ]
     },
     "execution_count": 144,
     "metadata": {},
     "output_type": "execute_result"
    }
   ],
   "source": [
    "def PIKK(n,k):\n",
    "    return set(np.argsort(np.random.random(n))[0:k])\n",
    "\n",
    "PIKK(100,5)"
   ]
  },
  {
   "cell_type": "markdown",
   "metadata": {},
   "source": [
    "There are more efficient ways to generate a random permutation than assigning a number to each element and sorting, for instance the \"Fisher-Yates shuffle\" or \"Knuth shuffle\" (although Knuth attributes it to Durstenfeld). \n",
    "\n",
    "**Algorithm Fisher-Yates-Knuth-Durstenfeld `shuffle` (backwards version)**\n",
    "\n",
    "    for i=1, ... n-1:\n",
    "        J <- random integer between i and n (inclusive)\n",
    "        a[J], a[i] = a[i], a[J]\n",
    "        \n",
    "This requires the ability to generate independent random integers on various ranges. Doesn't require sorting.\n",
    "\n",
    "There's a version suitable for streaming, i.e., generating a random permutation of a list that has an unknown number of elements:\n",
    "\n",
    "**Algorithm Fisher-Yates-Knuth-Durstenfeld `shuffle` (streaming version)**\n",
    "\n",
    "    i <- 0\n",
    "    a = []\n",
    "    while there are records left:\n",
    "        i <- i+1\n",
    "        J <- random integer between 1 and i (inclusive)\n",
    "        if J < i:\n",
    "            a[i] <- a[J]\n",
    "            a[J] <- next record\n",
    "        else:\n",
    "            a[i] <- next record\n",
    "\n",
    "Again, need to be able to generate independent uniformly distributed random integers."
   ]
  },
  {
   "cell_type": "code",
   "execution_count": 175,
   "metadata": {
    "collapsed": false
   },
   "outputs": [
    {
     "name": "stdout",
     "output_type": "stream",
     "text": [
      "[3, 6, 2, 4, 1, 8, 7, 5, 0, 9]\n"
     ]
    }
   ],
   "source": [
    "def fykd(a):\n",
    "    for i in range(len(a)-2):\n",
    "        J = np.random.randint(i,len(a))\n",
    "        a[i], a[J] = a[J], a[i]\n",
    "    return(a)\n",
    "\n",
    "print fykd(range(10))"
   ]
  },
  {
   "cell_type": "markdown",
   "metadata": {},
   "source": [
    "### Proof that the streaming Fisher-Yates-Knuth-Durstenfeld algorithm works\n",
    "\n",
    "Induction: \n",
    "\n",
    "For $i=1$, obvious.\n",
    "\n",
    "At stage $i$, suppose all $i!$ permutations are equally likely. For each such permutation, there are\n",
    "$i+1$ distinct, equally likely permutations at stage $i+1$, resulting from swapping the $i+1$st item with one\n",
    "of the first $i$, or putting it in position $i+1$. These possibilities are mutually exclusive of\n",
    "the permutations attainable from a different permutation of the first $i$ items.\n",
    "\n",
    "Thus, this enumerates all $(i+1)i! = (i+1)!$ permutations of $(i+1)$ items, and they are equally likely. &#x25A0;"
   ]
  },
  {
   "cell_type": "markdown",
   "metadata": {},
   "source": [
    "## A good way to get a faulty shuffle\n",
    "\n",
    "Sort using a \"random\" comparison function, e.g.,\n",
    "\n",
    "    def RandomSort(a,b):\n",
    "        return (0.5 - np.random.random())\n",
    "\n",
    "Fails the basic properties of an ordering, e.g., transitivity, reflexiveness, etc. Output also depends on sorting algorithm. \n",
    "\n",
    "#### The right way, the wrong way, and the Microsoft way.\n",
    "Notoriously used by Microsoft to offer a selection of browsers in the EU. Resulted in IE being 5th of 5 about half the time in IE and about 26% of the time in Chrome, but only 6% of the time in Safari (4th about 40% of the time).\n"
   ]
  },
  {
   "cell_type": "markdown",
   "metadata": {},
   "source": [
    "### Cormen et al. (2009) Algorithm `Random_Sample`\n",
    "\n",
    "+ recursive algorithm\n",
    "+ requires only $k$ random numbers (integers)\n",
    "+ does not require sorting"
   ]
  },
  {
   "cell_type": "code",
   "execution_count": 145,
   "metadata": {
    "collapsed": false
   },
   "outputs": [
    {
     "data": {
      "text/plain": [
       "{14, 27, 71, 75, 96}"
      ]
     },
     "execution_count": 145,
     "metadata": {},
     "output_type": "execute_result"
    }
   ],
   "source": [
    "def Random_Sample(n, k):  # from Cormen et al.\n",
    "    if k==0:\n",
    "        return set()\n",
    "    else:\n",
    "        S = Random_Sample(n-1, k-1)\n",
    "        i = np.random.randint(1,n) \n",
    "        if i in S:\n",
    "            S = S.union([n])\n",
    "        else:\n",
    "            S = S.union([i])\n",
    "    return S\n",
    "\n",
    "Random_Sample(100,5)"
   ]
  },
  {
   "cell_type": "markdown",
   "metadata": {},
   "source": [
    "[**To do: prove by recursion that the method works.**]\n",
    "\n",
    "That this algorithm produces an SRS is not obvious. For illustration, consider the case $n=10$, $k=2$.\n",
    "\n",
    "The first recursive call decreases $k$ to 1. The second decreases $k$ to 0, so $S=\\{\\}$ and we return up a level\n",
    "of recursion.  \n",
    "That level draws $i = i_1$ from $\\{1, \\ldots , 9\\}$. This $i$ isn't in $S$, so each value in $\\{1, \\ldots, 9\\}$ \n",
    "has probability $1/9$ of being in $S$ at this stage. \n",
    "Now we pop to the top recursive level and draw $i =i_2$ from $\\{1, \\ldots, 10\\}$, independently\n",
    "of $i_1$.\n",
    "\n",
    "Consider two inclusion probabilities: $\\Pr \\{ S \\supset \\{1, 2\\} \\}$ and $\\Pr \\{ S \\supset \\{1, 10\\} \\}$.\n",
    "\n",
    "$$ \\Pr(S \\supset \\{1,2\\}) = P(\\{i_1=1 \\mbox{ and } i_2=2 \\} \\mbox{ or }  \\{ i_1=2 \\mbox{ and } i_2=1 \\}) = P(i_1=1 \\mbox{ and } i_2=2) + P(i_1=2 \\mbox{ and } i_2=1)\n",
    "= (1/9)(1/10)+(1/9)(1/10) = 2/90 = \\frac{1}{{10 \\choose 2 }}.$$\n",
    "\n",
    "$$ \\Pr (S \\supset \\{1,10\\}) = P(i_1=1 \\mbox{ and } \\{i_2=10 \\mbox{ or } i_2=1\\})\n",
    "= (1/9)(1/10 + 1/10) = 2/90.$$"
   ]
  },
  {
   "cell_type": "markdown",
   "metadata": {},
   "source": [
    "`Random_Sample` requires $k$ independent random integers uniformly distributed on $\\{1, \\ldots, m\\}$, for $m = n-k, n-k+1, \\ldots, n$. \n",
    "\n",
    "A standard way to generate a random integer is to start with $X \\sim U[0,1)$ and define $Y \\equiv 1 + \\lfloor mX \\rfloor$. \n",
    "\n",
    "In theory, that's fine. But in practice, $X$ is not really $U[0,1)$ but instead is derived by normalizing a PRN\n",
    "that's uniform on $w$-bit integers. Then, unless $m$ is a power of 2, the distribution of $Y$ isn't uniform on $\\{1, \\ldots, m\\}$. For $m < 2^w$, the ratio of the largest to smallest selection probability \n",
    "is, to first order,  $1+ m 2^{-w}$.\n",
    "\n",
    "For $m = 10^9$ and $w=32$, $1 + m 2^{-w} \\approx 1.233$. That could easily matter.\n",
    "\n",
    "<!-- For fixed $m$, define $k^-(i) \\equiv \\min \\{k : k2^{-w} \\ge i/m \\}$ and \n",
    "$k^+(i) \\equiv \\max \\{k : k2^{-w} < (i+1)/m \\} = k^-(i+1)-1$, with $k^+(m) \\equiv 2^w$.\n",
    "\n",
    "Then the maximum ratio of selection probabilities is \n",
    "\n",
    "$$ \\max_{i, j \\in \\{0, \\ldots, m-1\\}} \\frac{k^+(i) - k^-(i)}{k^+(j) = k^-(j)} =\n",
    "\\frac{ \\max_{i=0}^{m-1} (k^+(i) - k^-(i))}{\\min_{i=0}^{m-1} (k^+(i) - k^-(i))} =\n",
    "\\frac{ \\max_{i=0}^{m-1} (k^-(i+1) - k^-(i))}{\\min_{i=0}^{m-1} (k^-(i+1) - k^-(i))}.$$\n",
    "\n",
    "$$\\frac{\\lceil(1/m)/2^{-w} \\rceil + 1}{\\lfloor(1/m)/2^{-w} \\rfloor -1}.$$\n",
    "-->"
   ]
  },
  {
   "cell_type": "markdown",
   "metadata": {},
   "source": [
    "A better way to generate a (pseudo-)random integer on $\\{1, \\ldots m\\}$ from a (pseudo-random) $w$-bit integer in practice is as follows:\n",
    "\n",
    "1. Set $\\mu = \\log_2(m-1)$.\n",
    "1. Define a $w$-bit _mask_ consisting of $\\mu$ bits set to 1 and $(w-\\mu)$ bits set to zero.\n",
    "1. Generate a random $w$-bit integer $Y$. \n",
    "1. Define $y$ to be the bitwise `and` of $y$ and the mask.\n",
    "1. If $y \\le m-1$, output $x = y+1$; otherwise, return to step 3.\n",
    "\n",
    "This is how random integers are generated in numpy by `numpy.random.randint()`.\n",
    "However, `numpy.random.choice()` does something else that's biased: it finds the closest integer to $mX$.\n",
    "\n",
    "In `R`, one would generally use the function `sample(1:m, k, replace=FALSE)` to draw pseudo-random\n",
    "integers. \n",
    "It seems that `sample()` uses the faulty `1 + floor(m*X)` approach. "
   ]
  },
  {
   "cell_type": "markdown",
   "metadata": {},
   "source": [
    "## Reservoir algorithms \n",
    "\n",
    "The previous algorithms require $n$ to be known.\n",
    "There are _reservoir_ algorithms that do not.\n",
    "Moreover, the algorithms are suitable for streaming (aka _online_) use: items are examined\n",
    "sequentially and either enter into the reservoir, or, if not, are never revisited."
   ]
  },
  {
   "cell_type": "markdown",
   "metadata": {},
   "source": [
    "## Algorithm `R`, Waterman (per Knuth, 1997)\n",
    "+ Put first $k$ items into the _reservoir_\n",
    "+ when item $k+j$ is examined, either skip it (with probability $j/(k+j)$) or swap for a uniformly selected item in the reservoir (with probability $k/(k+j)$)\n",
    "+ naive version requires generating at most $n-k$ random numbers\n",
    "+ closely related to FYKD shuffle"
   ]
  },
  {
   "cell_type": "code",
   "execution_count": 146,
   "metadata": {
    "collapsed": false
   },
   "outputs": [
    {
     "data": {
      "text/plain": [
       "{6, 27, 34, 58, 96}"
      ]
     },
     "execution_count": 146,
     "metadata": {},
     "output_type": "execute_result"
    }
   ],
   "source": [
    "def R(n,k):  # Waterman's algorithm R\n",
    "    S = range(1, k+1)  # fill the reservoir\n",
    "    for t in range(k+1,n+1):\n",
    "        i = np.random.randint(1,t)\n",
    "        if i <= k:\n",
    "            S[i-1] = t\n",
    "    return set(S)\n",
    "\n",
    "R(100,5)"
   ]
  },
  {
   "cell_type": "markdown",
   "metadata": {},
   "source": [
    "Like `Random-Sample`, the proof that algorithm `R` generates an SRS uses the ability to generate independent random integers, uniformly distributed on $\\{1, \\ldots, m \\}$."
   ]
  },
  {
   "cell_type": "markdown",
   "metadata": {},
   "source": [
    "## Algorithm Z, Vitter (1985)\n",
    "\n",
    "Much more efficient than `R`, using random skips. Works in time essentially linear in $k$."
   ]
  },
  {
   "cell_type": "markdown",
   "metadata": {},
   "source": [
    "<hr />\n",
    "# Possibility Bounds using the Pidgeon-Hole Principle\n",
    "\n",
    "We now consider whether, in principle, a particular PRNG combined with a particular sampling algorithm could generate an SRS of size $k$ from a population of size $n$.\n",
    "\n",
    "We also consider whether a particular PRNG combined with an \"optimal\" sampling algorithm that minimized the number of random bits required to generate samples, rather than \"wasting\" random bits, could generate an SRS of sice $k$ from a population of size $n$."
   ]
  },
  {
   "cell_type": "markdown",
   "metadata": {},
   "source": [
    "## A lemma and some corollaries.\n",
    "\n",
    "### Lemma: One sample per state\n",
    "_If an algorithm uses at least one (entire) output of a PRNG, each state of the PRNG produces at most one distinct output of the algorithm._\n",
    "\n",
    "For instance, an algorithm for drawing a sample might \"consume\" more than one state of the PRNG, but each initial state of the PRNG yields at most one sample.\n",
    "\n",
    "### Corollary 1.\n",
    "The number of distinct permutations of a set of $n$ items attainable by assigning a PRN to each element and sorting the result is less than or equal to the number of states of the PRNG.\n",
    "\n",
    "### Corollary 2.\n",
    "The number of distinct samples of size $k$ of a set of $n$ items attainable by a method that uses at least one PRN state to select the sample is less than or equal to the number of states of the PRNG."
   ]
  },
  {
   "cell_type": "markdown",
   "metadata": {},
   "source": [
    "### Proposition 1.\n",
    "_The algorithm that constructs permutations of a set of $n$ objects by assigning a PRN to each, then sorting, cannot construct all permutations of a set of $n$ objects if $n! > S$, where $S$ is the number of states of the PRNG.\n",
    "In particular, such an algorithm cannot construct all permutations of a set of 13 or more objects if the PRNG has $2^{32}$ states or fewer, and cannot construct all permutations of a set of 35 or more objects, if the PRNG has\n",
    "$2^{128} states or fewer._\n",
    "\n",
    "Proof: \n",
    "$$13! = 6,227,020,800 > 2^{32} = 4,294,967,296 > 12! = 479,001,600$$\n",
    "\n",
    "$$ 35! = 1.03331479664 \\times 10^{40} > 2^{128} \\approx 3.402e+38 > 34! = 2.63130836934 \\times 10^{35} $$\n",
    "&#x25A0;\n",
    "\n",
    "\n",
    "Therefore, the usual proof that PIKK gives an SRS cannot possibly apply for $n \\ge 13$\n",
    "if the PRNG has a 32-bit state space, nor for $n \\ge 35$ if the PRNG has a 128-bit state space. \n",
    "\n",
    "To show that PIKK still works would require close analysis of the frequencies with which the permutations corresponding to distinct samples of size $k$ each occur.\n",
    "\n",
    "If the PRNG can attain all $2^w$ states, then unless $2^w$ is divisible by ${n \\choose k}$, \n",
    "it's in impossible that there are an equal number of permutations corresponding to \n",
    "each sample of size $k$ from $n$.\n",
    "Since ${n \\choose k }$ is generally not a power of 2, that's the usual situation."
   ]
  },
  {
   "cell_type": "code",
   "execution_count": 147,
   "metadata": {
    "collapsed": false
   },
   "outputs": [
    {
     "name": "stdout",
     "output_type": "stream",
     "text": [
      "6227020800.0 4294967296 479001600.0\n",
      "1.03331479664e+40 340282366920938463463374607431768211456 38.531839445 2.9523279904e+38\n"
     ]
    }
   ],
   "source": [
    "print factorial(13), 2**32, factorial(12)\n",
    "print factorial(35), 2**128, math.log(2**128,10), factorial(34)"
   ]
  },
  {
   "cell_type": "markdown",
   "metadata": {},
   "source": [
    "### Proposition 2.\n",
    "_Any algorithm that constructs a subset of $k$ of $n$ objects by using at least one PRNG state per sample cannot construct all $n \\choose k$ subsets if the number of states of the PRNG is less than $n \\choose k$.\n",
    "In particular, no PRNG with 32-bit or smaller state space can construct all samples of size 10 from a population of \n",
    "size 47 or more. No PRNG with 128-bit or smaller state space can construct all samples of size 25 from a population of size 366 or more. The Mersenne Twister cannot construct all samples of size 100 from a population of size ??? or more._\n"
   ]
  },
  {
   "cell_type": "code",
   "execution_count": 214,
   "metadata": {
    "collapsed": false
   },
   "outputs": [
    {
     "name": "stdout",
     "output_type": "stream",
     "text": [
      "5178066751.0 4294967296 4076350421.0\n",
      "3.40551184526e+38 340282366920938463463374607431768211456 3.17289491593e+38\n"
     ]
    }
   ],
   "source": [
    "# for 2**32 and 2**128-bit state spaces\n",
    "print sp.special.binom(47,10), 2**32, sp.special.binom(46,10)\n",
    "print sp.special.binom(366,25), 2**128, sp.special.binom(365,25)\n",
    "\n",
    "# For the Mersenne Twister, need to use bounds\n",
    "# FIX ME"
   ]
  },
  {
   "cell_type": "markdown",
   "metadata": {},
   "source": [
    "## Bounds on combinations\n",
    "\n",
    "Bound ${n \\choose k}$.\n",
    "\n",
    "#### Entropy bounds\n",
    "\n",
    "$$ \\frac{2^{nH(k/n)}}{n+1} \\le {n \\choose k} \\le 2^{nH(k/n)},$$\n",
    "\n",
    "where $H(q) \\equiv -q \\log_2(q) - (1-q) \\log_2 (1-q)$.\n",
    "\n",
    "#### Stirling's approximation bounds\n",
    "\n",
    "For $\\ell \\ge 1$ and $m \\ge 2$,\n",
    "\n",
    "$$ { {\\ell m } \\choose { \\ell }} \\ge \\frac{m^{m(\\ell-1)+1}}{\\sqrt{\\ell} (m-1)^{(m-1)(\\ell-1)}}. $$"
   ]
  },
  {
   "cell_type": "code",
   "execution_count": 9,
   "metadata": {
    "collapsed": true
   },
   "outputs": [],
   "source": [
    "def H(p):  # entropy of a Bernoulli(q) variable\n",
    "    return -p*math.log(p, 2) - (1-p)*math.log(1-p, 2)\n",
    "\n",
    "\n",
    "def Hcomb(n,k):  # entropy of simple random sampling of k of n \n",
    "    # entropy is -\\sum p_i \\log_2 p_i. Here, all p_i=1/nCk.\n",
    "    return -math.log(1/comb(n,k), 2)\n",
    "    \n",
    "\n",
    "def comb_upper_bound_H(n, k):  # entropy upper bound on nCk\n",
    "    p = k/n\n",
    "    return 2**(n*H(p))\n",
    "\n",
    "\n",
    "def comb_lower_bound_H(n, k): # entropy upper bound on nCk\n",
    "    p = k/n\n",
    "    return 2**(n*H(p))/(n+1)\n",
    "\n",
    "def comb_lower_bound_Stirling(l,m): # lower bound on (lm)Cl\n",
    "    return m**(m*(l-1)+1)/(math.sqrt(l)*(m-1)**((m-1)*(l-1)))"
   ]
  },
  {
   "cell_type": "code",
   "execution_count": null,
   "metadata": {
    "collapsed": false
   },
   "outputs": [],
   "source": [
    "print comb_lower_bound_Stirling(100,10**6)\n",
    "print comb_lower_bound_H(100*10**6,100)"
   ]
  },
  {
   "cell_type": "code",
   "execution_count": 149,
   "metadata": {
    "collapsed": false
   },
   "outputs": [],
   "source": [
    "# number of bits per period divided by log_2(choose(n,k))?\n",
    "def sample_counter(n, k, period, word_length):\n",
    "    return (period*word_length) > math.log(comb(n, k), 2)*comb(n, k)\n",
    "\n",
    "\n",
    "def sample_counter_lb(n, k, period, word_length):\n",
    "    ub_bits_for_all_samples = (n*H(k/n) - math.log(n+1, 2))*(2**(n*H(k/n)))/(n+1)\n",
    "    return (period*word_length) > ub_bits_for_all_samples"
   ]
  },
  {
   "cell_type": "code",
   "execution_count": 150,
   "metadata": {
    "collapsed": false
   },
   "outputs": [
    {
     "name": "stdout",
     "output_type": "stream",
     "text": [
      "31\n",
      "32\n",
      "33\n",
      "34\n",
      "35\n",
      "for randu, can't do  35\n"
     ]
    }
   ],
   "source": [
    "# RANDU calculation\n",
    "n = 30\n",
    "k = 20\n",
    "can_do = True\n",
    "period = randu_period\n",
    "word_length = randu_word_length\n",
    "\n",
    "while can_do:\n",
    "    n = n+1\n",
    "    can_do = sample_counter_lb(n, k, period, word_length)\n",
    "    print n\n",
    "print \"for randu, can't do \",n"
   ]
  },
  {
   "cell_type": "markdown",
   "metadata": {},
   "source": [
    "# Most efficient coding/a single period of the PRNG\n",
    "\n",
    "Suppose we generate samples of size $k$ from a population of size $n$.\n",
    "There are ${n \\choose k}$ such samples.\n",
    "The most efficient coding scheme requires $\\log_2{n \\choose k}$ bits to encode all possible samples.\n",
    "\n",
    "A PRNG generates a \"word\" (typically an integer) using a fixed number of bits.\n",
    "The period of the PRNG tells us the maximum number of words the PRNG can generate starting from a particular seed.\n",
    "The period times the word length is the number of random bits that the PRNG can generate.\n",
    "If this number is less than the number of bits per sample encoding times the number of samples, ${n \\choose k}\\log_2{n \\choose k}$, then it is not possible to generate all possible samples in one period of the PRNG.\n",
    "\n",
    "For a particular PRNG with known period and word length (typically 32 bits), we can fix $k$ and calculate the largest $n$ for which the PRNG can generate all possible samples.\n",
    "Similarly, we can fix $n$ and find the largest $k$ for which the PRNG can generate all possible samples.\n",
    "Note, when we vary $k$ it is only interesting for $1 \\leq k \\leq \\lfloor{\\frac{n}{2}}\\rfloor$.\n",
    "Without loss of generality, if $k > \\lfloor{\\frac{n}{2}}\\rfloor$, we can think of the sampling as selecting individuals to *exclude* from the sample.\n",
    "\n",
    "For large $n$, it's costly to compute binomial coefficients.\n",
    "Instead, we use the following bound:\n",
    "\n",
    "$$ \\frac{2^{nH(k/n)}}{n+1} \\leq {n \\choose k} \\leq 2^{nH(k/n)}$$\n",
    "\n",
    "When dealing with the Mersenne Twister, we substitute the lower bound for ${n \\choose k}$, giving overly optimistic estimates of maximum $n$.\n",
    "\n",
    "## RANDU"
   ]
  },
  {
   "cell_type": "code",
   "execution_count": 151,
   "metadata": {
    "collapsed": false
   },
   "outputs": [
    {
     "name": "stdout",
     "output_type": "stream",
     "text": [
      "[33.0, 57.0, 105.0, 503.0]\n"
     ]
    }
   ],
   "source": [
    "k = [20, 50, 100, 500]\n",
    "maxn = [0, 0, 0, 0]\n",
    "i = 0\n",
    "step_size = 10\n",
    "for kk in k:\n",
    "    can_do = True\n",
    "    n = kk\n",
    "    while can_do:\n",
    "        n = n + step_size\n",
    "        can_do = sample_counter_lb(n, kk, randu_period, randu_word_length)\n",
    "#    print n\n",
    "    \n",
    "    count = lambda x: randu_period*randu_word_length - math.log(comb(x, kk), 2)*comb(x, kk)\n",
    "    if kk==(n-step_size):\n",
    "        llim = n - step_size + 1\n",
    "    else:\n",
    "        llim = n - step_size\n",
    "    maxn[i] = np.trunc(brentq(count, llim, n))\n",
    "    i = i + 1\n",
    "    \n",
    "print(maxn)"
   ]
  },
  {
   "cell_type": "code",
   "execution_count": 152,
   "metadata": {
    "collapsed": false
   },
   "outputs": [
    {
     "name": "stdout",
     "output_type": "stream",
     "text": [
      "[5, 10, 9, 6]\n"
     ]
    }
   ],
   "source": [
    "n = [10, 20, 50, 100]\n",
    "maxk = [0, 0, 0, 0]\n",
    "i = 0\n",
    "step_size = 1\n",
    "for nn in n:\n",
    "    can_do = True\n",
    "    k = 0\n",
    "    while can_do and k < nn/2:\n",
    "        k = k + step_size\n",
    "        can_do = sample_counter(nn, k, randu_period, randu_word_length)\n",
    "    maxk[i] = k\n",
    "    i = i + 1\n",
    "    \n",
    "print(maxk)"
   ]
  },
  {
   "cell_type": "markdown",
   "metadata": {},
   "source": [
    "## Mersenne Twister"
   ]
  },
  {
   "cell_type": "code",
   "execution_count": 153,
   "metadata": {
    "collapsed": false
   },
   "outputs": [],
   "source": [
    "mersenne_twister_period = (2**19937) - 1\n",
    "mersenne_twister_word_length = 32"
   ]
  },
  {
   "cell_type": "code",
   "execution_count": 154,
   "metadata": {
    "collapsed": false
   },
   "outputs": [
    {
     "name": "stdout",
     "output_type": "stream",
     "text": [
      "1100\n",
      "2100\n",
      "3100\n",
      "4100\n",
      "5100\n",
      "6100\n",
      "7100\n",
      "8100\n",
      "9100\n",
      "10100\n",
      "11100\n",
      "12100\n",
      "13100\n",
      "14100\n",
      "15100\n",
      "16100\n",
      "17100\n",
      "18100\n",
      "19100\n",
      "20100\n",
      "21100\n",
      "22100\n",
      "23100\n",
      "24100\n",
      "25100\n",
      "26100\n",
      "27100\n",
      "28100\n",
      "29100\n",
      "30100\n",
      "31100\n",
      "32100\n",
      "33100\n",
      "34100\n",
      "35100\n",
      "36100\n",
      "37100\n",
      "38100\n",
      "39100\n",
      "40100\n",
      "41100\n",
      "42100\n",
      "can't do  42100\n"
     ]
    }
   ],
   "source": [
    "n = 100\n",
    "k = 100\n",
    "can_do = True\n",
    "while can_do and n<1000000:\n",
    "    n = n+1000\n",
    "    can_do = sample_counter_lb(n, k, mersenne_twister_period, mersenne_twister_word_length)\n",
    "    print n\n",
    "print \"can't do \",n"
   ]
  },
  {
   "cell_type": "code",
   "execution_count": 155,
   "metadata": {
    "collapsed": false
   },
   "outputs": [
    {
     "name": "stdout",
     "output_type": "stream",
     "text": [
      "[23434807, 41570.0]\n"
     ]
    }
   ],
   "source": [
    "k = [50, 100]\n",
    "maxn = [0, 0]\n",
    "i = 0\n",
    "step_size = 10**4\n",
    "for kk in k:\n",
    "    can_do = True\n",
    "    n = kk\n",
    "    while can_do:\n",
    "        n = n + step_size\n",
    "        can_do = sample_counter_lb(n, kk, mersenne_twister_period, mersenne_twister_word_length)\n",
    "    \n",
    "    # This doesn't seem to work. I wonder if it's a problem with long int math.\n",
    "#    count = lambda x: mersenne_twister_period*mersenne_twister_word_length - long((x*H(kk/x) - math.log(x+1, 2))*(2**(x*H(kk/x))/(x+1)))\n",
    "#    maxn[i] = brentq(count, n-step_size, n)\n",
    "    while not can_do:\n",
    "        n = n - 1\n",
    "        can_do = sample_counter_lb(n, kk, mersenne_twister_period, mersenne_twister_word_length)\n",
    "    maxn[i] = n\n",
    "    i = i + 1\n",
    "    step_size = step_size/100\n",
    "print maxn"
   ]
  },
  {
   "cell_type": "markdown",
   "metadata": {},
   "source": [
    "# Naive Sampling: ANS\n",
    "\n",
    "This algorithm assigns a PRN to each of the $n$ items, then sorts and takes top $k$ items.\n",
    "We ask:\n",
    "- can all permutations occur?\n",
    "- can all $nPk$ permutations occur?\n",
    "- can all $nCk$ samples occur?\n",
    "\n",
    "We look at RANDU and the Mersenne Twister.\n",
    "Unfortunately, due to overflow errors, we don't have results for the Mersenne Twister yet."
   ]
  },
  {
   "cell_type": "code",
   "execution_count": 156,
   "metadata": {
    "collapsed": false
   },
   "outputs": [
    {
     "name": "stdout",
     "output_type": "stream",
     "text": [
      "[[  45.40777855  -99.        ]\n",
      " [  34.73680601  -99.        ]\n",
      " [  58.46911336  -99.        ]\n",
      " [ 106.60976355  -99.        ]]\n"
     ]
    }
   ],
   "source": [
    "# All permutations\n",
    "\n",
    "k = np.array([10, 20, 50, 100])\n",
    "all_perm = np.zeros((4, 2))\n",
    "period_lengths = np.array([randu_period, mersenne_twister_period])\n",
    "i = 0\n",
    "for kk in k:\n",
    "    j = 0\n",
    "    for p in period_lengths:\n",
    "        count = lambda nn: p - long((2**(nn*H(kk/nn))/(nn+1)))\n",
    "        if count(10000)>0:\n",
    "            all_perm[i, j] = -99\n",
    "        else:\n",
    "            all_perm[i, j] = brentq(count, kk+1, 10000)\n",
    "        j = j + 1\n",
    "    i = i + 1\n",
    "print(all_perm)"
   ]
  },
  {
   "cell_type": "code",
   "execution_count": 157,
   "metadata": {
    "collapsed": false
   },
   "outputs": [
    {
     "name": "stdout",
     "output_type": "stream",
     "text": [
      "[[  17.59068915  -99.        ]\n",
      " [  26.35785924  -99.        ]\n",
      " [  55.06263187  -99.        ]\n",
      " [ 104.34016714  -99.        ]]\n"
     ]
    }
   ],
   "source": [
    "# can all nPk permutations occur?\n",
    "\n",
    "k = np.array([10, 20, 50, 100])\n",
    "all_perm = np.zeros((4, 2))\n",
    "period_lengths = np.array([randu_period, mersenne_twister_period])\n",
    "i = 0\n",
    "for kk in k:\n",
    "    j = 0\n",
    "    for p in period_lengths:\n",
    "        count = lambda nn: p - long(factorial(nn)/factorial(kk))\n",
    "        if count(150)>0:\n",
    "            all_perm[i, j] = -99\n",
    "        else:\n",
    "            all_perm[i, j] = brentq(count, kk+1, 150)\n",
    "        j = j + 1\n",
    "    i = i + 1\n",
    "print(all_perm)"
   ]
  },
  {
   "cell_type": "code",
   "execution_count": 158,
   "metadata": {
    "collapsed": false
   },
   "outputs": [
    {
     "name": "stdout",
     "output_type": "stream",
     "text": [
      "[[  38.42577637  -99.        ]\n",
      " [  32.92813183  -99.        ]\n",
      " [  57.35133302  -99.        ]\n",
      " [ 105.59084038  -99.        ]]\n"
     ]
    }
   ],
   "source": [
    "# What's the largest n for which all nCk samples can occur?\n",
    "\n",
    "k = np.array([10, 20, 50, 100])\n",
    "all_perm = np.zeros((4, 2))\n",
    "period_lengths = np.array([randu_period, mersenne_twister_period])\n",
    "i = 0\n",
    "for kk in k:\n",
    "    j = 0\n",
    "    for p in period_lengths:\n",
    "        count = lambda nn: p - long(comb(nn,kk))\n",
    "        if count(150)>0:\n",
    "            all_perm[i, j] = -99\n",
    "        else:\n",
    "            all_perm[i, j] = brentq(count, kk+1, 150)\n",
    "        j = j + 1\n",
    "    i = i + 1\n",
    "print(all_perm)"
   ]
  },
  {
   "cell_type": "markdown",
   "metadata": {},
   "source": [
    "## Algorithm S"
   ]
  },
  {
   "cell_type": "markdown",
   "metadata": {},
   "source": [
    "## Something else?"
   ]
  },
  {
   "cell_type": "markdown",
   "metadata": {},
   "source": [
    "## Common packages\n",
    "\n",
    "| Package/       | default    | other      | SRS algorithm  |\n",
    "| Language       |  PRNG      | PRNG       |                |\n",
    "|:---------------|:----------:|:----------:|:--------------:|\n",
    "| SAS 9.2        | MT         | 32-bit LCG |                |\n",
    "| SPSS 20.0      | 32-bit LCG | MT1997ar   |                |\n",
    "| SPSS &le; 12.0 | 32-bit LCG |            |                |\n",
    "| STATA ???      | KISS       |            |                |\n",
    "| R              | MT         |            |                |\n",
    "| python         | MT         |            | random.sample()|\n",
    "| MATLAB         | MT         |            |                |\n",
    "\n",
    "**Key.** MT = Mersenne Twister. LCG = linear congruential generator. ANS = \"assign a number to each of the $n$ items and sort.\" The KISS generator combines 4 generators of three types: two multiply-with-carry\n",
    "generators, the 3-shift register SHR3 and the congruential generator CONG."
   ]
  },
  {
   "cell_type": "markdown",
   "metadata": {},
   "source": [
    "## Best Practices\n",
    "\n",
    "+ Use a source of real randomness to set the seed with a substantial amount of entropy, e.g., 20 rolls of 10-sided dice.\n",
    "+ Record the seed so your analysis is reproducible.\n",
    "+ Use a PRNG at least as good as the Mersenne Twister. Avoid linear congruential generators and the Wichmann-Hill generator.\n",
    "+ Use open-source software, and record the version of the software you use.\n",
    "+ Use a sampling algorithm that does not \"waste randomness.\" Avoid permuting the entire population.\n",
    "+ Be aware of discretization issues in the sampling algorithm; many methods assume the PRNG produces $U[0,1]$ or $U[0,1)$ random numbers, rather than (an approximation to) numbers that are uniform on $w$-bit binary integers.\n",
    "+ Consider the size of the problem: are your PRNG and sampling algorithm adequate?\n",
    "+ Avoid \"tests of representativeness\" and procedures that reject some samples. They alter the distribution of the sample."
   ]
  },
  {
   "cell_type": "markdown",
   "metadata": {
    "collapsed": true
   },
   "source": [
    "# testing out bounds when factorial overflows"
   ]
  },
  {
   "cell_type": "code",
   "execution_count": 159,
   "metadata": {
    "collapsed": false
   },
   "outputs": [
    {
     "data": {
      "text/plain": [
       "array(inf)"
      ]
     },
     "execution_count": 159,
     "metadata": {},
     "output_type": "execute_result"
    }
   ],
   "source": [
    "factorial(41400)"
   ]
  },
  {
   "cell_type": "code",
   "execution_count": 2,
   "metadata": {
    "collapsed": false
   },
   "outputs": [
    {
     "ename": "NameError",
     "evalue": "name 'comb' is not defined",
     "output_type": "error",
     "traceback": [
      "\u001b[0;31m---------------------------------------------------------------------------\u001b[0m",
      "\u001b[0;31mNameError\u001b[0m                                 Traceback (most recent call last)",
      "\u001b[0;32m<ipython-input-2-98a29eb1675f>\u001b[0m in \u001b[0;36m<module>\u001b[0;34m()\u001b[0m\n\u001b[0;32m----> 1\u001b[0;31m \u001b[0;32mprint\u001b[0m \u001b[0mcomb\u001b[0m\u001b[0;34m(\u001b[0m\u001b[0;36m41400\u001b[0m\u001b[0;34m,\u001b[0m\u001b[0;36m100\u001b[0m\u001b[0;34m)\u001b[0m\u001b[0;34m\u001b[0m\u001b[0m\n\u001b[0m\u001b[1;32m      2\u001b[0m \u001b[0;32mprint\u001b[0m \u001b[0mcomb_upper_bound_H\u001b[0m\u001b[0;34m(\u001b[0m\u001b[0;36m41400\u001b[0m\u001b[0;34m,\u001b[0m \u001b[0;36m100\u001b[0m\u001b[0;34m)\u001b[0m\u001b[0;34m\u001b[0m\u001b[0m\n\u001b[1;32m      3\u001b[0m \u001b[0;32mprint\u001b[0m \u001b[0mcomb_lower_bound_H\u001b[0m\u001b[0;34m(\u001b[0m\u001b[0;36m41400\u001b[0m\u001b[0;34m,\u001b[0m \u001b[0;36m100\u001b[0m\u001b[0;34m)\u001b[0m\u001b[0;34m\u001b[0m\u001b[0m\n\u001b[1;32m      4\u001b[0m \u001b[0;32mprint\u001b[0m \u001b[0mcomb_lower_bound_Stirling\u001b[0m\u001b[0;34m(\u001b[0m\u001b[0;36m100\u001b[0m\u001b[0;34m,\u001b[0m\u001b[0;36m414\u001b[0m\u001b[0;34m)\u001b[0m\u001b[0;34m\u001b[0m\u001b[0m\n",
      "\u001b[0;31mNameError\u001b[0m: name 'comb' is not defined"
     ]
    }
   ],
   "source": [
    "print comb(41400,100)\n",
    "print comb_upper_bound_H(41400, 100)\n",
    "print comb_lower_bound_H(41400, 100)\n",
    "print comb_lower_bound_Stirling(100,414)"
   ]
  },
  {
   "cell_type": "code",
   "execution_count": 161,
   "metadata": {
    "collapsed": false
   },
   "outputs": [
    {
     "name": "stdout",
     "output_type": "stream",
     "text": [
      "The version_information extension is already loaded. To reload it, use:\n",
      "  %reload_ext version_information\n"
     ]
    },
    {
     "data": {
      "application/json": {
       "Software versions": [
        {
         "module": "Python",
         "version": "2.7.11 64bit [GCC 4.2.1 (Apple Inc. build 5577)]"
        },
        {
         "module": "IPython",
         "version": "4.0.1"
        },
        {
         "module": "OS",
         "version": "Darwin 15.6.0 x86_64 i386 64bit"
        },
        {
         "module": "scipy",
         "version": "0.16.0"
        },
        {
         "module": "numpy",
         "version": "1.10.1"
        },
        {
         "module": "pandas",
         "version": "0.17.1"
        },
        {
         "module": "matplotlib",
         "version": "1.5.0"
        },
        {
         "module": "notebook",
         "version": "4.2.1"
        }
       ]
      },
      "text/html": [
       "<table><tr><th>Software</th><th>Version</th></tr><tr><td>Python</td><td>2.7.11 64bit [GCC 4.2.1 (Apple Inc. build 5577)]</td></tr><tr><td>IPython</td><td>4.0.1</td></tr><tr><td>OS</td><td>Darwin 15.6.0 x86_64 i386 64bit</td></tr><tr><td>scipy</td><td>0.16.0</td></tr><tr><td>numpy</td><td>1.10.1</td></tr><tr><td>pandas</td><td>0.17.1</td></tr><tr><td>matplotlib</td><td>1.5.0</td></tr><tr><td>notebook</td><td>4.2.1</td></tr><tr><td colspan='2'>Tue Jun 21 10:13:15 2016 CEST</td></tr></table>"
      ],
      "text/latex": [
       "\\begin{tabular}{|l|l|}\\hline\n",
       "{\\bf Software} & {\\bf Version} \\\\ \\hline\\hline\n",
       "Python & 2.7.11 64bit [GCC 4.2.1 (Apple Inc. build 5577)] \\\\ \\hline\n",
       "IPython & 4.0.1 \\\\ \\hline\n",
       "OS & Darwin 15.6.0 x86\\letterunderscore{}64 i386 64bit \\\\ \\hline\n",
       "scipy & 0.16.0 \\\\ \\hline\n",
       "numpy & 1.10.1 \\\\ \\hline\n",
       "pandas & 0.17.1 \\\\ \\hline\n",
       "matplotlib & 1.5.0 \\\\ \\hline\n",
       "notebook & 4.2.1 \\\\ \\hline\n",
       "\\hline \\multicolumn{2}{|l|}{Tue Jun 21 10:13:15 2016 CEST} \\\\ \\hline\n",
       "\\end{tabular}\n"
      ],
      "text/plain": [
       "Software versions\n",
       "Python 2.7.11 64bit [GCC 4.2.1 (Apple Inc. build 5577)]\n",
       "IPython 4.0.1\n",
       "OS Darwin 15.6.0 x86_64 i386 64bit\n",
       "scipy 0.16.0\n",
       "numpy 1.10.1\n",
       "pandas 0.17.1\n",
       "matplotlib 1.5.0\n",
       "notebook 4.2.1\n",
       "Tue Jun 21 10:13:15 2016 CEST"
      ]
     },
     "execution_count": 161,
     "metadata": {},
     "output_type": "execute_result"
    }
   ],
   "source": [
    "%load_ext version_information\n",
    "%version_information scipy, numpy, pandas, matplotlib, notebook"
   ]
  },
  {
   "cell_type": "code",
   "execution_count": null,
   "metadata": {
    "collapsed": true
   },
   "outputs": [],
   "source": []
  }
 ],
 "metadata": {
  "kernelspec": {
   "display_name": "Python 2",
   "language": "python",
   "name": "python2"
  },
  "language_info": {
   "codemirror_mode": {
    "name": "ipython",
    "version": 2
   },
   "file_extension": ".py",
   "mimetype": "text/x-python",
   "name": "python",
   "nbconvert_exporter": "python",
   "pygments_lexer": "ipython2",
   "version": "2.7.11"
  }
 },
 "nbformat": 4,
 "nbformat_minor": 0
}
