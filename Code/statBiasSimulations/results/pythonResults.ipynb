{
 "cells": [
  {
   "cell_type": "code",
   "execution_count": 1,
   "metadata": {
    "collapsed": true
   },
   "outputs": [],
   "source": [
    "import pandas as pd\n",
    "import matplotlib.pyplot as plt\n",
    "import numpy as np\n",
    "%matplotlib inline\n",
    "\n",
    "pd.set_option('display.float_format', '{:.4g}'.format)"
   ]
  },
  {
   "cell_type": "markdown",
   "metadata": {},
   "source": [
    "Suppose we draw a sample of size 2 from a population of size 30. The statistics we're interested in are the range and the variance. A (true) simple random sample of size $k$ from a population of size $n$ has chance $1/{n \\choose k}$ of resulting in each of the ${n \\choose k}$ possible subsets. The joint distribution of the number of times each possible sample is selected in $N$ independent random samples is multinomial with ${n \\choose k}$ categories, equal category probabilities $1/{n \\choose k}$, and $N$ draws. The pidgeonhold arguments prove that the actual distribution cannot be exactly multinomial, but how bad is the approximation? We can test the hypothesis using as the test statistic the range of category counts. Since we can't trust simulations to give an accurate result (that's the problem we are studying!), we need to rely on asymptotics.\n",
    "\n",
    "We use PIKK to draw $5 \\times 10^7$ samples and compare the following PRNGs: RANDU, Super-Duper, Mersenne Twister, and the SHA-256-based PRNG.\n",
    "\n",
    "# First order selection probabilities\n",
    "\n",
    "Under the null, the number of times each individual item is drawn should follow a multinomial distribution with $(5 \\times 2) \\times 10^7 = 10^8$ draws and equal probabilities $1/30$."
   ]
  },
  {
   "cell_type": "code",
   "execution_count": 2,
   "metadata": {
    "collapsed": false
   },
   "outputs": [
    {
     "data": {
      "text/html": [
       "<div>\n",
       "<table border=\"1\" class=\"dataframe\">\n",
       "  <thead>\n",
       "    <tr style=\"text-align: right;\">\n",
       "      <th></th>\n",
       "      <th>PRNG</th>\n",
       "      <th>seed</th>\n",
       "      <th>Chi-squared</th>\n",
       "      <th>Df</th>\n",
       "      <th>P-value</th>\n",
       "      <th>Range</th>\n",
       "      <th>Range P-value</th>\n",
       "    </tr>\n",
       "  </thead>\n",
       "  <tbody>\n",
       "    <tr>\n",
       "      <th>4</th>\n",
       "      <td>MT</td>\n",
       "      <td>100</td>\n",
       "      <td>27.5</td>\n",
       "      <td>29</td>\n",
       "      <td>0.5447</td>\n",
       "      <td>8804</td>\n",
       "      <td>0.1436</td>\n",
       "    </tr>\n",
       "    <tr>\n",
       "      <th>11</th>\n",
       "      <td>MT_choice</td>\n",
       "      <td>233424280</td>\n",
       "      <td>30.56</td>\n",
       "      <td>29</td>\n",
       "      <td>0.3867</td>\n",
       "      <td>7612</td>\n",
       "      <td>0.4245</td>\n",
       "    </tr>\n",
       "    <tr>\n",
       "      <th>10</th>\n",
       "      <td>MT_choice</td>\n",
       "      <td>100</td>\n",
       "      <td>29.45</td>\n",
       "      <td>29</td>\n",
       "      <td>0.442</td>\n",
       "      <td>7552</td>\n",
       "      <td>0.4429</td>\n",
       "    </tr>\n",
       "    <tr>\n",
       "      <th>2</th>\n",
       "      <td>SD</td>\n",
       "      <td>100</td>\n",
       "      <td>21.89</td>\n",
       "      <td>29</td>\n",
       "      <td>0.8248</td>\n",
       "      <td>6921</td>\n",
       "      <td>0.6445</td>\n",
       "    </tr>\n",
       "    <tr>\n",
       "      <th>5</th>\n",
       "      <td>MT</td>\n",
       "      <td>233424280</td>\n",
       "      <td>21.89</td>\n",
       "      <td>29</td>\n",
       "      <td>0.8247</td>\n",
       "      <td>6850</td>\n",
       "      <td>0.6667</td>\n",
       "    </tr>\n",
       "    <tr>\n",
       "      <th>8</th>\n",
       "      <td>SHA256</td>\n",
       "      <td>233424280</td>\n",
       "      <td>23.42</td>\n",
       "      <td>29</td>\n",
       "      <td>0.7571</td>\n",
       "      <td>6733</td>\n",
       "      <td>0.7024</td>\n",
       "    </tr>\n",
       "    <tr>\n",
       "      <th>6</th>\n",
       "      <td>MT</td>\n",
       "      <td>429496729</td>\n",
       "      <td>19.17</td>\n",
       "      <td>29</td>\n",
       "      <td>0.9167</td>\n",
       "      <td>6324</td>\n",
       "      <td>0.8144</td>\n",
       "    </tr>\n",
       "    <tr>\n",
       "      <th>9</th>\n",
       "      <td>SHA256</td>\n",
       "      <td>429496729</td>\n",
       "      <td>17.55</td>\n",
       "      <td>29</td>\n",
       "      <td>0.9529</td>\n",
       "      <td>6078</td>\n",
       "      <td>0.869</td>\n",
       "    </tr>\n",
       "    <tr>\n",
       "      <th>12</th>\n",
       "      <td>MT_choice</td>\n",
       "      <td>429496729</td>\n",
       "      <td>22.32</td>\n",
       "      <td>29</td>\n",
       "      <td>0.8069</td>\n",
       "      <td>5695</td>\n",
       "      <td>0.9319</td>\n",
       "    </tr>\n",
       "    <tr>\n",
       "      <th>7</th>\n",
       "      <td>SHA256</td>\n",
       "      <td>100</td>\n",
       "      <td>16.47</td>\n",
       "      <td>29</td>\n",
       "      <td>0.9698</td>\n",
       "      <td>5211</td>\n",
       "      <td>0.9764</td>\n",
       "    </tr>\n",
       "    <tr>\n",
       "      <th>3</th>\n",
       "      <td>SD</td>\n",
       "      <td>233424280</td>\n",
       "      <td>11.6</td>\n",
       "      <td>29</td>\n",
       "      <td>0.9983</td>\n",
       "      <td>4415</td>\n",
       "      <td>0.998</td>\n",
       "    </tr>\n",
       "    <tr>\n",
       "      <th>0</th>\n",
       "      <td>RANDU</td>\n",
       "      <td>100</td>\n",
       "      <td>12.1</td>\n",
       "      <td>29</td>\n",
       "      <td>0.9975</td>\n",
       "      <td>3976</td>\n",
       "      <td>0.9997</td>\n",
       "    </tr>\n",
       "    <tr>\n",
       "      <th>1</th>\n",
       "      <td>RANDU</td>\n",
       "      <td>233424280</td>\n",
       "      <td>4.957</td>\n",
       "      <td>29</td>\n",
       "      <td>1</td>\n",
       "      <td>3132</td>\n",
       "      <td>1</td>\n",
       "    </tr>\n",
       "  </tbody>\n",
       "</table>\n",
       "</div>"
      ],
      "text/plain": [
       "         PRNG       seed  Chi-squared  Df  P-value  Range  Range P-value\n",
       "4          MT        100         27.5  29   0.5447   8804         0.1436\n",
       "11  MT_choice  233424280        30.56  29   0.3867   7612         0.4245\n",
       "10  MT_choice        100        29.45  29    0.442   7552         0.4429\n",
       "2          SD        100        21.89  29   0.8248   6921         0.6445\n",
       "5          MT  233424280        21.89  29   0.8247   6850         0.6667\n",
       "8      SHA256  233424280        23.42  29   0.7571   6733         0.7024\n",
       "6          MT  429496729        19.17  29   0.9167   6324         0.8144\n",
       "9      SHA256  429496729        17.55  29   0.9529   6078          0.869\n",
       "12  MT_choice  429496729        22.32  29   0.8069   5695         0.9319\n",
       "7      SHA256        100        16.47  29   0.9698   5211         0.9764\n",
       "3          SD  233424280         11.6  29   0.9983   4415          0.998\n",
       "0       RANDU        100         12.1  29   0.9975   3976         0.9997\n",
       "1       RANDU  233424280        4.957  29        1   3132              1"
      ]
     },
     "execution_count": 2,
     "metadata": {},
     "output_type": "execute_result"
    }
   ],
   "source": [
    "FO = pd.read_csv('firstOrderSummary.csv')\n",
    "cols = ['PRNG', 'seed', 'Chi-squared', 'Df', 'P-value', 'Range', 'Range P-value']\n",
    "FO[cols].sort_values(['Range P-value', 'P-value'])"
   ]
  },
  {
   "cell_type": "markdown",
   "metadata": {},
   "source": [
    "# Unique sample selection probabilities\n",
    "\n",
    "Under the null, the number of times each sample is drawn should follow a multinomial distribution with $5 \\times 10^7$ draws and equal probabilities $1/{30 \\choose 2}$."
   ]
  },
  {
   "cell_type": "code",
   "execution_count": null,
   "metadata": {
    "collapsed": false,
    "scrolled": true
   },
   "outputs": [
    {
     "data": {
      "text/html": [
       "<div>\n",
       "<table border=\"1\" class=\"dataframe\">\n",
       "  <thead>\n",
       "    <tr style=\"text-align: right;\">\n",
       "      <th></th>\n",
       "      <th>PRNG</th>\n",
       "      <th>seed</th>\n",
       "      <th>Chi-squared</th>\n",
       "      <th>Df</th>\n",
       "      <th>P-value</th>\n",
       "      <th>Range</th>\n",
       "      <th>Range P-value</th>\n",
       "    </tr>\n",
       "  </thead>\n",
       "  <tbody>\n",
       "    <tr>\n",
       "      <th>0</th>\n",
       "      <td>RANDU</td>\n",
       "      <td>100</td>\n",
       "      <td>1.216e+04</td>\n",
       "      <td>434</td>\n",
       "      <td>0</td>\n",
       "      <td>8709</td>\n",
       "      <td>-4.441e-16</td>\n",
       "    </tr>\n",
       "    <tr>\n",
       "      <th>1</th>\n",
       "      <td>RANDU</td>\n",
       "      <td>233424280</td>\n",
       "      <td>1.192e+04</td>\n",
       "      <td>434</td>\n",
       "      <td>0</td>\n",
       "      <td>8517</td>\n",
       "      <td>-4.441e-16</td>\n",
       "    </tr>\n",
       "    <tr>\n",
       "      <th>10</th>\n",
       "      <td>MT_choice</td>\n",
       "      <td>100</td>\n",
       "      <td>407.4</td>\n",
       "      <td>434</td>\n",
       "      <td>0.8156</td>\n",
       "      <td>2286</td>\n",
       "      <td>0.08578</td>\n",
       "    </tr>\n",
       "    <tr>\n",
       "      <th>7</th>\n",
       "      <td>SHA256</td>\n",
       "      <td>100</td>\n",
       "      <td>409.6</td>\n",
       "      <td>434</td>\n",
       "      <td>0.7942</td>\n",
       "      <td>2196</td>\n",
       "      <td>0.171</td>\n",
       "    </tr>\n",
       "    <tr>\n",
       "      <th>2</th>\n",
       "      <td>SD</td>\n",
       "      <td>100</td>\n",
       "      <td>355.3</td>\n",
       "      <td>434</td>\n",
       "      <td>0.9977</td>\n",
       "      <td>2189</td>\n",
       "      <td>0.1798</td>\n",
       "    </tr>\n",
       "    <tr>\n",
       "      <th>4</th>\n",
       "      <td>MT</td>\n",
       "      <td>100</td>\n",
       "      <td>454.7</td>\n",
       "      <td>434</td>\n",
       "      <td>0.2378</td>\n",
       "      <td>2174</td>\n",
       "      <td>0.1996</td>\n",
       "    </tr>\n",
       "    <tr>\n",
       "      <th>6</th>\n",
       "      <td>MT</td>\n",
       "      <td>429496729</td>\n",
       "      <td>493.7</td>\n",
       "      <td>434</td>\n",
       "      <td>0.02489</td>\n",
       "      <td>2089</td>\n",
       "      <td>0.341</td>\n",
       "    </tr>\n",
       "    <tr>\n",
       "      <th>11</th>\n",
       "      <td>MT_choice</td>\n",
       "      <td>233424280</td>\n",
       "      <td>461</td>\n",
       "      <td>434</td>\n",
       "      <td>0.1783</td>\n",
       "      <td>2026</td>\n",
       "      <td>0.4741</td>\n",
       "    </tr>\n",
       "    <tr>\n",
       "      <th>5</th>\n",
       "      <td>MT</td>\n",
       "      <td>233424280</td>\n",
       "      <td>429.9</td>\n",
       "      <td>434</td>\n",
       "      <td>0.546</td>\n",
       "      <td>1965</td>\n",
       "      <td>0.6143</td>\n",
       "    </tr>\n",
       "    <tr>\n",
       "      <th>9</th>\n",
       "      <td>SHA256</td>\n",
       "      <td>429496729</td>\n",
       "      <td>482.1</td>\n",
       "      <td>434</td>\n",
       "      <td>0.05502</td>\n",
       "      <td>1964</td>\n",
       "      <td>0.6166</td>\n",
       "    </tr>\n",
       "    <tr>\n",
       "      <th>8</th>\n",
       "      <td>SHA256</td>\n",
       "      <td>233424280</td>\n",
       "      <td>381.6</td>\n",
       "      <td>434</td>\n",
       "      <td>0.9667</td>\n",
       "      <td>1846</td>\n",
       "      <td>0.8545</td>\n",
       "    </tr>\n",
       "    <tr>\n",
       "      <th>12</th>\n",
       "      <td>MT_choice</td>\n",
       "      <td>429496729</td>\n",
       "      <td>451.6</td>\n",
       "      <td>434</td>\n",
       "      <td>0.2706</td>\n",
       "      <td>1792</td>\n",
       "      <td>0.9248</td>\n",
       "    </tr>\n",
       "    <tr>\n",
       "      <th>3</th>\n",
       "      <td>SD</td>\n",
       "      <td>233424280</td>\n",
       "      <td>289.8</td>\n",
       "      <td>434</td>\n",
       "      <td>1</td>\n",
       "      <td>1422</td>\n",
       "      <td>1</td>\n",
       "    </tr>\n",
       "  </tbody>\n",
       "</table>\n",
       "</div>"
      ],
      "text/plain": [
       "         PRNG       seed  Chi-squared   Df  P-value  Range  Range P-value\n",
       "0       RANDU        100    1.216e+04  434        0   8709     -4.441e-16\n",
       "1       RANDU  233424280    1.192e+04  434        0   8517     -4.441e-16\n",
       "10  MT_choice        100        407.4  434   0.8156   2286        0.08578\n",
       "7      SHA256        100        409.6  434   0.7942   2196          0.171\n",
       "2          SD        100        355.3  434   0.9977   2189         0.1798\n",
       "4          MT        100        454.7  434   0.2378   2174         0.1996\n",
       "6          MT  429496729        493.7  434  0.02489   2089          0.341\n",
       "11  MT_choice  233424280          461  434   0.1783   2026         0.4741\n",
       "5          MT  233424280        429.9  434    0.546   1965         0.6143\n",
       "9      SHA256  429496729        482.1  434  0.05502   1964         0.6166\n",
       "8      SHA256  233424280        381.6  434   0.9667   1846         0.8545\n",
       "12  MT_choice  429496729        451.6  434   0.2706   1792         0.9248\n",
       "3          SD  233424280        289.8  434        1   1422              1"
      ]
     },
     "execution_count": 3,
     "metadata": {},
     "output_type": "execute_result"
    }
   ],
   "source": [
    "US = pd.read_csv('uniqueSampleSummary.csv')\n",
    "cols = ['PRNG', 'seed', 'Chi-squared', 'Df', 'P-value', 'Range', 'Range P-value']\n",
    "US[cols].sort_values(['Range P-value', 'P-value'])"
   ]
  },
  {
   "cell_type": "markdown",
   "metadata": {},
   "source": [
    "## Selection frequencies for RANDU"
   ]
  },
  {
   "cell_type": "code",
   "execution_count": null,
   "metadata": {
    "collapsed": false
   },
   "outputs": [],
   "source": [
    "randu_us = pd.read_csv('../rawdata/US_RANDU.csv', header=None)\n",
    "fig, axes = plt.subplots(nrows=1, ncols=2, figsize=(12, 4))\n",
    "i = 0\n",
    "\n",
    "for ss in randu_us[4].unique():\n",
    "    axis = axes[i]\n",
    "    tmp = randu_us[randu_us[4] == ss]\n",
    "    xax = np.arange(len(tmp.index))\n",
    "    yax = np.sort(tmp[1])\n",
    "\n",
    "    axis.bar(xax, yax, facecolor=\"b\", edgecolor=\"b\")\n",
    "    axis.set_title('seed = '+ str(ss))\n",
    "    axis.set_ylim(105000, 117500)\n",
    "    axis.axhline(y=5*10**7/435, xmin=0, xmax=450, color = \"red\")\n",
    "    i += 1\n",
    "plt.show()"
   ]
  },
  {
   "cell_type": "markdown",
   "metadata": {},
   "source": [
    "## Selection frequencies for Super-Duper"
   ]
  },
  {
   "cell_type": "code",
   "execution_count": null,
   "metadata": {
    "collapsed": false
   },
   "outputs": [],
   "source": [
    "sd_us = pd.read_csv('../rawdata/US_SD.csv', header=None)\n",
    "fig, axes = plt.subplots(nrows=1, ncols=2, figsize=(12, 4))\n",
    "i = 0\n",
    "\n",
    "for ss in sd_us[4].unique():\n",
    "    axis = axes[i]\n",
    "    tmp = sd_us[sd_us[4] == ss]\n",
    "    xax = np.arange(len(tmp.index))\n",
    "    yax = np.sort(tmp[1])\n",
    "\n",
    "    axis.bar(xax, yax, facecolor=\"b\", edgecolor=\"b\")\n",
    "    axis.set_title('seed = '+ str(ss))\n",
    "    axis.set_ylim(105000, 117500)\n",
    "    axis.axhline(y=5*10**7/435, xmin=0, xmax=450, color = \"red\")\n",
    "    i += 1\n",
    "plt.show()"
   ]
  },
  {
   "cell_type": "markdown",
   "metadata": {},
   "source": [
    "## Selection frequencies for Mersenne Twister\n",
    "\n",
    "### With PIKK"
   ]
  },
  {
   "cell_type": "code",
   "execution_count": null,
   "metadata": {
    "collapsed": false
   },
   "outputs": [],
   "source": [
    "mt_us = pd.read_csv('../rawdata/US_MT.csv', header=None)\n",
    "fig, axes = plt.subplots(nrows=1, ncols=3, figsize=(18, 4))\n",
    "i = 0\n",
    "\n",
    "for ss in mt_us[4].unique():\n",
    "    axis = axes[i]\n",
    "    tmp = mt_us[mt_us[4] == ss]\n",
    "    xax = np.arange(len(tmp.index))\n",
    "    yax = np.sort(tmp[1])\n",
    "\n",
    "    axis.bar(xax, yax, facecolor=\"b\", edgecolor=\"b\")\n",
    "    axis.set_title('seed = '+ str(ss))\n",
    "    axis.set_ylim(105000, 117500)\n",
    "    axis.axhline(y=5*10**7/435, xmin=0, xmax=450, color = \"red\")\n",
    "    i += 1\n",
    "plt.show()"
   ]
  },
  {
   "cell_type": "markdown",
   "metadata": {},
   "source": [
    "### With np.random.choice"
   ]
  },
  {
   "cell_type": "code",
   "execution_count": null,
   "metadata": {
    "collapsed": false
   },
   "outputs": [],
   "source": [
    "mt_us = pd.read_csv('../rawdata/US_MT_choice.csv', header=None)\n",
    "fig, axes = plt.subplots(nrows=1, ncols=3, figsize=(18, 4))\n",
    "i = 0\n",
    "\n",
    "for ss in mt_us[4].unique():\n",
    "    axis = axes[i]\n",
    "    tmp = mt_us[mt_us[4] == ss]\n",
    "    xax = np.arange(len(tmp.index))\n",
    "    yax = np.sort(tmp[1])\n",
    "\n",
    "    axis.bar(xax, yax, facecolor=\"b\", edgecolor=\"b\")\n",
    "    axis.set_title('seed = '+ str(ss))\n",
    "    axis.set_ylim(105000, 117500)\n",
    "    axis.axhline(y=5*10**7/435, xmin=0, xmax=450, color = \"red\")\n",
    "    i += 1\n",
    "plt.show()"
   ]
  },
  {
   "cell_type": "markdown",
   "metadata": {},
   "source": [
    "## Selection frequencies for SHA-256 PRNG"
   ]
  },
  {
   "cell_type": "code",
   "execution_count": null,
   "metadata": {
    "collapsed": false
   },
   "outputs": [],
   "source": [
    "sha_us = pd.read_csv('../rawdata/US_SHA256.csv', header=None)\n",
    "fig, axes = plt.subplots(nrows=1, ncols=3, figsize=(18, 4))\n",
    "i = 0\n",
    "\n",
    "for ss in sha_us[4].unique():\n",
    "    axis = axes[i]\n",
    "    tmp = sha_us[sha_us[4] == ss]\n",
    "    xax = np.arange(len(tmp.index))\n",
    "    yax = np.sort(tmp[1])\n",
    "\n",
    "    axis.bar(xax, yax, facecolor=\"b\", edgecolor=\"b\")\n",
    "    axis.set_title('seed = '+ str(ss))\n",
    "    axis.set_ylim(105000, 117500)\n",
    "    axis.axhline(y=5*10**7/435, xmin=0, xmax=450, color = \"red\")\n",
    "    i += 1\n",
    "plt.show()"
   ]
  },
  {
   "cell_type": "markdown",
   "metadata": {},
   "source": [
    "# Range statistic"
   ]
  },
  {
   "cell_type": "code",
   "execution_count": null,
   "metadata": {
    "collapsed": true
   },
   "outputs": [],
   "source": [
    "biases = pd.read_csv('statBias.csv')"
   ]
  },
  {
   "cell_type": "markdown",
   "metadata": {},
   "source": [
    "First, let's look at the range of the sample of size 2. The sample range is 2 with probability ${30 \\choose 2}^{-1}$ (when we get 1 and -1 in the sample), 1 with probability ${2 \\choose 1}{28 \\choose 1}/{30 \\choose 2}$ (when we get one of 1 or -1 in the sample), and 0 with probability ${28 \\choose 2}/{30 \\choose 2}$ (when we get neither 1 nor -1).\n",
    "\n",
    "Thus, the expected sample range of a sample of size 2 from this population is $0.1333$ and the standard error over the $5 \\times 10^7$ samples is $4.902 \\times 10^{-5}$.\n",
    "\n",
    "We use two adversarial methods to construct the population. For the method \"least freq sample,\" we identify the pair of items that occurs least frequently, then put $-1$ and $1$ on those items.  We'd expect the sample range to be biased towards 0 in this case.  For the method \"extreme items,\" we identify the individual items occuring most often and least often throughout all the samples.  We place a $-1$ on the least frequent item and $1$ on the most frequent item.  This may introduce some bias, but its direction isn't clear."
   ]
  },
  {
   "cell_type": "code",
   "execution_count": null,
   "metadata": {
    "collapsed": false
   },
   "outputs": [],
   "source": [
    "cols = ['PRNG', 'seed', 'method', 'Avg Sample Range', 'Range Bias', 'Range Bias/SE']\n",
    "biases[cols].sort_values(['Range Bias/SE', 'PRNG', 'seed'], ascending = True)"
   ]
  },
  {
   "cell_type": "markdown",
   "metadata": {
    "collapsed": true
   },
   "source": [
    "# Sample variance\n",
    "\n",
    "Next, we look at the variance of the sample of size 2. The sample variance is 2 with probability ${30 \\choose 2}^{-1}$ (when we get 1 and -1 in the sample), 1/2 with probability ${2 \\choose 1}{28 \\choose 1}/{30 \\choose 2}$ (when we get one of 1 or -1 in the sample), and 0 with probability ${28 \\choose 2}/{30 \\choose 2}$ (when we get neither 1 nor -1).\n",
    "\n",
    "Thus, the expected sample variance of a sample of size 2 from this population is $0.06897$ and the standard error over the $5 \\times 10^7$ samples is $2.706 \\times 10^{-5}$."
   ]
  },
  {
   "cell_type": "code",
   "execution_count": null,
   "metadata": {
    "collapsed": false
   },
   "outputs": [],
   "source": [
    "cols = ['PRNG', 'seed', 'method', 'Avg Sample Var', 'Var Bias', 'Var Bias/SE']\n",
    "biases[cols].sort_values(['Var Bias/SE', 'PRNG', 'seed'], ascending = True)"
   ]
  },
  {
   "cell_type": "code",
   "execution_count": null,
   "metadata": {
    "collapsed": true
   },
   "outputs": [],
   "source": []
  }
 ],
 "metadata": {
  "kernelspec": {
   "display_name": "Python 3",
   "language": "python",
   "name": "python3"
  },
  "language_info": {
   "codemirror_mode": {
    "name": "ipython",
    "version": 3
   },
   "file_extension": ".py",
   "mimetype": "text/x-python",
   "name": "python",
   "nbconvert_exporter": "python",
   "pygments_lexer": "ipython3",
   "version": "3.4.3"
  }
 },
 "nbformat": 4,
 "nbformat_minor": 1
}
