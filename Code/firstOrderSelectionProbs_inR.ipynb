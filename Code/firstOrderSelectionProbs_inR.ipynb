{
 "cells": [
  {
   "cell_type": "code",
   "execution_count": 1,
   "metadata": {
    "collapsed": false
   },
   "outputs": [
    {
     "name": "stderr",
     "output_type": "stream",
     "text": [
      "\n",
      "Attaching package: ‘dplyr’\n",
      "\n",
      "The following objects are masked from ‘package:stats’:\n",
      "\n",
      "    filter, lag\n",
      "\n",
      "The following objects are masked from ‘package:base’:\n",
      "\n",
      "    intersect, setdiff, setequal, union\n",
      "\n",
      "\n",
      "Attaching package: ‘testthat’\n",
      "\n",
      "The following object is masked from ‘package:dplyr’:\n",
      "\n",
      "    matches\n",
      "\n"
     ]
    }
   ],
   "source": [
    "source(\"simulation_utils.R\")\n",
    "source(\"test_simulation_utils.R\")"
   ]
  },
  {
   "cell_type": "code",
   "execution_count": 3,
   "metadata": {
    "collapsed": true
   },
   "outputs": [],
   "source": [
    "# Boilerplate stuff\n",
    "\n",
    "reps <- 10^7\n",
    "n <- c(13, 30, 90)\n",
    "k <- c(4, 10, 20)\n",
    "\n",
    "maxProb <- c()\n",
    "minProb <- c()\n",
    "meanProb <- c()\n",
    "maxProbRatio <- c()\n",
    "nvalues <- c()\n",
    "kvalues <- c()\n",
    "prng <- c()\n",
    "seed <- c()\n",
    "\n",
    "# FO = first order selection probabilities\n",
    "chisqStatistic_FO <- c()\n",
    "chisqDF_FO <- c()\n",
    "chisqPvalue_FO <- c()\n",
    "rangeStat_FO <- c()\n",
    "rangePvalue_FO <- c()\n",
    "\n",
    "# US = unique sample selection probabilities\n",
    "chisqStatistic_US <- c()\n",
    "chisqDF_US <- c()\n",
    "chisqPvalue_US <- c()\n",
    "rangeStat_US <- c()\n",
    "rangePvalue_US <- c()"
   ]
  },
  {
   "cell_type": "markdown",
   "metadata": {},
   "source": [
    "# Super-Duper"
   ]
  },
  {
   "cell_type": "code",
   "execution_count": null,
   "metadata": {
    "collapsed": false
   },
   "outputs": [],
   "source": [
    "seedvalues <- c(100, 233424280)\n",
    "\n",
    "for(nn in n){\n",
    "  for(kk in k){\n",
    "    if(kk >= nn){\n",
    "      next\n",
    "    }\n",
    "    \n",
    "    for(ss in seedvalues){\n",
    "      \n",
    "      set.seed(ss, kind = \"Super-Duper\")\n",
    "      edistr <- getEmpiricalDistrRaw(nn, kk, reps)\n",
    "      itemFreq <- getItemFreq(getItemCounts(edistr), reps)\n",
    "      samFreq <- getEmpiricalDistr(edistr)\n",
    "      \n",
    "      maxProb <- c(maxProb, max(itemFreq$Probability))\n",
    "      minProb <- c(minProb, min(itemFreq$Probability))\n",
    "      meanProb <- c(meanProb, mean(itemFreq$Probability))\n",
    "      maxProbRatio <- c(maxProbRatio, computeMaxProbRatio(itemFreq$Probability))\n",
    "      nvalues <- c(nvalues, nn)\n",
    "      kvalues <- c(kvalues, kk)\n",
    "      prng <- c(prng, \"Super-Duper\")\n",
    "      seed <- c(seed, ss) \n",
    "      \n",
    "      # First order\n",
    "      chisqtest <- conductChisqTest(itemFreq$Count)\n",
    "      chisqDF_FO <- c(chisqDF_FO, chisqtest$DF)\n",
    "      chisqStatistic_FO <- c(chisqStatistic_FO, chisqtest$Statistic)\n",
    "      chisqPvalue_FO <- c(chisqPvalue_FO, chisqtest$Pvalue)\n",
    "        \n",
    "      rangeObserved_FO <- diff(range(itemFreq$Count))\n",
    "      rangeStat_FO <- c(rangeStat_FO, rangeObserved_FO)\n",
    "      rangePvalue_FO <- c(rangePvalue_FO, 1-distrMultinomialRange(rangeObserved_FO, reps*kk, nn))\n",
    "        \n",
    "      # Unique samples\n",
    "      sampleFreqVec <- sapply(samFreq, function(x) x$freq)\n",
    "      chisqtest <- conductChisqTest(sampleFreqVec)\n",
    "      chisqDF_US <- c(chisqDF_US, chisqtest$DF)\n",
    "      chisqStatistic_US <- c(chisqStatistic_US, chisqtest$Statistic)\n",
    "      chisqPvalue_US <- c(chisqPvalue_US, chisqtest$Pvalue)\n",
    "      \n",
    "      rangeObserved_US <- diff(range(sampleFreqVec))\n",
    "      rangeStat_US <- c(rangeStat_US, rangeObserved_US)\n",
    "      rangePvalue_US <- c(rangePvalue_US, 1-distrMultinomialRange(rangeObserved_US, reps, choose(nn, kk)))\n",
    "    }\n",
    "  }\n",
    "}"
   ]
  },
  {
   "cell_type": "code",
   "execution_count": null,
   "metadata": {
    "collapsed": false
   },
   "outputs": [],
   "source": [
    "seedvalues <- c(100, 233424280, 429496729)\n",
    "\n",
    "for(nn in n){\n",
    "  for(kk in k){\n",
    "    if(kk >= nn){\n",
    "      next\n",
    "    }\n",
    "    \n",
    "    for(ss in seedvalues){\n",
    "      \n",
    "      set.seed(ss, kind = \"Mersenne-Twister\")\n",
    "      edistr <- getEmpiricalDistrRaw(nn, kk, reps)\n",
    "      itemFreq <- getItemFreq(getItemCounts(edistr), reps)\n",
    "      samFreq <- getEmpiricalDistr(edistr)\n",
    "\n",
    "      maxProb <- c(maxProb, max(itemFreq$Probability))\n",
    "      minProb <- c(minProb, min(itemFreq$Probability))\n",
    "      meanProb <- c(meanProb, mean(itemFreq$Probability))\n",
    "      maxProbRatio <- c(maxProbRatio, computeMaxProbRatio(itemFreq$Probability))\n",
    "      nvalues <- c(nvalues, nn)\n",
    "      kvalues <- c(kvalues, kk)\n",
    "      prng <- c(prng, \"Mersenne Twister\")\n",
    "      seed <- c(seed, ss)\n",
    "      \n",
    "      # First order\n",
    "      chisqtest <- conductChisqTest(itemFreq$Count)\n",
    "      chisqDF_FO <- c(chisqDF_FO, chisqtest$DF)\n",
    "      chisqStatistic_FO <- c(chisqStatistic_FO, chisqtest$Statistic)\n",
    "      chisqPvalue_FO <- c(chisqPvalue_FO, chisqtest$Pvalue)\n",
    "        \n",
    "      rangeObserved_FO <- diff(range(itemFreq$Count))\n",
    "      rangeStat_FO <- c(rangeStat_FO, rangeObserved_FO)\n",
    "      rangePvalue_FO <- c(rangePvalue_FO, 1-distrMultinomialRange(rangeObserved_FO, reps*kk, nn))\n",
    "        \n",
    "      # Unique samples\n",
    "      sampleFreqVec <- sapply(samFreq, function(x) x$freq)\n",
    "      chisqtest <- conductChisqTest(sampleFreqVec)\n",
    "      chisqDF_US <- c(chisqDF_US, chisqtest$DF)\n",
    "      chisqStatistic_US <- c(chisqStatistic_US, chisqtest$Statistic)\n",
    "      chisqPvalue_US <- c(chisqPvalue_US, chisqtest$Pvalue)\n",
    "      \n",
    "      rangeObserved_US <- diff(range(sampleFreqVec))\n",
    "      rangeStat_US <- c(rangeStat_US, rangeObserved_US)\n",
    "      rangePvalue_US <- c(rangePvalue_US, 1-distrMultinomialRange(rangeObserved_US, reps, choose(nn, kk)))\n",
    "    }\n",
    "  }\n",
    "}"
   ]
  },
  {
   "cell_type": "markdown",
   "metadata": {},
   "source": [
    "# First-order selection probabilities, summary statistics\n"
   ]
  },
  {
   "cell_type": "code",
   "execution_count": null,
   "metadata": {
    "collapsed": false
   },
   "outputs": [],
   "source": [
    "d1 <- cbind(nvalues, kvalues, prng, seed, minProb, meanProb, maxProb, maxProbRatio)\n",
    "rownames(d1) <- NULL\n",
    "\n",
    "ord <- order(nvalues, kvalues, prng, seed)\n",
    "d1[ord, ]"
   ]
  },
  {
   "cell_type": "markdown",
   "metadata": {},
   "source": [
    "# First order selection probabilities, chi-squared test and range statistic\n",
    "\n",
    "We first test whether each item $1, \\dots, k$ is selected with equal probability. We do two tests: the usual chi-squared test and another test based on the range of the multinomial values, $max_i n_i - min_i n_i$, where $n_1, \\dots, n_k$ are the number of items in each of $k$ cells that have equal probability $1/k$.\n",
    "\n",
    "Johnson and Young (1960) and Young (1962) provide the following approximation to the distribution of the range\n",
    "\n",
    "$$P(\\max_i n_k - \\min_i n_k \\leq r) \\approx P(W_m \\leq (r-(2n)^{-1})(m/n)^{1/2})$$\n",
    "\n",
    "where $W_m$ denotes the sample range of $m$ independent standard normal random variables. It is a known result (see e.g. Pearson and Hartley p. 43, 1954 or Ruben, 1960) that the distribution function for the range of IID normal samples is given by\n",
    "\n",
    "$$R(w) = n \\int_{-\\infty}^{\\infty} \\phi(x)\\left[ \\Phi(x+w) - \\Phi(x)\\right]^{n-1}dx$$\n",
    "\n",
    "where $\\phi$ and $\\Phi$ are the standard normal density and cumulative distribution function, respectively.  We leverage these two results to approximate the p-value of the range statistic."
   ]
  },
  {
   "cell_type": "code",
   "execution_count": null,
   "metadata": {
    "collapsed": false
   },
   "outputs": [],
   "source": [
    "d2 <- cbind(nvalues, kvalues, prng, seed, chisqStatistic_FO, chisqDF_FO, chisqPvalue_FO, rangeStat_FO, rangePvalue_FO)\n",
    "rownames(d2) <- NULL\n",
    "d2[ord, ]"
   ]
  },
  {
   "cell_type": "markdown",
   "metadata": {
    "collapsed": true
   },
   "source": [
    "# Selection probabilities for unique samples, chi-squared test"
   ]
  },
  {
   "cell_type": "code",
   "execution_count": null,
   "metadata": {
    "collapsed": false
   },
   "outputs": [],
   "source": [
    "d3 <- cbind(nvalues, kvalues, prng, seed, chisqStatistic_US, chisqDF_US, chisqPvalue_US, rangeStat_US, rangePvalue_US)\n",
    "rownames(d3) <- NULL\n",
    "d3[ord, ]"
   ]
  },
  {
   "cell_type": "code",
   "execution_count": null,
   "metadata": {
    "collapsed": true
   },
   "outputs": [],
   "source": []
  }
 ],
 "metadata": {
  "kernelspec": {
   "display_name": "R",
   "language": "R",
   "name": "ir"
  },
  "language_info": {
   "codemirror_mode": "r",
   "file_extension": ".r",
   "mimetype": "text/x-r-source",
   "name": "R",
   "pygments_lexer": "r",
   "version": "3.3.1"
  }
 },
 "nbformat": 4,
 "nbformat_minor": 1
}
