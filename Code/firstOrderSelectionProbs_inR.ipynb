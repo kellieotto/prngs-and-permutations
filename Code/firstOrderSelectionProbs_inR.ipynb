{
 "cells": [
  {
   "cell_type": "code",
   "execution_count": null,
   "metadata": {
    "collapsed": false
   },
   "outputs": [],
   "source": [
    "getEmpiricalDistrRaw <- function(n, k, reps=1e7){\n",
    "    # Just generates the samples and leaves them in matrix form,\n",
    "    # one per row, unsorted.\n",
    "    samReplicates <- t(replicate(reps, sort(sample(n, k))))\n",
    "    return(samReplicates)\n",
    "}\n",
    "                                         \n",
    "getEmpiricalDistr <- function(samReplicates){\n",
    "    # Takes input from getEmpiricalDistrRaw\n",
    "    uniqueSampleVec <- unique(samReplicates)\n",
    "    uniqueSamples <- vector(\"list\", nrow(uniqueSampleVec))\n",
    "    for(i in seq_along(uniqueSamples)){\n",
    "        sam <- uniqueSampleVec[i, ]\n",
    "        uniqueSamples[[i]]$sample <- sam\n",
    "        uniqueSamples[[i]]$freq <- sum(apply(samReplicates, 1, function(row) all(row==sam)))\n",
    "    }\n",
    "    return(uniqueSamples)\n",
    "}\n",
    "                                             \n",
    "                                             \n",
    "getItemCounts <- function(samReplicates){\n",
    "  # Takes input from getEmpiricalDistrRaw\n",
    "  itemCounts <- data.frame(table(samReplicates))\n",
    "  colnames(itemCounts) <- c(\"Item\", \"Count\")\n",
    "  return(itemCounts)\n",
    "}                                         \n",
    "\n",
    "                                             \n",
    "getEmpiricalDistr_old <- function(n, k, reps=1e7){\n",
    "  samReplicates <- t(replicate(reps, sort(sample(n, k))))\n",
    "  uniqueSampleVec <- unique(samReplicates)\n",
    "  uniqueSamples <- vector(\"list\", nrow(uniqueSampleVec))\n",
    "  for(i in seq_along(uniqueSamples)){\n",
    "    sam <- uniqueSampleVec[i, ]\n",
    "    uniqueSamples[[i]]$sample <- sam\n",
    "    uniqueSamples[[i]]$freq <- sum(apply(samReplicates, 1, function(row) all(row==sam)))\n",
    "  }\n",
    "  return(uniqueSamples)\n",
    "}\n",
    "                                                                          \n",
    "\n",
    "getItemCounts_old <- function(n, k, reps = 10^7){\n",
    "  samReplicates <- t(replicate(reps, sort(sample(n, k))))\n",
    "  itemCounts <- data.frame(table(samReplicates))\n",
    "  colnames(itemCounts) <- c(\"Item\", \"Count\")\n",
    "  return(itemCounts)\n",
    "}\n",
    "\n",
    "                                         \n",
    "getItemFreq <- function(itemCounts, reps = 10^7){\n",
    "  itemCounts$Probability <- itemCounts$Count/reps\n",
    "  return(itemCounts)\n",
    "}\n",
    "\n",
    "\n",
    "computeMaxProbRatio <- function(probs){\n",
    "  return(max(probs) / min(probs))\n",
    "}\n",
    "\n",
    "                                         \n",
    "conductChisqTest <- function(counts){\n",
    "  res <- chisq.test(counts)\n",
    "  return(list(\n",
    "    \"Statistic\" = res$statistic,\n",
    "    \"DF\" = res$parameter,\n",
    "    \"Pvalue\" = res$p.value\n",
    "  ))\n",
    "}"
   ]
  },
  {
   "cell_type": "code",
   "execution_count": null,
   "metadata": {
    "collapsed": true
   },
   "outputs": [],
   "source": [
    "library(testthat)\n",
    "\n",
    "distrNormalRange <- function(w, n){\n",
    "  # CDF of the range of n IID standard normals, evaluated at w\n",
    "  tmp <- integrate(function(x) dnorm(x)*(pnorm(x+w)-pnorm(x))^(n-1), lower = -Inf, upper = Inf)\n",
    "  n*tmp$value\n",
    "}\n",
    "\n",
    "\n",
    "test_distrNormalRange <- function(){\n",
    "  n = 100\n",
    "  set.seed(12345)\n",
    "  \n",
    "  # Works!\n",
    "  empiricalRangeDistr <- replicate(100000, {\n",
    "    tmp <- rnorm(n)\n",
    "    max(tmp) - min(tmp)\n",
    "  })\n",
    "  for(w in seq(3, 6, by = 0.5)){\n",
    "    emp <- mean(empiricalRangeDistr <= w)\n",
    "    expect_equal(distrNormalRange(w, n), emp, tolerance = 0.005)\n",
    "  }\n",
    "}\n",
    "\n",
    "distrMultinomialRange <- function(w, n, k){\n",
    "  # CDF of the range of multinomial variables evaluated at w\n",
    "  # n draws, k categories each having probability 1/k\n",
    "  cutoff <- (w - 1/(2*n))*sqrt(k/n)\n",
    "  return(distrNormalRange(cutoff, k))\n",
    "}\n",
    "\n",
    "test_distrMultinomialRange <- function(){\n",
    "  reps = 10000\n",
    "  \n",
    "  bins = 15\n",
    "  set.seed(12345)\n",
    "  \n",
    "  # Works!\n",
    "  empiricalRangeDistr <- replicate(100000, {\n",
    "    tmp <- rmultinom(n = 1, size = reps, prob = rep(1/bins, bins))\n",
    "    diff(range(tmp))\n",
    "  })\n",
    "  for(w in (1:20)*10){\n",
    "    emp <- mean(empiricalRangeDistr <= w)\n",
    "    expect_equal(distrMultinomialRange(w, reps, bins), emp, tolerance = 0.015)\n",
    "  }\n",
    "}\n",
    "                   \n",
    "# Will be silent if there are no errors\n",
    "test_distrNormalRange()\n",
    "test_distrMultinomialRange()"
   ]
  },
  {
   "cell_type": "code",
   "execution_count": null,
   "metadata": {
    "collapsed": true
   },
   "outputs": [],
   "source": [
    "# Boilerplate stuff\n",
    "\n",
    "reps <- 10^7\n",
    "n <- c(13, 30, 90)\n",
    "k <- c(4, 10, 20)\n",
    "\n",
    "maxProb <- c()\n",
    "minProb <- c()\n",
    "meanProb <- c()\n",
    "maxProbRatio <- c()\n",
    "nvalues <- c()\n",
    "kvalues <- c()\n",
    "prng <- c()\n",
    "seed <- c()\n",
    "\n",
    "# FO = first order selection probabilities\n",
    "chisqStatistic_FO <- c()\n",
    "chisqDF_FO <- c()\n",
    "chisqPvalue_FO <- c()\n",
    "rangeStat_FO <- c()\n",
    "rangePvalue_FO <- c()\n",
    "\n",
    "# US = unique sample selection probabilities\n",
    "chisqStatistic_US <- c()\n",
    "chisqDF_US <- c()\n",
    "chisqPvalue_US <- c()\n",
    "rangeStat_US <- c()\n",
    "rangePvalue_US <- c()"
   ]
  },
  {
   "cell_type": "markdown",
   "metadata": {},
   "source": [
    "# Super-Duper"
   ]
  },
  {
   "cell_type": "code",
   "execution_count": null,
   "metadata": {
    "collapsed": false
   },
   "outputs": [],
   "source": [
    "seedvalues <- c(100, 233424280)\n",
    "\n",
    "for(nn in n){\n",
    "  for(kk in k){\n",
    "    if(kk >= nn){\n",
    "      next\n",
    "    }\n",
    "    \n",
    "    for(ss in seedvalues){\n",
    "      \n",
    "      set.seed(ss, kind = \"Super-Duper\")\n",
    "      edistr <- getEmpiricalDistrRaw(nn, kk, reps)\n",
    "      itemFreq <- getItemFreq(getItemCounts(edistr), reps)\n",
    "      samFreq <- getEmpiricalDistr(edistr)\n",
    "      \n",
    "      maxProb <- c(maxProb, max(itemFreq$Probability))\n",
    "      minProb <- c(minProb, min(itemFreq$Probability))\n",
    "      meanProb <- c(meanProb, mean(itemFreq$Probability))\n",
    "      maxProbRatio <- c(maxProbRatio, computeMaxProbRatio(itemFreq$Probability))\n",
    "      nvalues <- c(nvalues, nn)\n",
    "      kvalues <- c(kvalues, kk)\n",
    "      prng <- c(prng, \"Super-Duper\")\n",
    "      seed <- c(seed, ss) \n",
    "      \n",
    "      # First order\n",
    "      chisqtest <- conductChisqTest(itemFreq$Count)\n",
    "      chisqDF_FO <- c(chisqDF_FO, chisqtest$DF)\n",
    "      chisqStatistic_FO <- c(chisqStatistic_FO, chisqtest$Statistic)\n",
    "      chisqPvalue_FO <- c(chisqPvalue_FO, chisqtest$Pvalue)\n",
    "        \n",
    "      rangeObserved_FO <- diff(range(itemFreq$Count))\n",
    "      rangeStat_FO <- c(rangeStat_FO, rangeObserved_FO)\n",
    "      rangePvalue_FO <- c(rangePvalue_FO, 1-distrMultinomialRange(rangeObserved_FO, reps*kk, nn))\n",
    "        \n",
    "      # Unique samples\n",
    "      sampleFreqVec <- sapply(samFreq, function(x) x$freq)\n",
    "      chisqtest <- conductChisqTest(sampleFreqVec)\n",
    "      chisqDF_US <- c(chisqDF_US, chisqtest$DF)\n",
    "      chisqStatistic_US <- c(chisqStatistic_US, chisqtest$Statistic)\n",
    "      chisqPvalue_US <- c(chisqPvalue_US, chisqtest$Pvalue)\n",
    "      \n",
    "      rangeObserved_US <- diff(range(sampleFreqVec))\n",
    "      rangeStat_US <- c(rangeStat_US, rangeObserved_US)\n",
    "      rangePvalue_US <- c(rangePvalue_US, 1-distrMultinomialRange(rangeObserved_US, reps, choose(nn, kk)))\n",
    "    }\n",
    "  }\n",
    "}"
   ]
  },
  {
   "cell_type": "code",
   "execution_count": null,
   "metadata": {
    "collapsed": false
   },
   "outputs": [],
   "source": [
    "seedvalues <- c(100, 233424280, 429496729)\n",
    "\n",
    "for(nn in n){\n",
    "  for(kk in k){\n",
    "    if(kk >= nn){\n",
    "      next\n",
    "    }\n",
    "    \n",
    "    for(ss in seedvalues){\n",
    "      \n",
    "      set.seed(ss, kind = \"Mersenne-Twister\")\n",
    "      edistr <- getEmpiricalDistrRaw(nn, kk, reps)\n",
    "      itemFreq <- getItemFreq(getItemCounts(edistr), reps)\n",
    "      samFreq <- getEmpiricalDistr(edistr)\n",
    "\n",
    "      maxProb <- c(maxProb, max(itemFreq$Probability))\n",
    "      minProb <- c(minProb, min(itemFreq$Probability))\n",
    "      meanProb <- c(meanProb, mean(itemFreq$Probability))\n",
    "      maxProbRatio <- c(maxProbRatio, computeMaxProbRatio(itemFreq$Probability))\n",
    "      nvalues <- c(nvalues, nn)\n",
    "      kvalues <- c(kvalues, kk)\n",
    "      prng <- c(prng, \"Mersenne Twister\")\n",
    "      seed <- c(seed, ss)\n",
    "      \n",
    "      # First order\n",
    "      chisqtest <- conductChisqTest(itemFreq$Count)\n",
    "      chisqDF_FO <- c(chisqDF_FO, chisqtest$DF)\n",
    "      chisqStatistic_FO <- c(chisqStatistic_FO, chisqtest$Statistic)\n",
    "      chisqPvalue_FO <- c(chisqPvalue_FO, chisqtest$Pvalue)\n",
    "        \n",
    "      rangeObserved_FO <- diff(range(itemFreq$Count))\n",
    "      rangeStat_FO <- c(rangeStat_FO, rangeObserved_FO)\n",
    "      rangePvalue_FO <- c(rangePvalue_FO, 1-distrMultinomialRange(rangeObserved_FO, reps*kk, nn))\n",
    "        \n",
    "      # Unique samples\n",
    "      sampleFreqVec <- sapply(samFreq, function(x) x$freq)\n",
    "      chisqtest <- conductChisqTest(sampleFreqVec)\n",
    "      chisqDF_US <- c(chisqDF_US, chisqtest$DF)\n",
    "      chisqStatistic_US <- c(chisqStatistic_US, chisqtest$Statistic)\n",
    "      chisqPvalue_US <- c(chisqPvalue_US, chisqtest$Pvalue)\n",
    "      \n",
    "      rangeObserved_US <- diff(range(sampleFreqVec))\n",
    "      rangeStat_US <- c(rangeStat_US, rangeObserved_US)\n",
    "      rangePvalue_US <- c(rangePvalue_US, 1-distrMultinomialRange(rangeObserved_US, reps, choose(nn, kk)))\n",
    "    }\n",
    "  }\n",
    "}"
   ]
  },
  {
   "cell_type": "markdown",
   "metadata": {},
   "source": [
    "# First-order selection probabilities, summary statistics\n"
   ]
  },
  {
   "cell_type": "code",
   "execution_count": null,
   "metadata": {
    "collapsed": false
   },
   "outputs": [],
   "source": [
    "d1 <- cbind(nvalues, kvalues, prng, seed, minProb, meanProb, maxProb, maxProbRatio)\n",
    "rownames(d1) <- NULL\n",
    "\n",
    "ord <- order(nvalues, kvalues, prng, seed)\n",
    "d1[ord, ]"
   ]
  },
  {
   "cell_type": "markdown",
   "metadata": {},
   "source": [
    "# First order selection probabilities, chi-squared test and range statistic\n",
    "\n",
    "We first test whether each item $1, \\dots, k$ is selected with equal probability. We do two tests: the usual chi-squared test and another test based on the range of the multinomial values, $max_i n_i - min_i n_i$, where $n_1, \\dots, n_k$ are the number of items in each of $k$ cells that have equal probability $1/k$.\n",
    "\n",
    "Johnson and Young (1960) and Young (1962) provide the following approximation to the distribution of the range\n",
    "\n",
    "$$P(\\max_i n_k - \\min_i n_k \\leq r) \\approx P(W_m \\leq (r-(2n)^{-1})(m/n)^{1/2})$$\n",
    "\n",
    "where $W_m$ denotes the sample range of $m$ independent standard normal random variables. It is a known result (see e.g. Pearson and Hartley p. 43, 1954 or Ruben, 1960) that the distribution function for the range of IID normal samples is given by\n",
    "\n",
    "$$R(w) = n \\int_{-\\infty}^{\\infty} \\phi(x)\\left[ \\Phi(x+w) - \\Phi(x)\\right]^{n-1}dx$$\n",
    "\n",
    "where $\\phi$ and $\\Phi$ are the standard normal density and cumulative distribution function, respectively.  We leverage these two results to approximate the p-value of the range statistic."
   ]
  },
  {
   "cell_type": "code",
   "execution_count": null,
   "metadata": {
    "collapsed": false
   },
   "outputs": [],
   "source": [
    "d2 <- cbind(nvalues, kvalues, prng, seed, chisqStatistic_FO, chisqDF_FO, chisqPvalue_FO, rangeStat_FO, rangePvalue_FO)\n",
    "rownames(d2) <- NULL\n",
    "d2[ord, ]"
   ]
  },
  {
   "cell_type": "markdown",
   "metadata": {
    "collapsed": true
   },
   "source": [
    "# Selection probabilities for unique samples, chi-squared test"
   ]
  },
  {
   "cell_type": "code",
   "execution_count": null,
   "metadata": {
    "collapsed": false
   },
   "outputs": [],
   "source": [
    "d3 <- cbind(nvalues, kvalues, prng, seed, chisqStatistic_US, chisqDF_US, chisqPvalue_US, rangeStat_US, rangePvalue_US)\n",
    "rownames(d3) <- NULL\n",
    "d3[ord, ]"
   ]
  },
  {
   "cell_type": "code",
   "execution_count": null,
   "metadata": {
    "collapsed": true
   },
   "outputs": [],
   "source": []
  }
 ],
 "metadata": {
  "kernelspec": {
   "display_name": "R",
   "language": "R",
   "name": "ir"
  },
  "language_info": {
   "codemirror_mode": "r",
   "file_extension": ".r",
   "mimetype": "text/x-r-source",
   "name": "R",
   "pygments_lexer": "r",
   "version": "3.3.1"
  }
 },
 "nbformat": 4,
 "nbformat_minor": 1
}
