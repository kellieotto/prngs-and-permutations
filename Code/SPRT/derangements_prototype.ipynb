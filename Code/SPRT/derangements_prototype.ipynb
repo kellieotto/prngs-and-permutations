{
 "cells": [
  {
   "cell_type": "markdown",
   "metadata": {},
   "source": [
    "# Derangements\n",
    "\n",
    "A *derangement* is a permutation of $\\{1, \\dots, n\\}$ that has no fixed points. We'd like to find the probability of a derangement if all permutations are equally likely.\n",
    "\n",
    "The number of derangements $D_n$ is equal to the number of permutations minus the number of permutations that fix at least one point. Let $A_p$ denote the set of permutations that leave the $p$th item in its place, for $1 \\leq p \\leq n$. By the inclusion-exclusion principle, the number of permutations that leave at least one item in its place is\n",
    "\n",
    "\\begin{align*}\n",
    "\\lvert \\cup_{p=1}^n A_p \\rvert &= \\sum_{p=1}^n \\lvert A_p \\rvert - \\sum_{p < q} \\lvert A_p \\cap A_q \\rvert + ... + (-1)^n \\lvert \\cap_{p=1}^n A_p \\rvert\n",
    "\\end{align*}\n",
    "\n",
    "Let $T \\subseteq \\{1, \\dots, n\\}$ be some set of points with $\\lvert T \\rvert = k$. If we fix the points of $T$, then we can freely permute the remaining $n-k$, so there are $(n-k)!$ such permutations that fix $T$. There are ${n \\choose k}$ such subsets $T$ that have cardinality $k$. Therefore the $k$th term in the sum above is ${n \\choose k}(n-k)!$. Plugging in, we get\n",
    "\n",
    "\\begin{align*}\n",
    "\\lvert \\cup_{p=1}^n A_p \\rvert &= {n \\choose 1}(n-1)! - {n \\choose 2}(n-2)! + \\dots + (-1)^{n-1}{n \\choose {n-1}} + (-1)^n \\\\\n",
    "&= \\sum_{k=1}^n (-1)^k{n \\choose k}(n-k)!\n",
    "\\end{align*}\n",
    "\n",
    "And thus, the number of derangements is\n",
    "\n",
    "$$D_n = n! - \\sum_{k=1}^n (-1)^k{n \\choose k}(n-k)! = \\sum_{k=0}^n (-1)^k{n \\choose k}(n-k)!$$\n",
    "\n",
    "The probability of any particular permutation is $1/n!$, so the probability of a derangement is\n",
    "\n",
    "$$\\frac{D_n}{n!} = \\sum_{k=0}^n (-1)^k{n \\choose k}\\frac{(n-k)!}{n!} = \\sum_{k=0}^n \\frac{(-1)^k}{k!}$$"
   ]
  },
  {
   "cell_type": "code",
   "execution_count": 1,
   "metadata": {
    "collapsed": false
   },
   "outputs": [],
   "source": [
    "%matplotlib inline\n",
    "import matplotlib.pyplot as plt\n",
    "import math\n",
    "import numpy as np\n",
    "import sys\n",
    "sys.path.append('../modules')\n",
    "from sample import permute_indices, fykd\n",
    "from sha256prng import SHA256\n",
    "from prng import lcgRandom\n",
    "from scipy.misc import comb"
   ]
  },
  {
   "cell_type": "code",
   "execution_count": 2,
   "metadata": {
    "collapsed": true
   },
   "outputs": [],
   "source": [
    "def prob_derangement(n):\n",
    "    fp_prob = np.ones(n+1)\n",
    "    for k in range(1, len(fp_prob)):\n",
    "        fp_prob[k] = -1/k\n",
    "    fp_prob = np.cumprod(fp_prob)\n",
    "    return sum(fp_prob)\n",
    "\n",
    "def prob_derangement2(n):\n",
    "    fp_prob = np.ones(n+1)\n",
    "    for k in range(1, len(fp_prob)):\n",
    "        fp_prob[k] = fp_prob[k-1] * (-1/k)\n",
    "    return sum(fp_prob)"
   ]
  },
  {
   "cell_type": "code",
   "execution_count": 3,
   "metadata": {
    "collapsed": false
   },
   "outputs": [
    {
     "name": "stdout",
     "output_type": "stream",
     "text": [
      "10000 loops, best of 3: 29.6 µs per loop\n",
      "10000 loops, best of 3: 44.6 µs per loop\n"
     ]
    }
   ],
   "source": [
    "%timeit prob_derangement(100)\n",
    "%timeit prob_derangement2(100)"
   ]
  },
  {
   "cell_type": "code",
   "execution_count": 4,
   "metadata": {
    "collapsed": false
   },
   "outputs": [
    {
     "name": "stdout",
     "output_type": "stream",
     "text": [
      "0.367879441171 0.367879441171\n"
     ]
    }
   ],
   "source": [
    "print(1/np.exp(1), prob_derangement(100))"
   ]
  },
  {
   "cell_type": "code",
   "execution_count": 5,
   "metadata": {
    "collapsed": true
   },
   "outputs": [],
   "source": [
    "def check_derangement(vec, perm):\n",
    "    '''\n",
    "    Check whether perm is a derangement of vec\n",
    "    Inputs must be numpy arrays\n",
    "    '''\n",
    "    \n",
    "    return not any(np.equal(vec, perm))\n",
    "\n",
    "def check_derangement2(vec, perm):\n",
    "    \n",
    "    anyequal = np.prod(vec-perm)\n",
    "    return not bool(anyequal)"
   ]
  },
  {
   "cell_type": "code",
   "execution_count": 6,
   "metadata": {
    "collapsed": false
   },
   "outputs": [
    {
     "name": "stdout",
     "output_type": "stream",
     "text": [
      "The slowest run took 33.17 times longer than the fastest. This could mean that an intermediate result is being cached.\n",
      "1000000 loops, best of 3: 1.68 µs per loop\n",
      "The slowest run took 13.41 times longer than the fastest. This could mean that an intermediate result is being cached.\n",
      "100000 loops, best of 3: 3.19 µs per loop\n"
     ]
    }
   ],
   "source": [
    "vec = np.array([1,2,3,4,5])\n",
    "perm = np.array([2,3,4,5,1])\n",
    "\n",
    "%timeit check_derangement(vec, perm)\n",
    "%timeit check_derangement2(vec, perm)"
   ]
  },
  {
   "cell_type": "markdown",
   "metadata": {},
   "source": [
    "# Permutation functions\n",
    "\n",
    "We include two -- PIKK with k=n and Knuth shuffle."
   ]
  },
  {
   "cell_type": "markdown",
   "metadata": {},
   "source": [
    "# SPRT"
   ]
  },
  {
   "cell_type": "code",
   "execution_count": 16,
   "metadata": {
    "collapsed": true
   },
   "outputs": [],
   "source": [
    "def sequential_derangement_test(sampling_function, n, alpha, beta, multiplier, maxsteps=10**5):\n",
    "    '''\n",
    "    Conduct Wald's SPRT for whether derangements occur more or less frequently than 1/e\n",
    "    H_0: derangements occur with equal frequency (p approx 1/e)\n",
    "    H_1 upper: p = p1 = multiplier * p0 > p0\n",
    "    H_1 lower: p = p1_lower = (2-multiplier) * p0 < p0\n",
    "    \n",
    "    sampling_function: a function which generates a random permutation\n",
    "    n: number of items\n",
    "    alpha: desired type 1 error rate\n",
    "    beta: desired type 2 error rate\n",
    "    multiplier: value in (1, 1/p0). Determines the \"greater than\" alternative hypothesis,\n",
    "        and 2-multiplier determines the \"less than\" alternative hypothesis\n",
    "    maxsteps: maximum number of trials before stopping the test. Default is 10**5.\n",
    "    '''\n",
    "\n",
    "    assert multiplier > 1\n",
    "    assert maxsteps > 0\n",
    "\n",
    "    # Set p0 = probability of a derangement\n",
    "    p0 = prob_derangement(n)\n",
    "    p1 = multiplier*p0\n",
    "    p1_lower = (2-multiplier)*p0\n",
    "    assert p1 < 1\n",
    "    assert p1_lower < 1\n",
    "    assert p0 < 1\n",
    "    \n",
    "    # Set parameters\n",
    "    lower = beta/(1-alpha)\n",
    "    upper = (1-beta)/alpha\n",
    "    lr_occurs_upper = p1/p0\n",
    "    lr_doesnotoccur_upper = (1 - p1)/(1 - p0)\n",
    "    lr_occurs_lower = p1_lower/p0\n",
    "    lr_doesnotoccur_lower = (1 - p1_lower)/(1 - p0)\n",
    "    \n",
    "    LR_upper = [1]\n",
    "    LR_lower = [1]\n",
    "    decision_upper = None        \n",
    "    decision_lower = None        \n",
    "    vec = np.array(range(0, n))\n",
    "    steps = 0\n",
    "    \n",
    "    lower_test_unfinished = 1\n",
    "    upper_test_unfinished = 1\n",
    "    \n",
    "    # Draw samples\n",
    "    while steps < maxsteps and (lower_test_unfinished + upper_test_unfinished):\n",
    "        steps += 1\n",
    "        perm = sampling_function(n)\n",
    "        Dn = check_derangement(vec, perm)\n",
    "\n",
    "        # Run test at step n for greater than alternative\n",
    "        if upper_test_unfinished:     \n",
    "            if Dn:\n",
    "                LR_upper.append(LR_upper[-1] * lr_occurs_upper)\n",
    "            else:\n",
    "                LR_upper.append(LR_upper[-1] * lr_doesnotoccur_upper)\n",
    "            \n",
    "            if LR_upper[-1] <= lower:\n",
    "                # accept the null and stop\n",
    "                decision_upper = 0\n",
    "                upper_test_unfinished = 0\n",
    "                \n",
    "            if LR_upper[-1] >= upper:\n",
    "                # reject the null and stop\n",
    "                decision_upper = 1\n",
    "                upper_test_unfinished = 0 \n",
    "            \n",
    "        # Run test at step n for less than alternative\n",
    "        if lower_test_unfinished:     \n",
    "            if Dn:\n",
    "                LR_lower.append(LR_lower[-1] * lr_occurs_lower)\n",
    "            else:\n",
    "                LR_lower.append(LR_lower[-1] * lr_doesnotoccur_lower)\n",
    "            \n",
    "            if LR_lower[-1] <= lower:\n",
    "                # accept the null and stop\n",
    "                decision_lower = 0\n",
    "                lower_test_unfinished = 0\n",
    "                \n",
    "            if LR_lower[-1] >= upper:\n",
    "                # reject the null and stop\n",
    "                decision_lower = 1\n",
    "                lower_test_unfinished = 0       \n",
    "                \n",
    "    return {'decision_upper' : decision_upper,\n",
    "            'decision_lower' : decision_lower,\n",
    "            'lower_threshold' : lower,\n",
    "            'upper_threshold' : upper,\n",
    "            'LR_upper' : LR_upper,\n",
    "            'LR_lower' : LR_lower,\n",
    "            'steps_lower' : len(LR_lower)-1,\n",
    "            'steps_upper' : len(LR_upper)-1\n",
    "            }"
   ]
  },
  {
   "cell_type": "code",
   "execution_count": 17,
   "metadata": {
    "collapsed": true
   },
   "outputs": [],
   "source": [
    "alpha = 0.05/2\n",
    "beta = 0\n",
    "multiplier = 1.01"
   ]
  },
  {
   "cell_type": "markdown",
   "metadata": {},
   "source": [
    "## RANDU"
   ]
  },
  {
   "cell_type": "code",
   "execution_count": 18,
   "metadata": {
    "collapsed": false
   },
   "outputs": [
    {
     "name": "stdout",
     "output_type": "stream",
     "text": [
      "[0 1 2 4 3]\n",
      "[3 2 0 1 4]\n",
      "[3 0 1 4 2]\n"
     ]
    },
    {
     "data": {
      "text/plain": [
       "(None, 100000, None, 100000)"
      ]
     },
     "execution_count": 18,
     "metadata": {},
     "output_type": "execute_result"
    }
   ],
   "source": [
    "prng = lcgRandom(100) # from random.org Timestamp: 2017-01-14 22:56:40 UTC\n",
    "sampling_func = lambda n: permute_indices(n, prng)\n",
    "print(sampling_func(5))\n",
    "\n",
    "print(sampling_func(5))\n",
    "\n",
    "print(sampling_func(5))\n",
    "\n",
    "res = sequential_derangement_test(sampling_func, n=100, alpha=alpha, beta=beta, multiplier=multiplier)\n",
    "res['decision_lower'], res['steps_lower'], res['decision_upper'], res['steps_upper']"
   ]
  },
  {
   "cell_type": "code",
   "execution_count": 19,
   "metadata": {
    "collapsed": false
   },
   "outputs": [
    {
     "name": "stdout",
     "output_type": "stream",
     "text": [
      "[0 1 2 3 4]\n",
      "[1 0 3 2 4]\n",
      "[2 0 1 3 4]\n"
     ]
    },
    {
     "data": {
      "text/plain": [
       "(1, 32778, None, 100000)"
      ]
     },
     "execution_count": 19,
     "metadata": {},
     "output_type": "execute_result"
    }
   ],
   "source": [
    "prng = lcgRandom(100) # from random.org Timestamp: 2017-01-14 22:56:40 UTC\n",
    "sampling_func = lambda n: fykd(np.array(range(n)), prng)\n",
    "print(sampling_func(5))\n",
    "\n",
    "print(sampling_func(5))\n",
    "\n",
    "print(sampling_func(5))\n",
    "\n",
    "res = sequential_derangement_test(sampling_func, n=100, alpha=alpha, beta=beta, multiplier=multiplier)\n",
    "res['decision_lower'], res['steps_lower'], res['decision_upper'], res['steps_upper']"
   ]
  },
  {
   "cell_type": "markdown",
   "metadata": {},
   "source": [
    "## Super-Duper"
   ]
  },
  {
   "cell_type": "code",
   "execution_count": 20,
   "metadata": {
    "collapsed": false
   },
   "outputs": [
    {
     "data": {
      "text/plain": [
       "(None, 100000, None, 100000)"
      ]
     },
     "execution_count": 20,
     "metadata": {},
     "output_type": "execute_result"
    }
   ],
   "source": [
    "A_SD = 0\n",
    "B_SD = 69069\n",
    "M_SD = 2**32\n",
    "sdlcg = lcgRandom(seed=547691802, A=A_SD, B=B_SD, M=M_SD) \n",
    "sampling_func = lambda n: permute_indices(n, sdlcg)\n",
    "\n",
    "res = sequential_derangement_test(sampling_func, n=100, alpha=alpha, beta=beta, multiplier=multiplier)\n",
    "res['decision_lower'], res['steps_lower'], res['decision_upper'], res['steps_upper']"
   ]
  },
  {
   "cell_type": "code",
   "execution_count": 21,
   "metadata": {
    "collapsed": false
   },
   "outputs": [
    {
     "data": {
      "text/plain": [
       "(1, 23866, None, 100000)"
      ]
     },
     "execution_count": 21,
     "metadata": {},
     "output_type": "execute_result"
    }
   ],
   "source": [
    "A_SD = 0\n",
    "B_SD = 69069\n",
    "M_SD = 2**32\n",
    "sdlcg = lcgRandom(seed=547691802, A=A_SD, B=B_SD, M=M_SD) \n",
    "sampling_func = lambda n: fykd(np.array(range(n)), sdlcg)\n",
    "\n",
    "res = sequential_derangement_test(sampling_func, n=100, alpha=alpha, beta=beta, multiplier=multiplier)\n",
    "res['decision_lower'], res['steps_lower'], res['decision_upper'], res['steps_upper']"
   ]
  },
  {
   "cell_type": "markdown",
   "metadata": {},
   "source": [
    "## Mersenne Twister"
   ]
  },
  {
   "cell_type": "code",
   "execution_count": 22,
   "metadata": {
    "collapsed": false
   },
   "outputs": [
    {
     "data": {
      "text/plain": [
       "(None, 100000, None, 100000)"
      ]
     },
     "execution_count": 22,
     "metadata": {},
     "output_type": "execute_result"
    }
   ],
   "source": [
    "prng = np.random\n",
    "prng.seed(547691802)\n",
    "sampling_func = lambda n: permute_indices(n, prng)\n",
    "\n",
    "res = sequential_derangement_test(sampling_func, n=100, alpha=alpha, beta=beta, multiplier=multiplier)\n",
    "res['decision_lower'], res['steps_lower'], res['decision_upper'], res['steps_upper']"
   ]
  },
  {
   "cell_type": "code",
   "execution_count": 23,
   "metadata": {
    "collapsed": false
   },
   "outputs": [
    {
     "data": {
      "text/plain": [
       "(1, 44951, None, 100000)"
      ]
     },
     "execution_count": 23,
     "metadata": {},
     "output_type": "execute_result"
    }
   ],
   "source": [
    "prng = np.random\n",
    "prng.seed(547691802)\n",
    "sampling_func = lambda n: fykd(np.array(range(n)), prng)\n",
    "\n",
    "res = sequential_derangement_test(sampling_func, n=100, alpha=alpha, beta=beta, multiplier=multiplier)\n",
    "res['decision_lower'], res['steps_lower'], res['decision_upper'], res['steps_upper']"
   ]
  },
  {
   "cell_type": "markdown",
   "metadata": {},
   "source": [
    "## SHA-256"
   ]
  },
  {
   "cell_type": "code",
   "execution_count": 24,
   "metadata": {
    "collapsed": false
   },
   "outputs": [
    {
     "data": {
      "text/plain": [
       "(None, 100000, None, 100000)"
      ]
     },
     "execution_count": 24,
     "metadata": {},
     "output_type": "execute_result"
    }
   ],
   "source": [
    "prng = SHA256(385902398)\n",
    "sampling_func = lambda n: permute_indices(n, prng)\n",
    "\n",
    "res = sequential_derangement_test(sampling_func, n=100, alpha=alpha, beta=beta, multiplier=multiplier)\n",
    "res['decision_lower'], res['steps_lower'], res['decision_upper'], res['steps_upper']"
   ]
  },
  {
   "cell_type": "code",
   "execution_count": 25,
   "metadata": {
    "collapsed": false
   },
   "outputs": [
    {
     "data": {
      "text/plain": [
       "(1, 30398, None, 100000)"
      ]
     },
     "execution_count": 25,
     "metadata": {},
     "output_type": "execute_result"
    }
   ],
   "source": [
    "prng = SHA256(385902398)\n",
    "sampling_func = lambda n: fykd(np.array(range(n)), prng)\n",
    "\n",
    "res = sequential_derangement_test(sampling_func, n=100, alpha=alpha, beta=beta, multiplier=multiplier)\n",
    "res['decision_lower'], res['steps_lower'], res['decision_upper'], res['steps_upper']"
   ]
  },
  {
   "cell_type": "code",
   "execution_count": null,
   "metadata": {
    "collapsed": true
   },
   "outputs": [],
   "source": []
  }
 ],
 "metadata": {
  "kernelspec": {
   "display_name": "Python 3",
   "language": "python",
   "name": "python3"
  },
  "language_info": {
   "codemirror_mode": {
    "name": "ipython",
    "version": 3
   },
   "file_extension": ".py",
   "mimetype": "text/x-python",
   "name": "python",
   "nbconvert_exporter": "python",
   "pygments_lexer": "ipython3",
   "version": "3.4.3"
  }
 },
 "nbformat": 4,
 "nbformat_minor": 1
}
