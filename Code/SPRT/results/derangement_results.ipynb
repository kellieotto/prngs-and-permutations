{
 "cells": [
  {
   "cell_type": "markdown",
   "metadata": {},
   "source": [
    "# Sequential probability ratio test for permutations\n",
    "\n",
    "## General Bernoulli SPRT\n",
    "\n",
    "Suppose we observe independent, equiprobable events $X_1, X_2, \\dots$, where $X_n$ is an indicator for whether the $n$th event occurred or not. Each indicator has a Bernoulli distribution with some probability $p$. We'd like to test the null hypothesis $H_0: p = p_0$ against the alternative $H_1: p = p_1 > p_0$. Wald's sequential probability ratio test (SPRT) is a hypothesis testing procedure, based on iteratively updating the likelihood ratio for the data after each observation, and reaching a decision once the likelihood ratio passes some threshold.\n",
    "\n",
    "#### Procedure\n",
    "\n",
    "Set $\\mbox{LR}_0 \\leftarrow 1$ and $j \\leftarrow 0$.\n",
    "\n",
    " + Increment $j$\n",
    " + If $X_j = 1$, $\\mbox{LR}_j \\leftarrow \\mbox{LR}_{j-1} \\times p_1/p_0$. \n",
    " + If $X_j = 0$, $\\mbox{LR}_j \\leftarrow \\mbox{LR}_{j-1} \\times (1-p_1)/(1- p_0)$.\n",
    "\n",
    "Conclude $p > p_0$ (reject the null hypothesis) if \n",
    "$$\\mbox{LR}_j  \\ge \\frac{1-\\beta}{\\alpha}.$$\n",
    "Conclude $p \\le p_0$ (fail to reject the null hypothesis) if\n",
    "$$ \\mbox{LR}_j  \\le \\frac{\\beta}{1-\\alpha}.$$\n",
    "Otherwise, draw again.\n",
    "\n",
    "#### Properties of the test\n",
    "\n",
    "For any $\\alpha \\in (0, 1)$ and $\\beta \\in [0, 1)$, the sequential algorithm above tests the hypothesis $H_0$ at level no larger than $\\alpha$ and with power at least $1-\\beta$ against the alternative $H_1$.\n",
    "\n",
    "In particular, Wald (1945) showed that if $H_0$ is true, then the probability is at most $\\alpha$ that the likelihood ratio is ever greater than $1/\\alpha$, no matter how many observations are made. If we set $\\beta = 0$, then the likelihood ratio when we stop the test can be interpreted as a $p$-value.\n",
    "\n",
    "The SPRT approximately minimizes the  expected sample size when $p \\le p_0$ or $p > p_1$.\n",
    "For values in $(p_1, p_0)$, it can have larger sample sizes than fixed-sample-size tests.\n",
    "\n",
    "## Derangements\n",
    "\n",
    "A derangement is a permutation that leaves no item fixed. For instance, if we permute the vector $(1, 2, 3, 4)$, then $(2, 3, 4, 1)$ is a derangement but $(1, 3, 4, 2)$ is not. We will base a SPRT on the frequency of derangements when we use a particular PRNG and sampling algorithm. If all permutations occur with equal frequency, then the probability that a permutation is a derangement is given by $p_0 = \\frac{D_n}{n!}$, where $D_n$ is the number of derangements of $n$ items. To compute this probability under the null hypothesis, we need to count $D_n$.\n",
    "\n",
    "Let $A_p$ denote the set of permutations of $n$ items that fix the $p$th item, for $p=1,\\dots,n$. The set of derangements is the complement of the union of these sets, so $D_n = n! - \\lvert \\cup_{p=1}^n A_p \\rvert$. Using the inclusion-exclusion principle, we have\n",
    "\n",
    "\\begin{align*}\n",
    "\\lvert \\cup_{p=1}^n A_p \\rvert &= \\sum_{p=1}^n \\lvert A_p \\rvert - \\sum_{p < q} \\lvert A_p \\cap A_q \\rvert + \\dots + (-1)^{n+1}\\lvert \\cap_{p=1}^n A_p \\rvert \\\\\n",
    "&= \\text{# permutations fixing one item} - \\text{# permutations fixing two items} + \\dots + (-1)^{n+1} \\text{ permutations fixing all items}\n",
    "\\end{align*}\n",
    "\n",
    "The number of permutations fixing $p$ items is $(n-p)! {n \\choose p}$ because after fixing $p$ points, we can freely permute $n-p$ of them, and there are ${n\\choose p}$ subsets of $p$ points that we could fix. Plugging this back in, we get\n",
    "\n",
    "\\begin{align*}\n",
    "D_n &= n! - (n-1)!{n \\choose 1} + (n-2)!{n \\choose 2} - \\dots + (-1)^{n}{n \\choose n} \\\\\n",
    "\\frac{D_n}{n!} &= 1 - \\frac{1}{1!} + \\frac{1}{2!} - \\dots + \\frac{(-1)^{n}}{n!} \\\\\n",
    "&= \\sum_{p=0}^n \\frac{(-1)^{p}}{p!}\n",
    "\\end{align*}\n",
    "\n",
    "This probability converges quickly to $e^{-1} \\approx 0.3678794$, but differs somewhat for small $n$. We let $p_0 = \\frac{D_n}{n!}$ and conduct the SPRT for whether derangements occur with this frequency.\n",
    "\n",
    "## Simulation parameters\n",
    "\n",
    "We compare three PRNGs (Mersenne Twister, Super Duper LCG, and SHA-256) and two permutation algorithms (permuting indices and the Fisher-Yates-Knuth-Durstenfeld shuffle). Throughout, we use a population of size $n=10$, for a total of $10! = 3,628,800$ possible multinomial categories. We specify $p_1 = 1.1p_0$. We use a type I error rate of $\\alpha=0.05$ and type II error rate of $\\beta = 0$; this ensures that we never accept the null hypothesis, but either reject it at level $\\alpha$ or terminate after $10^7$ steps without making a decision.\n",
    "\n",
    "## Summary of results\n",
    "\n",
    "We tended to reject the null hypothesis around 5\\% of the time for the three PRNGs when permuting indices. We never rejected when using FYKD shuffle. SHA-256 tended to require more steps to reject the null than the other two PRNGs."
   ]
  },
  {
   "cell_type": "code",
   "execution_count": 1,
   "metadata": {
    "collapsed": false
   },
   "outputs": [
    {
     "name": "stderr",
     "output_type": "stream",
     "text": [
      "\n",
      "Attaching package: ‘dplyr’\n",
      "\n",
      "The following objects are masked from ‘package:stats’:\n",
      "\n",
      "    filter, lag\n",
      "\n",
      "The following objects are masked from ‘package:base’:\n",
      "\n",
      "    intersect, setdiff, setequal, union\n",
      "\n"
     ]
    }
   ],
   "source": [
    "library(dplyr)\n",
    "library(ggplot2)\n",
    "options(warn = (-1), message = (-1))"
   ]
  },
  {
   "cell_type": "code",
   "execution_count": 2,
   "metadata": {
    "collapsed": true
   },
   "outputs": [],
   "source": [
    "combinations <- expand.grid(c(\"MT\", \"SD\", \"SHA256\"),\n",
    "                            c(\"pi\", \"fykd\"))\n",
    "\n",
    "rawdatafiles <- list.files(\"../rawdata/\")\n",
    "\n",
    "res <- lapply(1:nrow(combinations), function(index){\n",
    "  filename <- paste0(combinations[index, 1],\n",
    "                     \"_derangements_\", combinations[index, 2], \"_n10.csv\")\n",
    "  if(!(filename %in% rawdatafiles)){ return()}\n",
    "  \n",
    "  tmp <- read.csv(paste0(\"../rawdata/\", filename), header = TRUE)\n",
    "  tmp$PRNG <- rep(combinations[index, 1], nrow(tmp))\n",
    "  tmp$algorithm <- rep(combinations[index, 2], nrow(tmp))\n",
    "  return(tmp)\n",
    "})\n",
    "res <- do.call(rbind, res)"
   ]
  },
  {
   "cell_type": "code",
   "execution_count": 3,
   "metadata": {
    "collapsed": false
   },
   "outputs": [
    {
     "data": {
      "text/html": [
       "<table>\n",
       "<thead><tr><th scope=col>prng</th><th scope=col>algorithm</th><th scope=col>seed</th><th scope=col>decision</th><th scope=col>LR</th><th scope=col>pvalue</th><th scope=col>steps</th><th scope=col>PRNG</th></tr></thead>\n",
       "<tbody>\n",
       "\t<tr><td>MT           </td><td>pi           </td><td> 739828299   </td><td>None         </td><td>9.535467e-322</td><td>1            </td><td>10000000     </td><td>MT           </td></tr>\n",
       "\t<tr><td>MT           </td><td>pi           </td><td>3802979302   </td><td>None         </td><td>1.086944e-322</td><td>1            </td><td>10000000     </td><td>MT           </td></tr>\n",
       "\t<tr><td>MT           </td><td>pi           </td><td>2488119888   </td><td>None         </td><td>5.434722e-323</td><td>1            </td><td>10000000     </td><td>MT           </td></tr>\n",
       "\t<tr><td>MT           </td><td>pi           </td><td>2813529707   </td><td>None         </td><td>4.940656e-323</td><td>1            </td><td>10000000     </td><td>MT           </td></tr>\n",
       "\t<tr><td>MT           </td><td>pi           </td><td> 564698376   </td><td>None         </td><td>5.434722e-323</td><td>1            </td><td>10000000     </td><td>MT           </td></tr>\n",
       "\t<tr><td>MT           </td><td>pi           </td><td>2114313936   </td><td>None         </td><td>4.446591e-323</td><td>1            </td><td>10000000     </td><td>MT           </td></tr>\n",
       "</tbody>\n",
       "</table>\n"
      ],
      "text/latex": [
       "\\begin{tabular}{r|llllllll}\n",
       " prng & algorithm & seed & decision & LR & pvalue & steps & PRNG\\\\\n",
       "\\hline\n",
       "\t MT            & pi            &  739828299    & None          & 9.535467e-322 & 1             & 10000000      & MT           \\\\\n",
       "\t MT            & pi            & 3802979302    & None          & 1.086944e-322 & 1             & 10000000      & MT           \\\\\n",
       "\t MT            & pi            & 2488119888    & None          & 5.434722e-323 & 1             & 10000000      & MT           \\\\\n",
       "\t MT            & pi            & 2813529707    & None          & 4.940656e-323 & 1             & 10000000      & MT           \\\\\n",
       "\t MT            & pi            &  564698376    & None          & 5.434722e-323 & 1             & 10000000      & MT           \\\\\n",
       "\t MT            & pi            & 2114313936    & None          & 4.446591e-323 & 1             & 10000000      & MT           \\\\\n",
       "\\end{tabular}\n"
      ],
      "text/plain": [
       "  prng algorithm seed       decision LR            pvalue steps    PRNG\n",
       "1 MT   pi         739828299 None     9.535467e-322 1      10000000 MT  \n",
       "2 MT   pi        3802979302 None     1.086944e-322 1      10000000 MT  \n",
       "3 MT   pi        2488119888 None     5.434722e-323 1      10000000 MT  \n",
       "4 MT   pi        2813529707 None     4.940656e-323 1      10000000 MT  \n",
       "5 MT   pi         564698376 None     5.434722e-323 1      10000000 MT  \n",
       "6 MT   pi        2114313936 None     4.446591e-323 1      10000000 MT  "
      ]
     },
     "metadata": {},
     "output_type": "display_data"
    },
    {
     "name": "stdout",
     "output_type": "stream",
     "text": [
      "'data.frame':\t6000 obs. of  8 variables:\n",
      " $ prng     : Factor w/ 3 levels \"MT\",\"SD\",\"SHA256\": 1 1 1 1 1 1 1 1 1 1 ...\n",
      " $ algorithm: Factor w/ 2 levels \"pi\",\"fykd\": 1 1 1 1 1 1 1 1 1 1 ...\n",
      " $ seed     : num  7.40e+08 3.80e+09 2.49e+09 2.81e+09 5.65e+08 ...\n",
      " $ decision : Factor w/ 2 levels \"1\",\"None\": 2 2 2 2 2 2 2 2 2 2 ...\n",
      " $ LR       : num  9.54e-322 1.09e-322 5.43e-323 4.94e-323 5.43e-323 ...\n",
      " $ pvalue   : num  1 1 1 1 1 1 1 1 1 1 ...\n",
      " $ steps    : int  10000000 10000000 10000000 10000000 10000000 10000000 10000000 10000000 10000000 10000000 ...\n",
      " $ PRNG     : Factor w/ 3 levels \"MT\",\"SD\",\"SHA256\": 1 1 1 1 1 1 1 1 1 1 ...\n"
     ]
    }
   ],
   "source": [
    "head(res)\n",
    "str(res)"
   ]
  },
  {
   "cell_type": "code",
   "execution_count": 4,
   "metadata": {
    "collapsed": false
   },
   "outputs": [
    {
     "data": {
      "text/html": [
       "<table>\n",
       "<thead><tr><th scope=col>PRNG</th><th scope=col>algorithm</th><th scope=col>Rejection rate</th></tr></thead>\n",
       "<tbody>\n",
       "\t<tr><td>MT    </td><td>pi    </td><td>0.044 </td></tr>\n",
       "\t<tr><td>MT    </td><td>fykd  </td><td>0.000 </td></tr>\n",
       "\t<tr><td>SD    </td><td>pi    </td><td>0.062 </td></tr>\n",
       "\t<tr><td>SD    </td><td>fykd  </td><td>0.000 </td></tr>\n",
       "\t<tr><td>SHA256</td><td>pi    </td><td>0.056 </td></tr>\n",
       "\t<tr><td>SHA256</td><td>fykd  </td><td>0.000 </td></tr>\n",
       "</tbody>\n",
       "</table>\n"
      ],
      "text/latex": [
       "\\begin{tabular}{r|lll}\n",
       " PRNG & algorithm & Rejection rate\\\\\n",
       "\\hline\n",
       "\t MT     & pi     & 0.044 \\\\\n",
       "\t MT     & fykd   & 0.000 \\\\\n",
       "\t SD     & pi     & 0.062 \\\\\n",
       "\t SD     & fykd   & 0.000 \\\\\n",
       "\t SHA256 & pi     & 0.056 \\\\\n",
       "\t SHA256 & fykd   & 0.000 \\\\\n",
       "\\end{tabular}\n"
      ],
      "text/plain": [
       "  PRNG   algorithm Rejection rate\n",
       "1 MT     pi        0.044         \n",
       "2 MT     fykd      0.000         \n",
       "3 SD     pi        0.062         \n",
       "4 SD     fykd      0.000         \n",
       "5 SHA256 pi        0.056         \n",
       "6 SHA256 fykd      0.000         "
      ]
     },
     "metadata": {},
     "output_type": "display_data"
    }
   ],
   "source": [
    "res %>% group_by(PRNG, algorithm) %>% summarise(\"Rejection rate\" = mean(decision == \"1\"))"
   ]
  },
  {
   "cell_type": "code",
   "execution_count": 7,
   "metadata": {
    "collapsed": false
   },
   "outputs": [
    {
     "data": {
      "text/html": [
       "<table>\n",
       "<thead><tr><th scope=col>PRNG</th><th scope=col>algorithm</th><th scope=col>Mean steps</th><th scope=col>Median steps</th><th scope=col>Min steps</th><th scope=col>Max steps</th></tr></thead>\n",
       "<tbody>\n",
       "\t<tr><td>MT       </td><td>pi       </td><td> 954.3864</td><td>782.0    </td><td> 99      </td><td>2862     </td></tr>\n",
       "\t<tr><td>SD       </td><td>pi       </td><td> 928.0323</td><td>642.0    </td><td>196      </td><td>4813     </td></tr>\n",
       "\t<tr><td>SHA256   </td><td>pi       </td><td>1022.4821</td><td>841.5    </td><td>205      </td><td>2803     </td></tr>\n",
       "</tbody>\n",
       "</table>\n"
      ],
      "text/latex": [
       "\\begin{tabular}{r|llllll}\n",
       " PRNG & algorithm & Mean steps & Median steps & Min steps & Max steps\\\\\n",
       "\\hline\n",
       "\t MT        & pi        &  954.3864 & 782.0     &  99       & 2862     \\\\\n",
       "\t SD        & pi        &  928.0323 & 642.0     & 196       & 4813     \\\\\n",
       "\t SHA256    & pi        & 1022.4821 & 841.5     & 205       & 2803     \\\\\n",
       "\\end{tabular}\n"
      ],
      "text/plain": [
       "  PRNG   algorithm Mean steps Median steps Min steps Max steps\n",
       "1 MT     pi         954.3864  782.0         99       2862     \n",
       "2 SD     pi         928.0323  642.0        196       4813     \n",
       "3 SHA256 pi        1022.4821  841.5        205       2803     "
      ]
     },
     "metadata": {},
     "output_type": "display_data"
    }
   ],
   "source": [
    "rejects <- res %>% filter(decision != \"None\")\n",
    "rejects %>% group_by(PRNG, algorithm) %>% summarise(\"Mean steps\" = mean(steps),\n",
    "                                                    \"Median steps\" = median(steps),\n",
    "                                                    \"Min steps\" = min(steps),\n",
    "                                                    \"Max steps\" = max(steps))"
   ]
  },
  {
   "cell_type": "code",
   "execution_count": 6,
   "metadata": {
    "collapsed": false
   },
   "outputs": [
    {
     "name": "stderr",
     "output_type": "stream",
     "text": [
      "`stat_bin()` using `bins = 30`. Pick better value with `binwidth`.\n"
     ]
    },
    {
     "data": {},
     "metadata": {},
     "output_type": "display_data"
    },
    {
     "data": {
      "image/png": "[encoded data removed]",
      "text/plain": [
       "plot without title"
      ]
     },
     "metadata": {},
     "output_type": "display_data"
    }
   ],
   "source": [
    "rejects %>% \n",
    "    ggplot(aes(steps)) + \n",
    "    geom_histogram() + \n",
    "    facet_grid(PRNG~algorithm) +\n",
    "    ggtitle(\"Steps until rejection\")"
   ]
  },
  {
   "cell_type": "code",
   "execution_count": null,
   "metadata": {
    "collapsed": true
   },
   "outputs": [],
   "source": []
  }
 ],
 "metadata": {
  "kernelspec": {
   "display_name": "R",
   "language": "R",
   "name": "ir"
  },
  "language_info": {
   "codemirror_mode": "r",
   "file_extension": ".r",
   "mimetype": "text/x-r-source",
   "name": "R",
   "pygments_lexer": "r",
   "version": "3.3.1"
  }
 },
 "nbformat": 4,
 "nbformat_minor": 1
}
