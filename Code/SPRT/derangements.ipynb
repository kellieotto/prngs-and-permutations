{
 "cells": [
  {
   "cell_type": "code",
   "execution_count": 3,
   "metadata": {
    "collapsed": true
   },
   "outputs": [],
   "source": [
    "import numpy as np\n",
    "import math"
   ]
  },
  {
   "cell_type": "markdown",
   "metadata": {},
   "source": [
    "# Derangements\n",
    "\n",
    "A *derangement* is a permutation of $\\{1, \\dots, n\\}$ that has no fixed points. We'd like to find the probability of a derangement if all permutations are equally likely.\n",
    "\n",
    "The number of derangements $D_n$ is equal to the number of permutations minus the number of permutations that fix at least one point. Let $A_p$ denote the set of permutations that leave the $p$th item in its place, for $1 \\leq p \\leq n$. By the inclusion-exclusion principle, the number of permutations that leave at least one item in its place is\n",
    "\n",
    "\\begin{align*}\n",
    "\\lvert \\cup_{p=1}^n A_p \\rvert &= \\sum_{p=1}^n \\lvert A_p \\rvert - \\sum_{p < q} \\lvert A_p \\cap A_q \\rvert + ... + (-1)^n \\lvert \\cap_{p=1}^n A_p \\rvert\n",
    "\\end{align*}\n",
    "\n",
    "Let $T \\subseteq \\{1, \\dots, n\\}$ be some set of points with $\\lvert T \\rvert = k$. If we fix the points of $T$, then we can freely permute the remaining $n-k$, so there are $(n-k)!$ such permutations that fix $T$. There are ${n \\choose k}$ such subsets $T$ that have cardinality $k$. Therefore the $k$th term in the sum above is ${n \\choose k}(n-k)!$. Plugging in, we get\n",
    "\n",
    "\\begin{align*}\n",
    "\\lvert \\cup_{p=1}^n A_p \\rvert &= {n \\choose 1}(n-1)! - {n \\choose 2}(n-2)! + \\dots + (-1)^{n-1}{n \\choose {n-1}} + (-1)^n \\\\\n",
    "&= \\sum_{k=1}^n (-1)^k{n \\choose k}(n-k)!\n",
    "\\end{align*}\n",
    "\n",
    "And thus, the number of derangements is\n",
    "\n",
    "$$D_n = n! - \\sum_{k=1}^n (-1)^k{n \\choose k}(n-k)! = \\sum_{k=0}^n (-1)^k{n \\choose k}(n-k)!$$\n",
    "\n",
    "The probability of any particular permutation is $1/n!$, so the probability of a derangement is\n",
    "\n",
    "$$\\frac{D_n}{n!} = \\sum_{k=0}^n (-1)^k{n \\choose k}\\frac{(n-k)!}{n!} = \\sum_{k=0}^n \\frac{(-1)^k}{k!}$$"
   ]
  },
  {
   "cell_type": "code",
   "execution_count": 15,
   "metadata": {
    "collapsed": true
   },
   "outputs": [],
   "source": [
    "def prob_derangement(n):\n",
    "    fp_prob = np.ones(n+1)\n",
    "    for k in range(1, len(fp_prob)):\n",
    "        fp_prob[k] = -1/k\n",
    "    fp_prob = np.cumprod(fp_prob)\n",
    "    return sum(fp_prob)\n",
    "\n",
    "def prob_derangement2(n):\n",
    "    fp_prob = np.ones(n+1)\n",
    "    for k in range(1, len(fp_prob)):\n",
    "        fp_prob[k] = fp_prob[k-1] * (-1/k)\n",
    "    return sum(fp_prob)"
   ]
  },
  {
   "cell_type": "code",
   "execution_count": 16,
   "metadata": {
    "collapsed": false
   },
   "outputs": [
    {
     "name": "stdout",
     "output_type": "stream",
     "text": [
      "10000 loops, best of 3: 28.9 µs per loop\n",
      "10000 loops, best of 3: 44.1 µs per loop\n"
     ]
    }
   ],
   "source": [
    "%timeit prob_derangement(100)\n",
    "%timeit prob_derangement2(100)"
   ]
  },
  {
   "cell_type": "code",
   "execution_count": 18,
   "metadata": {
    "collapsed": false
   },
   "outputs": [
    {
     "name": "stdout",
     "output_type": "stream",
     "text": [
      "0.367879441171 0.367879441171\n"
     ]
    }
   ],
   "source": [
    "print(1/np.exp(1), prob_derangement(100))"
   ]
  },
  {
   "cell_type": "code",
   "execution_count": 10,
   "metadata": {
    "collapsed": true
   },
   "outputs": [],
   "source": [
    "def check_derangement(vec, perm):\n",
    "    '''\n",
    "    Check whether perm is a derangement of vec\n",
    "    Inputs must be numpy arrays\n",
    "    '''\n",
    "    \n",
    "    return any(vec == perm)\n",
    "\n",
    "def check_derangement2(vec, perm):\n",
    "    \n",
    "    anyequal = np.prod(vec-perm)\n",
    "    return bool(anyequal)"
   ]
  },
  {
   "cell_type": "code",
   "execution_count": 11,
   "metadata": {
    "collapsed": false
   },
   "outputs": [
    {
     "name": "stdout",
     "output_type": "stream",
     "text": [
      "The slowest run took 16.27 times longer than the fastest. This could mean that an intermediate result is being cached.\n",
      "1000000 loops, best of 3: 1.69 µs per loop\n",
      "The slowest run took 20.96 times longer than the fastest. This could mean that an intermediate result is being cached.\n",
      "100000 loops, best of 3: 3.03 µs per loop\n"
     ]
    }
   ],
   "source": [
    "vec = np.array([1,2,3,4,5])\n",
    "perm = np.array([2,3,4,5,1])\n",
    "\n",
    "%timeit check_derangement(vec, perm)\n",
    "%timeit check_derangement2(vec, perm)"
   ]
  },
  {
   "cell_type": "code",
   "execution_count": null,
   "metadata": {
    "collapsed": true
   },
   "outputs": [],
   "source": []
  }
 ],
 "metadata": {
  "kernelspec": {
   "display_name": "Python 3",
   "language": "python",
   "name": "python3"
  },
  "language_info": {
   "codemirror_mode": {
    "name": "ipython",
    "version": 3
   },
   "file_extension": ".py",
   "mimetype": "text/x-python",
   "name": "python",
   "nbconvert_exporter": "python",
   "pygments_lexer": "ipython3",
   "version": "3.4.3"
  }
 },
 "nbformat": 4,
 "nbformat_minor": 1
}
