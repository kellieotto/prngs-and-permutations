{
 "cells": [
  {
   "cell_type": "markdown",
   "metadata": {},
   "source": [
    "# Sequential probability ratio test simulations\n",
    "\n",
    "Sequential testing procedure from Weiss (1962)\n",
    "\n",
    "The method tests the null hypothesis that a multinomial random variable has equal category probabilities $1/k$ against the alternative that the most common $s$ categories have a probability of occuring more often than $s/k$.\n",
    "\n",
    "\n",
    "The function `sequential_multinomial_test` tests the null with type 1 error at most $\\alpha$ and power at least $1 - \\beta$.\n",
    "\n",
    "The inequalities hold when $\\beta = 0$ also. Then the likelihood ratio has chance at most $\\alpha$ of ever being greater than $1/\\alpha$, if in fact $p > p_0$.\n",
    "\n",
    "Hence, $1/\\mbox{LR}$ is the $P$-value of the hypothesis $p > p_0$. If $d$ is the number of times that an observation is among the most common $s$ values and we stop the test after $m$ steps, then the likelihood ratio is\n",
    "\n",
    "$$LR = \\frac{p_1^d (1-p_1)^{m-d}}{p_0^d (1-p_0)^{m-d}}$$\n",
    "\n",
    "This simplifies if we set $p_1 = \\kappa p_0$.\n",
    "\n",
    "$$LR = \\frac{\\kappa^d (1-\\kappa s/k)^{m-d}}{(1- s/k)^{m/d}}$$"
   ]
  },
  {
   "cell_type": "code",
   "execution_count": 1,
   "metadata": {
    "collapsed": true
   },
   "outputs": [],
   "source": [
    "%matplotlib inline\n",
    "import matplotlib.pyplot as plt\n",
    "import math\n",
    "import numpy as np"
   ]
  },
  {
   "cell_type": "code",
   "execution_count": 2,
   "metadata": {
    "collapsed": false
   },
   "outputs": [],
   "source": [
    "def sample_from_multinomial(probs):\n",
    "    '''\n",
    "    Draw a single sample from a multinomial distribution with selection probabilities given by probs\n",
    "    '''\n",
    "    draw_sample = np.random.multinomial(1, probs)\n",
    "    Xn = np.where(draw_sample > 0)[0][0] + 1\n",
    "    return Xn\n",
    "\n",
    "\n",
    "def sequential_multinomial_test(sampling_function, num_categories, alpha, beta, multiplier, \\\n",
    "                                s = None, maxsteps=10**5):\n",
    "    '''\n",
    "    Conduct Wald's SPRT for multinomial distribution with num_categories categories\n",
    "    Let p = sum_{s most frequent categories} p_category\n",
    "    H_0: selection probabilities are all 1/num_categories so p=s/num_categories\n",
    "    H_1: p = p1 = multiplier * s/num_categories\n",
    "    \n",
    "    sampling_function: a function which generates a random number or random sample.\n",
    "    num_categories: number of categories\n",
    "    alpha: desired type 1 error rate\n",
    "    beta: desired power\n",
    "    multiplier: value larger than 1. Determines alternative: p1 = multiplier * s/num_categories\n",
    "    s: tuning parameter, integer between 1 and k. Default is 1% of num_categories.\n",
    "    '''\n",
    "\n",
    "    assert multiplier > 1\n",
    "    assert maxsteps > 0\n",
    "    \n",
    "    if s is None:\n",
    "        s = math.ceil(0.01*num_categories)\n",
    "    assert isinstance(s, int)    \n",
    "\n",
    "\n",
    "    k = num_categories # Rename for ease of use!\n",
    "    \n",
    "    # Set p0 = s/k, p1 = multiplier*(s/k)\n",
    "    # Set parameters\n",
    "    if beta == 0:\n",
    "        a = [math.log(beta/(1-alpha)) / ( math.log(multiplier)-math.log( (k-multiplier*s)/(k-s) ))]\n",
    "    else:\n",
    "        a = [math.log(beta/(1-alpha)) / ( math.log(multiplier)-math.log( (k-multiplier*s)/(k-s) ))]\n",
    "    r = [math.log((1-beta)/alpha) / ( math.log(multiplier)-math.log( (k-multiplier*s)/(k-s) ))]\n",
    "    increment = math.log( (k-s)/ (k-multiplier*s)) / ( math.log(multiplier)-math.log( (k-multiplier*s)/(k-s) ))\n",
    "    d = [0]\n",
    "\n",
    "    # Initialize counter\n",
    "    sampleCounts = dict()\n",
    "    steps = 0\n",
    "    LR = [1]\n",
    "    \n",
    "    # Draw samples\n",
    "    while a[-1] < d[-1] < r[-1] and steps < maxsteps:\n",
    "        Xn = sampling_function()\n",
    "            \n",
    "        if s > len(sampleCounts):\n",
    "            if Xn in sampleCounts.keys():\n",
    "                sampleCounts[Xn] += 1\n",
    "            else:\n",
    "                sampleCounts[Xn] = 1\n",
    "            continue\n",
    "            \n",
    "        \n",
    "        # Event occurs if Xn is among the top s most frequent values of X1,...,X_n-1\n",
    "        steps += 1\n",
    "        top_categories = sorted(sampleCounts, key = sampleCounts.get)[:s]\n",
    "        if Xn in top_categories:\n",
    "            Bn = 1\n",
    "            LR.append(LR[-1] * multiplier)\n",
    "        else:\n",
    "            Bn = 0\n",
    "            LR.append(LR[-1] * (1 - multiplier*s/k)/(1 - s/k))\n",
    "        # Run test at step n\n",
    "        d = d + [d[-1]+Bn]\n",
    "        a = a + [a[-1]+increment]\n",
    "        r = r + [r[-1]+increment]\n",
    "\n",
    "        if d[-1] <= a[-1]:\n",
    "            # accept the null and stop\n",
    "            return {'decision' : 0,\n",
    "                    'a' : a,\n",
    "                    'd' : d,\n",
    "                    'r' : r,\n",
    "                    'steps' : steps,\n",
    "                    'pvalue' : LR[-1]\n",
    "                   }\n",
    "        if d[-1] >= r[-1]:\n",
    "            # reject the null and stop\n",
    "            return {'decision' : 1,\n",
    "                    'a' : a,\n",
    "                    'd' : d,\n",
    "                    'r' : r,\n",
    "                    'steps' : steps,\n",
    "                    'pvalue' : LR[-1]\n",
    "                   }\n",
    "        \n",
    "        # add Xn to sampleCounts and repeat\n",
    "        if Xn in sampleCounts.keys():\n",
    "            sampleCounts[Xn] += 1\n",
    "        else:\n",
    "            sampleCounts[Xn] = 1"
   ]
  },
  {
   "cell_type": "markdown",
   "metadata": {},
   "source": [
    "# SPRT under the null"
   ]
  },
  {
   "cell_type": "code",
   "execution_count": 3,
   "metadata": {
    "collapsed": false
   },
   "outputs": [
    {
     "data": {
      "text/plain": [
       "(0, 1318, 0.21029234468724897)"
      ]
     },
     "execution_count": 3,
     "metadata": {},
     "output_type": "execute_result"
    }
   ],
   "source": [
    "# Choose s, multiplier > 1, alpha, beta\n",
    "k = 1000\n",
    "s = 10\n",
    "alpha = 0.05\n",
    "beta = 0.2\n",
    "multiplier = 1.2\n",
    "\n",
    "# Under null:\n",
    "np.random.seed(547691802) # from random.org Timestamp: 2017-01-14 22:56:40 UTC\n",
    "\n",
    "null_sampling_function = lambda: sample_from_multinomial([1/k]*k)\n",
    "res = sequential_multinomial_test(sampling_function = null_sampling_function,\n",
    "                                num_categories=k, alpha=alpha, beta=0.2, multiplier=multiplier)\n",
    "res['decision'], res['steps'], res['pvalue']"
   ]
  },
  {
   "cell_type": "code",
   "execution_count": 4,
   "metadata": {
    "collapsed": false
   },
   "outputs": [
    {
     "name": "stderr",
     "output_type": "stream",
     "text": [
      "/Library/Frameworks/Python.framework/Versions/3.4/lib/python3.4/site-packages/matplotlib/cbook.py:137: MatplotlibDeprecationWarning: The set_color_cycle attribute was deprecated in version 1.5. Use set_prop_cycle instead.\n",
      "  warnings.warn(message, mplDeprecation, stacklevel=1)\n"
     ]
    },
    {
     "data": {
      "image/png": "[encoded data removed]",
      "text/plain": [
       "<matplotlib.figure.Figure at 0x10597a358>"
      ]
     },
     "metadata": {},
     "output_type": "display_data"
    }
   ],
   "source": [
    "plt.gca().set_color_cycle(['red', 'black', 'black'])\n",
    "\n",
    "plt.plot(list(range(res['steps']+1)), res['d'])\n",
    "plt.plot(list(range(res['steps']+1)), res['a'])\n",
    "plt.plot(list(range(res['steps']+1)), res['r'])\n",
    "plt.legend(['d', 'a', 'r'], loc='upper left')\n",
    "plt.title(\"SPRT\")\n",
    "plt.show()"
   ]
  },
  {
   "cell_type": "markdown",
   "metadata": {},
   "source": [
    "## Level of test\n",
    "\n",
    "We'll run the SPRT 100 (1000?) times and compute the actual level under the null when we set $\\alpha = 0.05$.\n",
    "\n"
   ]
  },
  {
   "cell_type": "code",
   "execution_count": 3,
   "metadata": {
    "collapsed": true
   },
   "outputs": [],
   "source": [
    "# Choose s, multiplier > 1, alpha, beta\n",
    "k = 1000\n",
    "s = 10\n",
    "alpha = 0.05\n",
    "beta = 0.2\n",
    "multiplier = 1.2\n",
    "null_sampling_function = lambda: sample_from_multinomial([1/k]*k)\n",
    "np.random.seed(547691802) # from random.org Timestamp: 2017-01-14 22:56:40 UTC\n",
    "\n",
    "decision = []\n",
    "steps = []\n",
    "pvalue = []\n",
    "numB = []\n",
    "\n",
    "for j in range(1000):\n",
    "    \n",
    "    res = sequential_multinomial_test(sampling_function = null_sampling_function,\n",
    "                                num_categories=k, alpha=alpha, beta=beta, multiplier=multiplier)\n",
    "    decision.append(res['decision'])\n",
    "    steps.append(res['steps'])\n",
    "    pvalue.append(res['pvalue'])\n",
    "    numB.append(res['d'][-1])"
   ]
  },
  {
   "cell_type": "code",
   "execution_count": 4,
   "metadata": {
    "collapsed": false
   },
   "outputs": [
    {
     "name": "stdout",
     "output_type": "stream",
     "text": [
      "Rejection rate: 0.05\n",
      "Average number of trials: 7473.775\n"
     ]
    },
    {
     "data": {
      "image/png": "[encoded data removed]",
      "text/plain": [
       "<matplotlib.figure.Figure at 0x105949160>"
      ]
     },
     "metadata": {},
     "output_type": "display_data"
    }
   ],
   "source": [
    "print(\"Rejection rate: \" + str(np.mean(decision)))\n",
    "\n",
    "print(\"Average number of trials: \" + str(np.mean(steps)))\n",
    "\n",
    "plt.hist(pvalue, bins = 100)\n",
    "plt.title(\"P-values\")\n",
    "plt.show()"
   ]
  },
  {
   "cell_type": "markdown",
   "metadata": {},
   "source": [
    "# SPRT under an alternative"
   ]
  },
  {
   "cell_type": "code",
   "execution_count": 5,
   "metadata": {
    "collapsed": false
   },
   "outputs": [
    {
     "data": {
      "text/plain": [
       "(0, 10208, 0.052545498946582454)"
      ]
     },
     "execution_count": 5,
     "metadata": {},
     "output_type": "execute_result"
    }
   ],
   "source": [
    "probs = [1/k]*k\n",
    "probs[:s] = [1.5/k]*s\n",
    "probs[-s:] = [0.5/k]*s\n",
    "alt_sampling_function = lambda: sample_from_multinomial(probs)\n",
    "\n",
    "np.random.seed(323) # from random.org Timestamp: 2017-01-14 22:56:40 UTC\n",
    "res1 = sequential_multinomial_test(sampling_function = alt_sampling_function,\n",
    "                                num_categories=k, alpha=alpha, beta=0.05, multiplier=1.2)\n",
    "res1['decision'], res1['steps'], res1['pvalue']"
   ]
  },
  {
   "cell_type": "code",
   "execution_count": 8,
   "metadata": {
    "collapsed": false
   },
   "outputs": [
    {
     "name": "stderr",
     "output_type": "stream",
     "text": [
      "/Library/Frameworks/Python.framework/Versions/3.4/lib/python3.4/site-packages/matplotlib/cbook.py:137: MatplotlibDeprecationWarning: The set_color_cycle attribute was deprecated in version 1.5. Use set_prop_cycle instead.\n",
      "  warnings.warn(message, mplDeprecation, stacklevel=1)\n"
     ]
    },
    {
     "data": {
      "image/png": "[encoded data removed]",
      "text/plain": [
       "<matplotlib.figure.Figure at 0x105b6add8>"
      ]
     },
     "metadata": {},
     "output_type": "display_data"
    }
   ],
   "source": [
    "plt.gca().set_color_cycle(['red', 'black', 'black'])\n",
    "\n",
    "plt.plot(list(range(res1['steps']+1)), res1['d'])\n",
    "plt.plot(list(range(res1['steps']+1)), res1['a'])\n",
    "plt.plot(list(range(res1['steps']+1)), res1['r'])\n",
    "plt.legend(['d', 'a', 'r'], loc='upper left')\n",
    "plt.title(\"SPRT\")\n",
    "plt.show()"
   ]
  },
  {
   "cell_type": "markdown",
   "metadata": {
    "collapsed": true
   },
   "source": [
    "# Power under this alternative"
   ]
  },
  {
   "cell_type": "code",
   "execution_count": 12,
   "metadata": {
    "collapsed": true
   },
   "outputs": [],
   "source": [
    "# Choose s, multiplier > 1, alpha, beta\n",
    "k = 1000\n",
    "s = 10\n",
    "alpha = 0.05\n",
    "beta = 0.2\n",
    "multiplier = 1.2\n",
    "probs = [1/k]*k\n",
    "probs[:s] = [1.5/k]*s\n",
    "probs[-s:] = [0.5/k]*s\n",
    "alt_sampling_function = lambda: sample_from_multinomial(probs)\n",
    "\n",
    "np.random.seed(547691802) # from random.org Timestamp: 2017-01-14 22:56:40 UTC\n",
    "\n",
    "decision = []\n",
    "steps = []\n",
    "pvalue = []\n",
    "numB = []\n",
    "\n",
    "for j in range(1000):\n",
    "    \n",
    "    res = sequential_multinomial_test(sampling_function = alt_sampling_function,\n",
    "                                num_categories=k, alpha=alpha, beta=beta, multiplier=multiplier)\n",
    "    decision.append(res['decision'])\n",
    "    steps.append(res['steps'])\n",
    "    pvalue.append(res['pvalue'])\n",
    "    numB.append(res['d'][-1])"
   ]
  },
  {
   "cell_type": "code",
   "execution_count": 13,
   "metadata": {
    "collapsed": false
   },
   "outputs": [
    {
     "name": "stdout",
     "output_type": "stream",
     "text": [
      "Rejection rate: 0.059\n",
      "Average number of trials: 8317.182\n"
     ]
    },
    {
     "data": {
      "image/png": "[encoded data removed]",
      "text/plain": [
       "<matplotlib.figure.Figure at 0x10669af28>"
      ]
     },
     "metadata": {},
     "output_type": "display_data"
    }
   ],
   "source": [
    "print(\"Rejection rate: \" + str(np.mean(decision)))\n",
    "\n",
    "print(\"Average number of trials: \" + str(np.mean(steps)))\n",
    "\n",
    "plt.hist(pvalue, bins = 100)\n",
    "plt.title(\"P-values\")\n",
    "plt.show()"
   ]
  },
  {
   "cell_type": "code",
   "execution_count": null,
   "metadata": {
    "collapsed": true
   },
   "outputs": [],
   "source": []
  }
 ],
 "metadata": {
  "kernelspec": {
   "display_name": "Python 3",
   "language": "python",
   "name": "python3"
  },
  "language_info": {
   "codemirror_mode": {
    "name": "ipython",
    "version": 3
   },
   "file_extension": ".py",
   "mimetype": "text/x-python",
   "name": "python",
   "nbconvert_exporter": "python",
   "pygments_lexer": "ipython3",
   "version": "3.4.3"
  }
 },
 "nbformat": 4,
 "nbformat_minor": 1
}
