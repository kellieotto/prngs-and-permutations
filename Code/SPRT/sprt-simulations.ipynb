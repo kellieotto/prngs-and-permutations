{
 "cells": [
  {
   "cell_type": "markdown",
   "metadata": {},
   "source": [
    "# Sequential probability ratio test simulations\n",
    "\n",
    "Sequential testing procedure from Weiss (1962)\n",
    "\n",
    "The method tests the null hypothesis that a multinomial random variable has equal category probabilities $1/k$ against the alternative that the most common $s$ categories have a probability of occuring more often than $s/k$.\n",
    "\n",
    "\n",
    "The function `sequential_multinomial_test` tests the null with type 1 error at most $\\alpha$ and power at least $1 - \\beta$.\n",
    "\n",
    "The inequalities hold when $\\beta = 0$ also. Then the likelihood ratio has chance at most $\\alpha$ of ever being greater than $1/\\alpha$, if in fact $p > p_0$.\n",
    "\n",
    "Hence, $1/\\mbox{LR}$ is the $P$-value of the hypothesis $p > p_0$. If $d$ is the number of times that an observation is among the most common $s$ values and we stop the test after $m$ steps, then the likelihood ratio is\n",
    "\n",
    "$$LR = \\frac{p_1^d (1-p_1)^{m-d}}{p_0^d (1-p_0)^{m-d}}$$\n",
    "\n",
    "This simplifies if we set $p_1 = \\kappa p_0$.\n",
    "\n",
    "$$LR = \\frac{\\kappa^d (1-\\kappa s/k)^{m-d}}{(1- s/k)^{m/d}}$$"
   ]
  },
  {
   "cell_type": "code",
   "execution_count": 1,
   "metadata": {
    "collapsed": true
   },
   "outputs": [],
   "source": [
    "%matplotlib inline\n",
    "import matplotlib.pyplot as plt\n",
    "import math\n",
    "import numpy as np"
   ]
  },
  {
   "cell_type": "code",
   "execution_count": 13,
   "metadata": {
    "collapsed": false
   },
   "outputs": [],
   "source": [
    "def sample_from_multinomial(probs):\n",
    "    '''\n",
    "    Draw a single sample from a multinomial distribution with selection probabilities given by probs\n",
    "    '''\n",
    "    draw_sample = np.random.multinomial(1, probs)\n",
    "    Xn = np.where(draw_sample > 0)[0][0] + 1\n",
    "    return Xn\n",
    "\n",
    "\n",
    "def sequential_multinomial_test(sampling_function, num_categories, alpha, beta, multiplier, \\\n",
    "                                s = None, maxsteps=10**5):\n",
    "    '''\n",
    "    Conduct Wald's SPRT for multinomial distribution with num_categories categories\n",
    "    Let p = sum_{s most frequent categories} p_category\n",
    "    H_0: selection probabilities are all 1/num_categories so p=s/num_categories\n",
    "    H_1: p = p1 = multiplier * s/num_categories\n",
    "    \n",
    "    sampling_function: a function which generates a random number or random sample.\n",
    "    num_categories: number of categories\n",
    "    alpha: desired type 1 error rate\n",
    "    beta: desired power\n",
    "    multiplier: value larger than 1. Determines alternative: p1 = multiplier * s/num_categories\n",
    "    s: tuning parameter, integer between 1 and k. Default is 1% of num_categories.\n",
    "    '''\n",
    "\n",
    "    assert multiplier > 1\n",
    "    assert maxsteps > 0\n",
    "    \n",
    "    if s is None:\n",
    "        s = math.ceil(0.01*num_categories)\n",
    "    assert isinstance(s, int)    \n",
    "    assert s>0\n",
    "\n",
    "    k = num_categories # Rename for ease of use!\n",
    "    \n",
    "    # Set p0 = s/k, p1 = multiplier*(s/k)\n",
    "    p0 = s/k\n",
    "    p1 = multiplier*s/k\n",
    "    assert p1 < 1\n",
    "    assert p0 < 1\n",
    "    \n",
    "    # Set parameters\n",
    "    lower = beta/(1-alpha)\n",
    "    upper = (1-beta)/alpha\n",
    "    lr_occurs = p1/p0\n",
    "    lr_doesnotoccur = (1 - p1)/(1 - p0)\n",
    "    d = [0]\n",
    "\n",
    "    # Initialize counter\n",
    "    sampleCounts = dict(zip(list(range(1, s+1)), [0]*s))\n",
    "    steps = 0\n",
    "    LR = [1]\n",
    "    \n",
    "    # Draw samples\n",
    "    while lower < LR[-1] < upper and steps < maxsteps:\n",
    "        Xn = sampling_function()\n",
    "            \n",
    "        if s > len(sampleCounts):\n",
    "            if Xn in sampleCounts.keys():\n",
    "                sampleCounts[Xn] += 1\n",
    "            else:\n",
    "                sampleCounts[Xn] = 1\n",
    "            continue\n",
    "            \n",
    "        \n",
    "        # Event occurs if Xn is among the top s most frequent values of X1,...,X_n-1\n",
    "        steps += 1\n",
    "        top_categories = sorted(sampleCounts, key = sampleCounts.get, reverse = True)[:s]\n",
    "        if Xn in top_categories:\n",
    "            Bn = 1\n",
    "            LR.append(LR[-1] * lr_occurs)\n",
    "        else:\n",
    "            Bn = 0\n",
    "            LR.append(LR[-1] * lr_doesnotoccur)\n",
    "\n",
    "        # Run test at step n\n",
    "        if LR[-1] <= lower:\n",
    "            # accept the null and stop\n",
    "            return {'decision' : 0,\n",
    "                    'lower' : lower,\n",
    "                    'LR' : LR,\n",
    "                    'upper' : upper,\n",
    "                    'steps' : steps,\n",
    "                    'pvalue' : min(1/LR[-1], 1)\n",
    "                   }\n",
    "        if LR[-1] >= upper:\n",
    "            # reject the null and stop\n",
    "            return {'decision' : 1,\n",
    "                    'lower' : lower,\n",
    "                    'LR' : LR,\n",
    "                    'upper' : upper,\n",
    "                    'steps' : steps,\n",
    "                    'pvalue' : min(1/LR[-1], 1)\n",
    "                   }\n",
    "        \n",
    "        # add Xn to sampleCounts and repeat\n",
    "        if Xn in sampleCounts.keys():\n",
    "            sampleCounts[Xn] += 1\n",
    "        else:\n",
    "            sampleCounts[Xn] = 1"
   ]
  },
  {
   "cell_type": "markdown",
   "metadata": {},
   "source": [
    "# SPRT under the null"
   ]
  },
  {
   "cell_type": "code",
   "execution_count": 3,
   "metadata": {
    "collapsed": false
   },
   "outputs": [
    {
     "data": {
      "text/plain": [
       "(0, 2047, 1)"
      ]
     },
     "execution_count": 3,
     "metadata": {},
     "output_type": "execute_result"
    }
   ],
   "source": [
    "# Choose s, multiplier > 1, alpha, beta\n",
    "k = 1000\n",
    "s = 10\n",
    "alpha = 0.05\n",
    "beta = 0.2\n",
    "multiplier = 1.2\n",
    "\n",
    "# Under null:\n",
    "np.random.seed(547691802) # from random.org Timestamp: 2017-01-14 22:56:40 UTC\n",
    "\n",
    "null_sampling_function = lambda: sample_from_multinomial([1/k]*k)\n",
    "res = sequential_multinomial_test(sampling_function = null_sampling_function,\n",
    "                                num_categories=k, alpha=alpha, beta=0.2, multiplier=multiplier)\n",
    "res['decision'], res['steps'], res['pvalue']"
   ]
  },
  {
   "cell_type": "code",
   "execution_count": 4,
   "metadata": {
    "collapsed": false
   },
   "outputs": [
    {
     "data": {
      "image/png": "[encoded data removed]",
      "text/plain": [
       "<matplotlib.figure.Figure at 0x10597b320>"
      ]
     },
     "metadata": {},
     "output_type": "display_data"
    }
   ],
   "source": [
    "#plt.gca().set_color_cycle(['red', 'black', 'black'])\n",
    "n = res['steps'] + 1\n",
    "\n",
    "plt.plot(list(range(n)), res['LR'])\n",
    "plt.plot(list(range(n)), [res['lower']]*n)\n",
    "plt.plot(list(range(n)), [res['upper']]*n)\n",
    "plt.legend(['LR', 'beta/1-alpha', '1-beta/alpha'], loc='upper left')\n",
    "plt.ylim(0, 17)\n",
    "plt.title(\"SPRT\")\n",
    "plt.show()"
   ]
  },
  {
   "cell_type": "markdown",
   "metadata": {},
   "source": [
    "## Level of test\n",
    "\n",
    "We'll run the SPRT 100 (1000?) times and compute the actual level under the null when we set $\\alpha = 0.05$.\n",
    "\n"
   ]
  },
  {
   "cell_type": "code",
   "execution_count": 5,
   "metadata": {
    "collapsed": true
   },
   "outputs": [],
   "source": [
    "# Choose s, multiplier > 1, alpha, beta\n",
    "k = 1000\n",
    "s = 10\n",
    "alpha = 0.05\n",
    "beta = 0.2\n",
    "multiplier = 1.2\n",
    "null_sampling_function = lambda: sample_from_multinomial([1/k]*k)\n",
    "np.random.seed(547691802) # from random.org Timestamp: 2017-01-14 22:56:40 UTC\n",
    "\n",
    "decision = []\n",
    "steps = []\n",
    "pvalue = []\n",
    "LR = []\n",
    "\n",
    "for j in range(1000):\n",
    "    \n",
    "    res = sequential_multinomial_test(sampling_function = null_sampling_function,\n",
    "                                num_categories=k, alpha=alpha, beta=beta, multiplier=multiplier)\n",
    "    decision.append(res['decision'])\n",
    "    steps.append(res['steps'])\n",
    "    pvalue.append(res['pvalue'])\n",
    "    LR.append(res['LR'][-1])"
   ]
  },
  {
   "cell_type": "code",
   "execution_count": 6,
   "metadata": {
    "collapsed": false
   },
   "outputs": [
    {
     "name": "stdout",
     "output_type": "stream",
     "text": [
      "Rejection rate: 0.043\n",
      "Average number of trials: 7655.2\n"
     ]
    },
    {
     "data": {
      "image/png": "[encoded data removed]",
      "text/plain": [
       "<matplotlib.figure.Figure at 0x1059a1e80>"
      ]
     },
     "metadata": {},
     "output_type": "display_data"
    }
   ],
   "source": [
    "print(\"Rejection rate: \" + str(np.mean(decision)))\n",
    "\n",
    "print(\"Average number of trials: \" + str(np.mean(steps)))\n",
    "\n",
    "plt.hist(pvalue, bins = 100)\n",
    "plt.title(\"P-values\")\n",
    "plt.show()"
   ]
  },
  {
   "cell_type": "markdown",
   "metadata": {},
   "source": [
    "# SPRT under an alternative"
   ]
  },
  {
   "cell_type": "code",
   "execution_count": 7,
   "metadata": {
    "collapsed": false
   },
   "outputs": [
    {
     "data": {
      "text/plain": [
       "(1, 13294, 0.050794567942658256)"
      ]
     },
     "execution_count": 7,
     "metadata": {},
     "output_type": "execute_result"
    }
   ],
   "source": [
    "k = 1000\n",
    "s = 10\n",
    "alpha = 0.05\n",
    "beta = 0.2\n",
    "multiplier = 1.2\n",
    "\n",
    "probs = [1/k]*k\n",
    "probs[:s] = [1.5/k]*s\n",
    "probs[-s:] = [0.5/k]*s\n",
    "alt_sampling_function = lambda: sample_from_multinomial(probs)\n",
    "\n",
    "np.random.seed(3233) # from random.org Timestamp: 2017-01-14 22:56:40 UTC\n",
    "res1 = sequential_multinomial_test(sampling_function = alt_sampling_function,\n",
    "                                num_categories=k, alpha=alpha, beta=0.05, multiplier=1.2)\n",
    "res1['decision'], res1['steps'], res1['pvalue']"
   ]
  },
  {
   "cell_type": "code",
   "execution_count": 8,
   "metadata": {
    "collapsed": false
   },
   "outputs": [
    {
     "data": {
      "image/png": "[encoded data removed]",
      "text/plain": [
       "<matplotlib.figure.Figure at 0x105668160>"
      ]
     },
     "metadata": {},
     "output_type": "display_data"
    }
   ],
   "source": [
    "n = res1['steps'] + 1\n",
    "\n",
    "plt.plot(list(range(n)), res1['LR'])\n",
    "plt.plot(list(range(n)), [res1['lower']]*n)\n",
    "plt.plot(list(range(n)), [res1['upper']]*n)\n",
    "plt.legend(['LR', 'beta/1-alpha', '1-beta/alpha'], loc='upper left')\n",
    "plt.ylim(0, 17)\n",
    "plt.title(\"SPRT under H1\")\n",
    "plt.show()"
   ]
  },
  {
   "cell_type": "markdown",
   "metadata": {
    "collapsed": true
   },
   "source": [
    "# Power under this alternative"
   ]
  },
  {
   "cell_type": "code",
   "execution_count": 14,
   "metadata": {
    "collapsed": false
   },
   "outputs": [],
   "source": [
    "# Choose s, multiplier > 1, alpha, beta\n",
    "k = 100\n",
    "s = 10\n",
    "alpha = 0.05\n",
    "beta = 0.05\n",
    "multiplier = 1.1\n",
    "\n",
    "\n",
    "probs = list(range(1, k+1))\n",
    "denom = sum(probs)\n",
    "probs = [pp/denom for pp in probs]\n",
    "\n",
    "alt_sampling_function = lambda: sample_from_multinomial(probs)\n",
    "\n",
    "np.random.seed(547691802) # from random.org Timestamp: 2017-01-14 22:56:40 UTC\n",
    "\n",
    "decision = []\n",
    "steps = []\n",
    "pvalue = []\n",
    "LR = []\n",
    "\n",
    "for j in range(1000):\n",
    "    \n",
    "    res = sequential_multinomial_test(sampling_function = alt_sampling_function,\n",
    "                                num_categories=k, s=30, alpha=alpha, beta=beta, multiplier=multiplier)\n",
    "    decision.append(res['decision'])\n",
    "    steps.append(res['steps'])\n",
    "    pvalue.append(res['pvalue'])\n",
    "    LR.append(res['LR'][-1])"
   ]
  },
  {
   "cell_type": "code",
   "execution_count": 15,
   "metadata": {
    "collapsed": false
   },
   "outputs": [
    {
     "name": "stdout",
     "output_type": "stream",
     "text": [
      "Rejection rate: 1.0\n",
      "Average number of trials: 321.309\n"
     ]
    },
    {
     "data": {
      "image/png": "[encoded data removed]",
      "text/plain": [
       "<matplotlib.figure.Figure at 0x106164400>"
      ]
     },
     "metadata": {},
     "output_type": "display_data"
    }
   ],
   "source": [
    "print(\"Rejection rate: \" + str(np.mean(decision)))\n",
    "\n",
    "print(\"Average number of trials: \" + str(np.mean(steps)))\n",
    "\n",
    "plt.hist(pvalue, bins = 100)\n",
    "plt.title(\"P-values\")\n",
    "plt.show()"
   ]
  },
  {
   "cell_type": "code",
   "execution_count": 16,
   "metadata": {
    "collapsed": false
   },
   "outputs": [
    {
     "name": "stdout",
     "output_type": "stream",
     "text": [
      "[20.797295632689295, 19.80959407135825, 20.755680287618897, 19.230579044362077, 19.145576251781783, 19.403986801874325, 19.50667082049683, 19.412215481214858, 19.905982962716937, 19.914424524362477, 20.362829585696414, 20.43828972807906, 19.792803381082564, 20.380103842310163, 20.42096615287843, 19.43465030522332, 20.487953377760817, 20.578916074754755, 19.006684460621916, 20.470587707454293, 20.16610495772695, 20.32208360627751, 19.052869407171855, 20.529031927718577, 19.45113716600846, 19.962815217338797, 19.099166579991106, 20.272822031808996, 19.301843316681463, 19.192098695908626, 19.705315450713737, 20.125752623877187, 19.857730033485595, 20.117221481979, 20.420966152878393, 20.322083606277516, 20.444566796615653, 19.761574792801824, 19.14557625178176, 20.429626104259096, 19.897544979380235, 19.90598296271689, 20.80611517470707, 19.801196946484115, 20.746882124537184, 19.809594071358276, 20.011323496397655, 19.857730033485577, 20.21510721698592, 19.340543704189265, 19.315959233509176, 19.451137166008465, 19.356950732180604, 19.069032394441567, 20.646421425315364, 19.255054847037037, 20.806115174707074, 19.412215481214865, 19.69696252869385, 20.806115174707067, 19.905982962716852, 19.985886373052427, 20.628921436865042, 19.230579044362052, 19.356950732180604, 19.301843316681467, 19.255054847037076, 19.688613147409256, 20.076966963862038, 19.451137166008486, 19.145576251781744, 19.809594071358283, 19.052869407171887, 20.30485852784526, 20.091649747840986, 20.746882124537166, 19.26322036856817, 19.271389352864922, 20.11722148197901, 19.43465030522332, 19.66588515570396, 20.788479829203236, 19.817994757214414, 19.50667082049687, 19.64921627367349, 19.293661423198596, 19.293661423198607, 19.962815217338758, 20.074619986058416, 19.705315450713737, 20.57019284057685, 19.914424524362456, 19.954353143274297, 19.832488148394443, 19.784413373644696, 19.50667082049686, 19.255054847037034, 19.545781889183637, 19.54578188918365, 19.208379794585756, 20.05994964726523, 19.50667082049688, 19.498402102310706, 19.12934838563595, 19.387539905924264, 19.66588515570394, 20.330701624380403, 19.90598296271692, 19.562363025447116, 19.64088713163582, 20.240836082151922, 20.117221481979023, 20.166104957726912, 19.632561520253347, 19.14557625178176, 19.801196946484136, 20.679048308593757, 20.264228548391873, 19.129348385635925, 19.34874547911509, 19.994361819463467, 19.80119694648416, 19.657548947863567, 19.601585757557785, 19.246892786803677, 19.0066844606219, 19.801196946484136, 19.24689278680369, 19.123475126883527, 20.388746465146273, 19.69696252869385, 19.71367191497047, 19.84931250417088, 19.052869407171894, 20.797295632689277, 19.06094918760409, 19.69696252869384, 20.69659082082208, 20.059949647265235, 19.200237519525313, 19.15369534655203, 19.27730803947578, 19.20023751952531, 20.09164974784098, 20.412309872380277, 19.801196946484136, 19.576669466800404, 19.514943045211407, 19.09107059951889, 19.49013688916661, 19.10726599373853, 19.849312504170904, 19.15369534655203, 19.014744655330865, 20.18321232831477, 20.487953377760835, 19.962815217338765, 19.46763801297676, 20.108693956362085, 19.889110572835687, 19.107265993738523, 19.052869407171872, 20.296251464419544, 19.889110572835662, 20.587643008208374, 19.04479305169251, 20.587643008208413, 20.05144639871057, 19.954353143274293, 19.263220368568177, 19.66588515570395, 20.438289728079074, 20.174656829717915, 19.37932168635828, 19.348745479115077, 19.5066708204969, 19.506670820496893, 20.889631751678316, 20.720510005785254, 19.200237519525327, 20.487953377760824, 19.014744655330873, 19.06094918760409, 19.129348385635954, 19.954353143274293, 20.183212328314763, 19.914424524362516, 19.022808268139347, 20.3628295856964, 19.310028679872875, 19.4593858404784, 19.545781889183637, 19.356950732180604, 19.21427912951306, 19.05286940717192, 20.898490450819903, 20.705367656791175, 19.857730033485588, 20.687817705281923, 20.487953377760856, 20.687817705281947, 20.345569970810892, 19.301843316681474, 19.94589465621377, 19.41221548121487, 20.322083606277495, 20.797295632689327, 20.255638707682106, 20.738087690924836, 19.98588637305244, 20.797295632689277, 20.429626104259114, 20.019809729969776, 19.16181788439964, 19.58497137595148, 20.48795337776084, 20.797295632689277, 19.80959407135826, 19.640887131635846, 20.587643008208374, 20.117221481978994, 19.459385840478394, 20.628921436865056, 19.26322036856817, 19.395761610603667, 19.609898232999676, 19.601585757557782, 19.403986801874343, 19.107265993738547, 19.09107059951889, 20.215107216985942, 20.889631751678273, 20.085481034963124, 19.97128087992838, 19.310028679872875, 19.90598296271689, 19.554070699790863, 19.340543704189255, 19.914424524362477, 20.6790483085937, 19.54578188918365, 19.246892786803684, 19.30184331668148, 19.849312504170875, 19.584971375951472, 19.340543704189255, 19.593276805706275, 19.153695346552034, 19.945894656213742, 19.849312504170875, 19.954353143274272, 19.897544979380278, 19.937439754636767, 19.57666946680041, 19.395761610603667, 19.86615113243524, 19.506670820496865, 19.593276805706278, 19.584971375951444, 19.609898232999655, 20.14901208741404, 19.036720119714158, 20.25563870768209, 19.6182142335261, 19.593276805706296, 19.74482480385652, 20.47926870192606, 19.379321686358246, 19.332345405928695, 19.945894656213785, 19.95435314327432, 19.32415058285972, 19.19209869590869, 20.429626104259125, 19.506670820496858, 20.461910392785104, 20.206538198406733, 19.64921627367345, 20.79729563268929, 19.19209869590869, 19.00668446062193, 19.49013688916655, 19.40398680187433, 19.006684460621933, 19.657548947863543, 19.348745479115117, 20.637669576171568, 19.3569507321806, 19.945894656213785, 20.85667261513006, 20.865517337238565, 20.59637364250646, 19.09916657999114, 19.20023751952537, 19.945894656213806, 19.490136889166553, 19.02280826813933, 20.79729563268927, 19.44289198808415, 19.753198022907085, 19.35695073218061, 19.88911057283569, 19.89754497938023, 19.99436181946351, 19.442891988084156, 20.729296985200875, 19.80959407135828, 19.640887131635818, 20.16610495772693, 20.438289728079063, 19.395761610603653, 20.255638707682106, 19.857730033485613, 19.857730033485602, 19.481875179578658, 20.537737706723146, 20.77966776266418, 19.403986801874325, 19.914424524362484, 19.356950732180625, 19.22242735922123, 19.39576161060365, 20.755680287618873, 19.753198022907043, 19.49013688916655, 20.838994416939787, 20.362829585696357, 20.646421425315328, 20.117221481978994, 19.34054370418924, 20.679048308593693, 19.014744655330887, 20.12575262387719, 20.596373642506435, 19.897544979380225, 19.301843316681484, 19.914424524362516, 19.006684460621905, 19.00668446062191, 20.655176985869648, 19.962815217338775, 20.687817705281958, 19.246892786803723, 20.04294675461339, 20.63766957617157, 19.169943866784696, 19.49013688916657, 19.86615113243526, 20.059949647265277, 19.76157479280183, 19.31002867987285, 20.16610495772695, 19.945894656213802, 19.90598296271688, 19.601585757557803, 20.223679869442435, 19.442891988084156, 19.246892786803702, 20.33070162438043, 19.006684460621916, 19.584971375951444, 19.403986801874325, 20.011323496397655, 19.65754894786356, 19.744824803856527, 20.537737706723117, 19.498402102310706, 20.705367656791182, 19.31002867987286, 19.914424524362502, 19.54578188918362, 20.21510721698597, 20.157556710804496, 19.107265993738533, 19.971280879928372, 20.52032983902252, 19.395761610603664, 20.453236756358656, 19.68861314740931, 19.01474465533084, 19.403986801874332, 19.64921627367349, 19.15369534655203, 19.014744655330865, 19.44289198808416, 19.060949187604074, 19.451137166008465, 19.301843316681463, 19.994361819463496, 19.403986801874364, 20.272822031808992, 19.08297805086659, 19.263220368568202, 19.736455134145068, 19.044793051692526, 20.587643008208378, 19.395761610603667, 19.545781889183644, 19.099166579991092, 20.770859431488002, 20.38010384231017, 19.72203192296617, 19.897544979380278, 20.215107216985928, 19.954353143274314, 20.388746465146248, 19.11536884221713, 19.379321686358278, 19.161817884399646, 20.330701624380463, 20.05994964726523, 19.006684460621905, 20.03445071344569, 20.238469948208646, 19.31821751424412, 19.481875179578648, 19.905982962716905, 19.145576251781783, 19.75319802290707, 20.637669576171575, 19.099166579991117, 20.880776807666734, 19.506670820496865, 20.272822031808996, 19.523218777941352, 20.470587707454378, 19.52921480715682, 20.183212328314756, 19.632561520253354, 19.761574792801834, 20.83899441693978, 19.35695073218061, 19.50667082049687, 19.76157479280183, 20.38874646514625, 19.25505484703703, 19.809594071358244, 19.40398680187432, 20.47926870192607, 19.31821751424413, 19.16181788439968, 20.646421425315374, 19.022808268139322, 20.149012087414064, 20.74688212453715, 19.200237519525302, 19.40398680187432, 20.898490450819907, 20.10017004549348, 20.62017700582324, 20.797295632689305, 19.044793051692483, 20.687817705281944, 19.14557625178174, 19.153695346552052, 20.511631439070662, 19.4593858404784, 19.65754894786356, 19.618214233526118, 20.847831642226875, 20.21510721698592, 19.954353143274243, 20.42096615287843, 19.403986801874325, 20.272822031809014, 19.5932768057063, 20.646421425315364, 19.46763801297676, 19.49013688916657, 20.47926870192604, 20.856672615130073, 19.459385840478408, 19.607605855073928, 20.496641736519813, 19.161817884399607, 20.117221481978994, 19.442891988084185, 19.42044765010446, 19.29366142319861, 19.713671914970462, 19.954353143274304, 19.65754894786358, 19.632561520253343, 20.166104957726912, 19.255054847037048, 19.75319802290707, 19.30184331668151, 20.330701624380417, 19.78441337364471, 19.175831397155168, 19.78441337364471, 19.05286940717188, 20.788479829203233, 20.059949647265235, 19.866151132435235, 19.11536884221715, 19.222427359221285, 20.131933705085626, 20.687817705281944, 19.099166579991127, 19.107265993738523, 20.42096615287843, 20.62892143686501, 20.15755671080456, 19.04479305169252, 20.429626104259114, 20.322083606277506, 20.438289728079074, 20.596373642506464, 19.014744655330844, 19.459385840478394, 20.281419159478215, 19.285482997953427, 19.90598296271693, 19.21652552255367, 19.954353143274282, 19.945894656213778, 19.76157479280183, 19.954353143274272, 19.07488893257947, 19.31002867987284, 20.679048308593753, 20.27282203180899, 19.348745479115095, 20.80611517470708, 19.16181788439965, 20.117221481978994, 20.05994964726526, 19.20837979458577, 19.115368842217155, 19.45113716600847, 20.746882124537176, 19.216525522553642, 19.792803381082553, 20.797295632689302, 20.076966963862038, 19.246892786803677, 19.263220368568163, 19.069032394441557, 20.33932329713991, 19.03672011971415, 19.348745479115113, 20.10017004549348, 19.545781889183637, 20.856672615130066, 19.442891988084153, 19.92286966583443, 19.263220368568195, 19.20023751952532, 19.570658867642987, 20.322083606277513, 19.857730033485584, 20.479268701926067, 19.42641211594443, 19.459385840478387, 19.19209869590864, 19.857730033485595, 19.849312504170918, 20.281419159478226, 19.601585757557803, 19.84931250417093, 20.117221481978962, 20.38010384231016, 20.78847982920325, 19.696962528693852, 19.498402102310695, 19.945894656213778, 19.905982962716916, 19.74482480385655, 19.238734186400904, 19.91442452436252, 19.044793051692533, 19.897544979380207, 19.255054847037037, 19.153695346552052, 20.00284086007049, 19.914424524362484, 19.20023751952531, 19.014744655330855, 19.31002867987284, 20.764482181751557, 19.27138935286493, 19.977414519313786, 20.57891607475477, 19.880679741567032, 19.55407069979085, 20.52032983902251, 19.107265993738537, 19.15369534655201, 19.216525522553642, 19.809594071358294, 19.86382879879616, 19.554070699790866, 19.905982962716894, 20.322083606277495, 19.459385840478383, 19.680267305359163, 19.49840210231073, 19.609898232999647, 19.107265993738523, 19.263220368568167, 20.255638707682095, 19.11536884221713, 19.08297805086664, 19.301843316681495, 20.47926870192606, 20.117221481979005, 20.77966776266416, 19.498402102310717, 19.632561520253333, 20.59637364250646, 19.632561520253347, 19.192098695908662, 19.994361819463485, 20.011323496397665, 19.310028679872865, 19.41221548121482, 19.153695346552023, 19.50667082049684, 20.687817705281944, 19.200237519525317, 20.149012087414047, 19.801196946484126, 19.95435314327431, 19.905982962716912, 20.002840860070485, 19.192098695908665, 20.470587707454317, 20.028299562312398, 19.467638012976746, 20.746882124537176, 19.006684460621912, 19.55407069979085, 19.905982962716873, 19.971280879928386, 19.123475126883527, 19.006684460621916, 20.157556710804514, 20.637669576171547, 20.272822031808996, 19.29366142319858, 19.576669466800436, 20.496641736519816, 19.379321686358303, 19.905982962716884, 19.826399005562646, 19.99436181946353, 19.32415058285974, 19.80119694648414, 19.006684460621916, 19.451137166008472, 19.26322036856816, 19.24689278680371, 20.37146488301119, 19.570658867643, 20.1575567108045, 19.356950732180632, 20.206538198406687, 19.905982962716887, 20.304858527845255, 19.028650609785597, 19.954353143274286, 20.48795337776083, 20.00284086007049, 20.470587707454342, 19.200237519525317, 20.15755671080449, 19.301843316681502, 20.74688212453719, 20.223679869442424, 20.32208360627749, 20.779667762664218, 19.744824803856556, 20.823765480680063, 20.48795337776083, 19.19209869590863, 19.96281521733877, 19.395761610603685, 19.310028679872868, 19.091070599518883, 19.58497137595148, 20.696590820822074, 19.979750132564867, 20.183212328314777, 20.788479829203233, 19.403986801874314, 19.09916657999113, 20.806115174707077, 19.230579044362095, 19.962815217338775, 20.898490450819914, 19.35695073218063, 20.05994964726526, 19.137460598629364, 20.019809729969808, 20.166104957726922, 19.897544979380246, 20.420966152878428, 20.21510721698592, 19.40398680187434, 19.200237519525302, 19.866151132435213, 20.39739275307306, 19.24689278680369, 20.00284086007052, 19.365159464860778, 19.74482480385649, 19.88911057283568, 19.04479305169249, 20.54644717760116, 20.78847982920327, 19.68861314740924, 20.587643008208378, 19.412215481214837, 19.481875179578594, 19.84089854297802, 19.70531545071373, 20.238469948208657, 19.301843316681484, 19.41221548121485, 19.107265993738565, 19.7053154507137, 19.107265993738558, 19.937439754636742, 19.60158575755778, 19.72203192296619, 20.479268701926042, 19.545781889183658, 20.53773770672312, 19.985886373052423, 20.59637364250646, 19.099166579991117, 19.34874547911509, 20.74688212453719, 20.10017004549348, 19.01474465533087, 19.514943045211425, 19.584971375951472, 20.847831642226836, 19.705315450713723, 19.442891988084185, 19.099166579991124, 19.200237519525324, 19.8493125041709, 20.313469241281954, 20.322083606277502, 19.006684460621905, 20.117221481978998, 19.792803381082557, 20.470587707454346, 20.67028262918103, 19.6492162736735, 19.490136889166546, 19.145576251781783, 20.388746465146255, 20.172298432064547, 20.272822031808996, 19.014744655330876, 19.192098695908665, 19.403986801874343, 19.395761610603675, 19.161817884399643, 19.18396332227278, 19.412215481214844, 20.54644717760114, 19.293661423198618, 20.215107216985988, 20.847831642226897, 19.39576161060368, 19.459385840478422, 19.72203192296619, 19.88911057283567, 19.365159464860753, 19.006684460621923, 19.84089854297801, 19.80959407135827, 19.238734186400922, 19.5066708204969, 19.657548947863575, 19.091070599518904, 19.285482997953412, 19.54578188918364, 19.490136889166592, 20.011323496397665, 19.70531545071376, 19.137460598629346, 20.313469241281943, 20.10869395636205, 19.208379794585746, 20.74688212453718, 20.856672615130076, 20.63766957617154, 19.514943045211417, 19.809594071358266, 19.95435314327432, 19.801196946484136, 19.857730033485577, 20.529031927718588, 19.792803381082607, 19.387539905924285, 19.451137166008486, 19.356950732180593, 20.74688212453717, 19.840898542978017, 19.90598296271692, 19.44289198808411, 19.29366142319863, 19.705315450713766, 19.8577300334856, 20.10017004549352, 19.45938584047838, 19.41817741876658, 20.313469241281943, 19.418177418766568, 19.052869407171887, 20.117221481979016, 19.387539905924267, 19.04479305169256, 20.183212328314752, 19.387539905924303, 19.379321686358246, 20.05144639871055, 19.601585757557817, 20.637669576171568, 20.33932329713991, 20.696590820822088, 19.263220368568174, 20.354197948813503, 19.609898232999644, 20.847831642226907, 19.72203192296619, 20.025958273680473, 19.13746059862932, 20.42096615287843, 19.50667082049686, 19.052869407171894, 19.945894656213778, 19.922869665834433, 19.060949187604102, 19.80959407135827, 19.753198022907018, 20.06611051886716, 19.713671914970462, 19.498402102310713, 20.174656829717915, 19.80119694648414, 19.75319802290705, 19.45113716600847, 19.044793051692494, 19.200237519525345, 20.537737706723124, 20.1319337050856, 19.08297805086661, 19.65754894786359, 19.554070699790863, 19.44289198808417, 19.348745479115095, 19.387539905924285, 19.45113716600845, 19.10726599373853, 19.246892786803716, 20.74688212453717, 20.002840860070517, 19.696962528693835, 20.620177005823184, 20.67904830859371, 19.801196946484165, 19.840898542978017, 20.313469241281954, 19.17583139715517, 19.145576251781755, 19.15369534655201, 19.44289198808411, 19.50667082049688, 20.52903192771861, 19.498402102310717, 20.06845650180602, 19.705315450713723, 19.809594071358276, 19.71367191497046, 19.39576161060369, 19.688613147409256, 20.42962610425912, 19.65754894786355, 20.687817705281912, 19.20023751952532, 20.63766957617158, 19.81799475721439, 19.905982962716916, 20.865517337238625, 20.117221481979023, 20.67028262918102, 20.47926870192605, 20.232256157317188, 20.720510005785254, 19.70531545071374, 19.11536884221717, 19.014744655330833, 19.713671914970444, 20.62892143686504, 19.246892786803702, 19.332345405928717, 20.529031927718584, 19.713671914970455, 19.529214807156833, 19.9628152173388, 20.438289728079067, 20.05144639871055, 19.451137166008454, 19.310028679872847, 19.66588515570396, 19.979750132564874, 19.459385840478404, 19.060949187604066, 19.92286966583445, 19.42044765010442, 19.192098695908662, 19.937439754636753, 19.609898232999647, 19.348745479115117, 20.76448218175152, 19.052869407171887, 20.068456501806033, 19.091070599518954, 20.215107216985928, 19.977414519313847, 19.506670820496872, 19.33234540592872, 19.649216273673492, 20.18321232831474, 19.506670820496893, 19.69696252869384, 20.44695702589569, 20.076966963862002, 19.874575802533588, 19.20837979458575, 19.060949187604063, 20.865517337238618, 19.2305790443621, 20.059949647265263, 19.736455134145057, 20.83899441693978, 20.821331202860186, 19.29366142319862, 19.293661423198618, 20.068456501806004, 19.014744655330848, 19.060949187604088, 19.736455134145054, 19.562363025447116, 20.898490450819907, 20.880776807666738, 19.962815217338747, 20.264228548391888, 20.49664173651981, 19.4593858404784, 20.755680287618908, 19.230579044362077, 19.324150582859726, 19.90598296271688, 19.545781889183647, 19.091070599518904, 19.153695346552023, 20.272822031808968, 20.16610495772695, 19.091070599518908, 20.779667762664126, 19.76157479280183, 19.356950732180643, 19.208379794585753, 19.18396332227276, 20.33932329713988, 19.13746059862934, 19.713671914970465, 19.356950732180607, 19.44289198808414, 19.90598296271689, 20.068456501806033, 20.487953377760824, 19.006684460621912, 19.97128087992838, 19.767644026627917, 19.498402102310713, 19.293661423198586, 19.301843316681477, 19.356950732180604, 19.57666946680038, 19.387539905924275, 20.429626104259107, 19.646919299507303, 19.545781889183623, 20.48795337776084, 19.06094918760407, 19.40398680187432, 19.665885155703965, 20.687817705281944, 19.506670820496854, 19.192098695908662, 19.65754894786358, 19.246892786803667]\n"
     ]
    }
   ],
   "source": [
    "print(LR)"
   ]
  },
  {
   "cell_type": "code",
   "execution_count": null,
   "metadata": {
    "collapsed": true
   },
   "outputs": [],
   "source": []
  }
 ],
 "metadata": {
  "kernelspec": {
   "display_name": "Python 3",
   "language": "python",
   "name": "python3"
  },
  "language_info": {
   "codemirror_mode": {
    "name": "ipython",
    "version": 3
   },
   "file_extension": ".py",
   "mimetype": "text/x-python",
   "name": "python",
   "nbconvert_exporter": "python",
   "pygments_lexer": "ipython3",
   "version": "3.4.3"
  }
 },
 "nbformat": 4,
 "nbformat_minor": 1
}
