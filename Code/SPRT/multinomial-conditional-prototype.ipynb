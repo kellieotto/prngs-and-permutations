{
 "cells": [
  {
   "cell_type": "markdown",
   "metadata": {},
   "source": [
    "# Sequential probability ratio test, applied to PRNGs\n",
    "\n",
    "We modify the sequential testing procedure from Weiss (1962) to be a more powerful conditional test.\n",
    "\n",
    "The method tests the null hypothesis that a multinomial random variable has equal category probabilities $1/k$. We condition on a sample being among the most frequent $s$ or least frequent $s$ categories. Then, under the null, it's equally likely for the sample to be in the top or bottom $s$. The alternative hypothesis is that the probability of landing in the top $s$ is $\\frac{m}{2}$ for some $m > 1$.\n",
    "\n",
    "The function `sequential_multinomial_conditional_test` tests the null with type 1 error at most $\\alpha$ and power at least $1 - \\beta$."
   ]
  },
  {
   "cell_type": "markdown",
   "metadata": {},
   "source": [
    "In this particular use case, we want to test whether samples of size $k$ drawn from a population of size $n$ using a particular PRNG and sampling algorithm actually occur with equal frequency.  They should be distributed as multinomial with probability ${n \\choose k}^{-1}$."
   ]
  },
  {
   "cell_type": "code",
   "execution_count": 1,
   "metadata": {
    "collapsed": false
   },
   "outputs": [],
   "source": [
    "%matplotlib inline\n",
    "from __future__ import division\n",
    "import matplotlib.pyplot as plt\n",
    "import math\n",
    "import numpy as np\n",
    "import sys\n",
    "sys.path.append('../modules')\n",
    "from sample import PIKK, sample_by_index\n",
    "from sha256prng import SHA256\n",
    "from prng import lcgRandom\n",
    "from scipy.misc import comb"
   ]
  },
  {
   "cell_type": "code",
   "execution_count": 2,
   "metadata": {
    "collapsed": false
   },
   "outputs": [],
   "source": [
    "def sequential_multinomial_conditional_test(sampling_function, alpha, beta, multiplier, \\\n",
    "                                s, maxsteps=10**5):\n",
    "    '''\n",
    "    Conduct Wald's SPRT for multinomial distribution, conditional on samples being in the\n",
    "    top or bottom s most frequent categories\n",
    "    H_0: selection probabilities are all 1/num_categories so p=s/num_categories\n",
    "    H_1: probability of landing in top s is higher than landing in lowest s\n",
    "    \n",
    "    sampling_function: a function which generates a random number or random sample.\n",
    "    alpha: desired type 1 error rate\n",
    "    beta: desired power\n",
    "    multiplier: value larger than 1. Determines alternative: p1 = multiplier/2\n",
    "    s: tuning parameter, number of top + bottom categories considered. An integer between 1 and k.\n",
    "    maxsteps: max number of samples before the algorithm terminates.\n",
    "    '''\n",
    "\n",
    "    assert multiplier > 1\n",
    "    assert maxsteps > 0\n",
    "    if isinstance(s, int):\n",
    "        s = [s]\n",
    "    \n",
    "    # Set parameters\n",
    "    lower = beta/(1-alpha)\n",
    "    upper = (1-beta)/alpha\n",
    "\n",
    "    # Initialize counter\n",
    "    sampleCounts = dict()\n",
    "    while len(sampleCounts.keys()) < 2*max(s):\n",
    "        Xn = str(sorted(sampling_function()))\n",
    "        if Xn not in sampleCounts.keys():\n",
    "            sampleCounts[Xn] = 0\n",
    "    steps = 0\n",
    "    event_occurs = {ss: 0 for ss in s}\n",
    "    top_s_occurs = {ss: 0 for ss in s}\n",
    "    LR = {ss: [1] for ss in s}\n",
    "    decision = {ss: \"None\" for ss in s}\n",
    "    num_steps = {ss: maxsteps for ss in s}\n",
    "    tests_running = len(s)\n",
    "    \n",
    "    # Draw samples\n",
    "    while tests_running and steps < maxsteps:\n",
    "        Xn = str(sorted(sampling_function()))\n",
    "        top_categories = sorted(sampleCounts, key = sampleCounts.get, reverse = True)\n",
    "\n",
    "        # add Xn to sampleCounts and repeat\n",
    "        if Xn in sampleCounts.keys():\n",
    "            sampleCounts[Xn] += 1\n",
    "        else:\n",
    "            sampleCounts[Xn] = 1\n",
    "\n",
    "        steps += 1    \n",
    "        for ss in s:\n",
    "            # Run test for greater than alternative\n",
    "            # Event occurs if Xn is among the s most frequent values of X1,...,X_n-1\n",
    "            if (Xn not in top_categories[:ss]) and (Xn not in top_categories[-ss:]):\n",
    "                continue\n",
    "            event_occurs[ss] += 1\n",
    "            \n",
    "            if Xn in top_categories[:ss]:\n",
    "                top_s_occurs[ss] += 1\n",
    "                LR[ss].append(LR[ss][-1] * multiplier) # p1/p0 = multiplier\n",
    "            else:\n",
    "                LR[ss].append(LR[ss][-1] * (1 - multiplier/2)*2) # (1-p1)/(1-p0)\n",
    "\n",
    "            # Run test at step n\n",
    "            if LR[ss][-1] <= lower:\n",
    "                # accept the null and stop\n",
    "                decision[ss] = 0\n",
    "                num_steps[ss] = steps\n",
    "                tests_running -= 1\n",
    "                s.remove(ss)\n",
    "                \n",
    "            if LR[ss][-1] >= upper:\n",
    "                # reject the null and stop\n",
    "                decision[ss] = 1\n",
    "                num_steps[ss] = steps\n",
    "                tests_running -= 1\n",
    "                s.remove(ss)\n",
    "\n",
    "\n",
    "    return {'decision' : decision,\n",
    "            'lower_threshold' : lower,\n",
    "            'LR' : LR,\n",
    "            'upper_threshold' : upper,\n",
    "            'steps' : num_steps,\n",
    "            'event_occurs' : event_occurs,\n",
    "            'top_s_occurs' : top_s_occurs\n",
    "            }"
   ]
  },
  {
   "cell_type": "code",
   "execution_count": 3,
   "metadata": {
    "collapsed": true
   },
   "outputs": [],
   "source": [
    "# Choose pop and sample size, multiplier > 1, alpha, beta\n",
    "n = 13\n",
    "k = 3\n",
    "alpha = 0.05\n",
    "beta = 0.05\n",
    "multiplier = 1.01\n"
   ]
  },
  {
   "cell_type": "markdown",
   "metadata": {},
   "source": [
    "# RANDU"
   ]
  },
  {
   "cell_type": "code",
   "execution_count": 4,
   "metadata": {
    "collapsed": false
   },
   "outputs": [],
   "source": [
    "prng = lcgRandom(100) # from random.org Timestamp: 2017-01-14 22:56:40 UTC\n",
    "sampling_func = lambda: PIKK(n, k, prng)\n",
    "sampling_func()\n",
    "\n",
    "res = sequential_multinomial_conditional_test(sampling_func, alpha=alpha, beta=beta, multiplier=multiplier, s=[5, 10, 20])"
   ]
  },
  {
   "cell_type": "code",
   "execution_count": 5,
   "metadata": {
    "collapsed": false
   },
   "outputs": [
    {
     "data": {
      "text/plain": [
       "({5: 'None', 10: 'None', 20: 'None'},\n",
       " {5: 3410, 10: 6887, 20: 13942},\n",
       " {5: 1619, 10: 3357, 20: 6899})"
      ]
     },
     "execution_count": 5,
     "metadata": {},
     "output_type": "execute_result"
    }
   ],
   "source": [
    "res['decision'], res['event_occurs'], res['top_s_occurs']"
   ]
  },
  {
   "cell_type": "code",
   "execution_count": 6,
   "metadata": {
    "collapsed": false
   },
   "outputs": [],
   "source": [
    "prng = lcgRandom(100) # from random.org Timestamp: 2017-01-14 22:56:40 UTC\n",
    "sampling_func = lambda: sample_by_index(n, k, prng)\n",
    "sampling_func()\n",
    "\n",
    "res = sequential_multinomial_conditional_test(sampling_func, alpha=alpha, beta=beta, multiplier=multiplier, s=[5, 10, 20])"
   ]
  },
  {
   "cell_type": "code",
   "execution_count": 7,
   "metadata": {
    "collapsed": false
   },
   "outputs": [
    {
     "data": {
      "text/plain": [
       "({5: 1, 10: 1, 20: 1},\n",
       " {5: 1691, 10: 2033, 20: 2622},\n",
       " {5: 997, 10: 1169, 20: 1465})"
      ]
     },
     "execution_count": 7,
     "metadata": {},
     "output_type": "execute_result"
    }
   ],
   "source": [
    "res['decision'], res['event_occurs'], res['top_s_occurs']"
   ]
  },
  {
   "cell_type": "markdown",
   "metadata": {},
   "source": [
    "# Super-Duper LCG"
   ]
  },
  {
   "cell_type": "code",
   "execution_count": 8,
   "metadata": {
    "collapsed": false
   },
   "outputs": [],
   "source": [
    "# Parameters for the Super Duper LCG\n",
    "A_SD = 0\n",
    "B_SD = 69069\n",
    "M_SD = 2**32\n",
    "sdlcg = lcgRandom(seed=547691802, A=A_SD, B=B_SD, M=M_SD) \n",
    "sampling_func = lambda: PIKK(n, k, sdlcg)\n",
    "sampling_func()\n",
    "\n",
    "res = sequential_multinomial_conditional_test(sampling_func, alpha=alpha, beta=beta, multiplier=multiplier, s=[5, 10, 20])"
   ]
  },
  {
   "cell_type": "code",
   "execution_count": 9,
   "metadata": {
    "collapsed": false
   },
   "outputs": [
    {
     "data": {
      "text/plain": [
       "({5: 'None', 10: 'None', 20: 'None'},\n",
       " {5: 3443, 10: 6769, 20: 13761},\n",
       " {5: 1752, 10: 3424, 20: 6914})"
      ]
     },
     "execution_count": 9,
     "metadata": {},
     "output_type": "execute_result"
    }
   ],
   "source": [
    "res['decision'], res['event_occurs'], res['top_s_occurs']"
   ]
  },
  {
   "cell_type": "code",
   "execution_count": 10,
   "metadata": {
    "collapsed": false
   },
   "outputs": [],
   "source": [
    "# Parameters for the Super Duper LCG\n",
    "A_SD = 0\n",
    "B_SD = 69069\n",
    "M_SD = 2**32\n",
    "sdlcg = lcgRandom(seed=547691802, A=A_SD, B=B_SD, M=M_SD) \n",
    "sampling_func = lambda: sample_by_index(n, k, sdlcg)\n",
    "sampling_func()\n",
    "\n",
    "res = sequential_multinomial_conditional_test(sampling_func, alpha=alpha, beta=beta, multiplier=multiplier, s=[5, 10, 20])"
   ]
  },
  {
   "cell_type": "code",
   "execution_count": 11,
   "metadata": {
    "collapsed": false
   },
   "outputs": [
    {
     "data": {
      "text/plain": [
       "({5: 'None', 10: 'None', 20: 'None'},\n",
       " {5: 3505, 10: 6969, 20: 13955},\n",
       " {5: 1731, 10: 3485, 20: 7065})"
      ]
     },
     "execution_count": 11,
     "metadata": {},
     "output_type": "execute_result"
    }
   ],
   "source": [
    "res['decision'], res['event_occurs'], res['top_s_occurs']"
   ]
  },
  {
   "cell_type": "markdown",
   "metadata": {},
   "source": [
    "# Mersenne Twister"
   ]
  },
  {
   "cell_type": "code",
   "execution_count": 20,
   "metadata": {
    "collapsed": false,
    "scrolled": true
   },
   "outputs": [],
   "source": [
    "prng = np.random\n",
    "prng.seed(547691802)\n",
    "sampling_func = lambda: PIKK(n, k, prng)\n",
    "sampling_func()\n",
    "\n",
    "res = sequential_multinomial_conditional_test(sampling_func, alpha=alpha, beta=beta, multiplier=multiplier, s=[5, 10, 20])"
   ]
  },
  {
   "cell_type": "code",
   "execution_count": 21,
   "metadata": {
    "collapsed": false
   },
   "outputs": [
    {
     "data": {
      "text/plain": [
       "({5: 'None', 10: 'None', 20: 'None'},\n",
       " {5: 3472, 10: 6858, 20: 13818},\n",
       " {5: 1697, 10: 3374, 20: 6849})"
      ]
     },
     "execution_count": 21,
     "metadata": {},
     "output_type": "execute_result"
    }
   ],
   "source": [
    "res['decision'], res['event_occurs'], res['top_s_occurs']"
   ]
  },
  {
   "cell_type": "code",
   "execution_count": 14,
   "metadata": {
    "collapsed": false
   },
   "outputs": [],
   "source": [
    "prng = np.random\n",
    "prng.seed(547691802)\n",
    "sampling_func = lambda: sample_by_index(n, k, prng)\n",
    "sampling_func()\n",
    "\n",
    "res = sequential_multinomial_conditional_test(sampling_func, alpha=alpha, beta=beta, multiplier=multiplier, s=[5, 10, 20])"
   ]
  },
  {
   "cell_type": "code",
   "execution_count": 15,
   "metadata": {
    "collapsed": false
   },
   "outputs": [
    {
     "data": {
      "text/plain": [
       "({5: 'None', 10: 'None', 20: 'None'},\n",
       " {5: 3501, 10: 7008, 20: 13918},\n",
       " {5: 1763, 10: 3522, 20: 6985})"
      ]
     },
     "execution_count": 15,
     "metadata": {},
     "output_type": "execute_result"
    }
   ],
   "source": [
    "res['decision'], res['event_occurs'], res['top_s_occurs']"
   ]
  },
  {
   "cell_type": "markdown",
   "metadata": {},
   "source": [
    "# SHA256"
   ]
  },
  {
   "cell_type": "code",
   "execution_count": 16,
   "metadata": {
    "collapsed": false
   },
   "outputs": [],
   "source": [
    "prng = SHA256(547691802)\n",
    "sampling_func = lambda: PIKK(n, k, prng)\n",
    "sampling_func()\n",
    "\n",
    "res = sequential_multinomial_conditional_test(sampling_func, alpha=alpha, beta=beta, multiplier=multiplier, s=[5, 10, 20])"
   ]
  },
  {
   "cell_type": "code",
   "execution_count": 17,
   "metadata": {
    "collapsed": false
   },
   "outputs": [
    {
     "data": {
      "text/plain": [
       "({5: 'None', 10: 'None', 20: 'None'},\n",
       " {5: 3374, 10: 6770, 20: 14028},\n",
       " {5: 1653, 10: 3353, 20: 6971})"
      ]
     },
     "execution_count": 17,
     "metadata": {},
     "output_type": "execute_result"
    }
   ],
   "source": [
    "res['decision'], res['event_occurs'], res['top_s_occurs']"
   ]
  },
  {
   "cell_type": "code",
   "execution_count": 18,
   "metadata": {
    "collapsed": false
   },
   "outputs": [],
   "source": [
    "prng = SHA256(547691802)\n",
    "sampling_func = lambda: sample_by_index(n, k, prng)\n",
    "sampling_func()\n",
    "\n",
    "res = sequential_multinomial_conditional_test(sampling_func, alpha=alpha, beta=beta, multiplier=multiplier, s=[5, 10, 20])"
   ]
  },
  {
   "cell_type": "code",
   "execution_count": 19,
   "metadata": {
    "collapsed": false
   },
   "outputs": [
    {
     "data": {
      "text/plain": [
       "({5: 'None', 10: 'None', 20: 'None'},\n",
       " {5: 3456, 10: 7020, 20: 13984},\n",
       " {5: 1770, 10: 3577, 20: 7022})"
      ]
     },
     "execution_count": 19,
     "metadata": {},
     "output_type": "execute_result"
    }
   ],
   "source": [
    "res['decision'], res['event_occurs'], res['top_s_occurs']"
   ]
  }
 ],
 "metadata": {
  "kernelspec": {
   "display_name": "Python 3",
   "language": "python",
   "name": "python3"
  },
  "language_info": {
   "codemirror_mode": {
    "name": "ipython",
    "version": 3
   },
   "file_extension": ".py",
   "mimetype": "text/x-python",
   "name": "python",
   "nbconvert_exporter": "python",
   "pygments_lexer": "ipython3",
   "version": "3.4.3"
  }
 },
 "nbformat": 4,
 "nbformat_minor": 1
}
