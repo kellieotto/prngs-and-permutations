{
 "cells": [
  {
   "cell_type": "markdown",
   "metadata": {},
   "source": [
    "# Sequential probability ratio test, applied to PRNGs\n",
    "\n",
    "We modify the sequential testing procedure from Weiss (1962) to be a more powerful conditional test.\n",
    "\n",
    "The method tests the null hypothesis that a multinomial random variable has equal category probabilities $1/k$. We condition on a sample being among the most frequent $s$ or least frequent $s$ categories. Then, under the null, it's equally likely for the sample to be in the top or bottom $s$. The alternative hypothesis is that the probability of landing in the top $s$ is $\\frac{m}{2}$ for some $m > 1$.\n",
    "\n",
    "The function `sequential_multinomial_conditional_test` tests the null with type 1 error at most $\\alpha$ and power at least $1 - \\beta$."
   ]
  },
  {
   "cell_type": "markdown",
   "metadata": {},
   "source": [
    "In this particular use case, we want to test whether samples of size $k$ drawn from a population of size $n$ using a particular PRNG and sampling algorithm actually occur with equal frequency.  They should be distributed as multinomial with probability ${n \\choose k}^{-1}$."
   ]
  },
  {
   "cell_type": "code",
   "execution_count": 1,
   "metadata": {
    "collapsed": false
   },
   "outputs": [],
   "source": [
    "%matplotlib inline\n",
    "from __future__ import division\n",
    "import matplotlib.pyplot as plt\n",
    "import math\n",
    "import numpy as np\n",
    "import sys\n",
    "sys.path.append('../modules')\n",
    "from sample import PIKK, sample_by_index\n",
    "from sha256prng import SHA256\n",
    "from prng import lcgRandom\n",
    "from scipy.misc import comb"
   ]
  },
  {
   "cell_type": "code",
   "execution_count": 2,
   "metadata": {
    "collapsed": false
   },
   "outputs": [],
   "source": [
    "def sequential_multinomial_conditional_test(sampling_function, alpha, beta, multiplier, \\\n",
    "                                s, maxsteps=10**5):\n",
    "    '''\n",
    "    Conduct Wald's SPRT for multinomial distribution, conditional on samples being in the\n",
    "    top or bottom s most frequent categories\n",
    "    H_0: selection probabilities are all 1/num_categories so p=s/num_categories\n",
    "    H_1: probability of landing in top s is higher than landing in lowest s\n",
    "    \n",
    "    sampling_function: a function which generates a random number or random sample.\n",
    "    alpha: desired type 1 error rate\n",
    "    beta: desired power\n",
    "    multiplier: value larger than 1. Determines alternative: p1 = multiplier/2\n",
    "    s: tuning parameter, number of top + bottom categories considered. An integer between 1 and k.\n",
    "    maxsteps: max number of samples before the algorithm terminates.\n",
    "    '''\n",
    "\n",
    "    assert multiplier > 1\n",
    "    assert maxsteps > 0\n",
    "    if isinstance(s, int):\n",
    "        s = [s]\n",
    "    \n",
    "    # Set parameters\n",
    "    lower = beta/(1-alpha)\n",
    "    upper = (1-beta)/alpha\n",
    "\n",
    "    # Initialize counter\n",
    "    sampleCounts = dict()\n",
    "    while len(sampleCounts.keys()) < 2*max(s):\n",
    "        Xn = str(sorted(sampling_function()))\n",
    "        if Xn not in sampleCounts.keys():\n",
    "            sampleCounts[Xn] = 0\n",
    "    steps = 0\n",
    "    event_occurs = {ss: 0 for ss in s}\n",
    "    top_s_occurs = {ss: 0 for ss in s}\n",
    "    LR = {ss: [1] for ss in s}\n",
    "    decision = {ss: \"None\" for ss in s}\n",
    "    num_steps = {ss: maxsteps for ss in s}\n",
    "    tests_running = len(s)\n",
    "    \n",
    "    # Draw samples\n",
    "    while tests_running and steps < maxsteps:\n",
    "        Xn = str(sorted(sampling_function()))\n",
    "        top_categories = sorted(sampleCounts, key = sampleCounts.get, reverse = True)\n",
    "\n",
    "        # add Xn to sampleCounts and repeat\n",
    "        if Xn in sampleCounts.keys():\n",
    "            sampleCounts[Xn] += 1\n",
    "        else:\n",
    "            sampleCounts[Xn] = 1\n",
    "\n",
    "        steps += 1    \n",
    "        for ss in s:\n",
    "            # Run test for greater than alternative\n",
    "            # Event occurs if Xn is among the s most frequent values of X1,...,X_n-1\n",
    "            if (Xn not in top_categories[:ss]) and (Xn not in top_categories[-ss:]):\n",
    "                continue\n",
    "            event_occurs[ss] += 1\n",
    "            \n",
    "            if Xn in top_categories[:ss]:\n",
    "                top_s_occurs[ss] += 1\n",
    "                LR[ss].append(LR[ss][-1] * multiplier) # p1/p0 = multiplier\n",
    "            else:\n",
    "                LR[ss].append(LR[ss][-1] * (1 - multiplier/2)*2) # (1-p1)/(1-p0)\n",
    "\n",
    "            # Run test at step n\n",
    "            if LR[ss][-1] <= lower:\n",
    "                # accept the null and stop\n",
    "                decision[ss] = 0\n",
    "                num_steps[ss] = steps\n",
    "                tests_running -= 1\n",
    "                s.remove(ss)\n",
    "                \n",
    "            if LR[ss][-1] >= upper:\n",
    "                # reject the null and stop\n",
    "                decision[ss] = 1\n",
    "                num_steps[ss] = steps\n",
    "                tests_running -= 1\n",
    "                s.remove(ss)\n",
    "\n",
    "\n",
    "    return {'decision' : decision,\n",
    "            'lower_threshold' : lower,\n",
    "            'LR' : LR,\n",
    "            'upper_threshold' : upper,\n",
    "            'steps' : num_steps,\n",
    "            'event_occurs' : event_occurs,\n",
    "            'top_s_occurs' : top_s_occurs\n",
    "            }"
   ]
  },
  {
   "cell_type": "code",
   "execution_count": 21,
   "metadata": {
    "collapsed": true
   },
   "outputs": [],
   "source": [
    "# Choose pop and sample size, multiplier > 1, alpha, beta\n",
    "n = 13\n",
    "k = 3\n",
    "alpha = 0.05\n",
    "beta = 0\n",
    "multiplier = 1.01\n"
   ]
  },
  {
   "cell_type": "markdown",
   "metadata": {},
   "source": [
    "# RANDU"
   ]
  },
  {
   "cell_type": "code",
   "execution_count": 22,
   "metadata": {
    "collapsed": false
   },
   "outputs": [],
   "source": [
    "prng = lcgRandom(100) # from random.org Timestamp: 2017-01-14 22:56:40 UTC\n",
    "sampling_func = lambda: PIKK(n, k, prng)\n",
    "sampling_func()\n",
    "\n",
    "res = sequential_multinomial_conditional_test(sampling_func, alpha=alpha, beta=beta, multiplier=multiplier, s=int(comb(n, k)/2))"
   ]
  },
  {
   "cell_type": "code",
   "execution_count": 23,
   "metadata": {
    "collapsed": false
   },
   "outputs": [
    {
     "data": {
      "text/plain": [
       "({143: 'None'}, {143: 100000}, {143: 49733})"
      ]
     },
     "execution_count": 23,
     "metadata": {},
     "output_type": "execute_result"
    }
   ],
   "source": [
    "res['decision'], res['event_occurs'], res['top_s_occurs']"
   ]
  },
  {
   "cell_type": "code",
   "execution_count": 24,
   "metadata": {
    "collapsed": false
   },
   "outputs": [],
   "source": [
    "prng = lcgRandom(100) # from random.org Timestamp: 2017-01-14 22:56:40 UTC\n",
    "sampling_func = lambda: sample_by_index(n, k, prng)\n",
    "sampling_func()\n",
    "\n",
    "res = sequential_multinomial_conditional_test(sampling_func, alpha=alpha, beta=beta, multiplier=multiplier, s=int(comb(n, k)/2))"
   ]
  },
  {
   "cell_type": "code",
   "execution_count": 25,
   "metadata": {
    "collapsed": false
   },
   "outputs": [
    {
     "data": {
      "text/plain": [
       "({143: 1}, {143: 6310}, {143: 3321})"
      ]
     },
     "execution_count": 25,
     "metadata": {},
     "output_type": "execute_result"
    }
   ],
   "source": [
    "res['decision'], res['event_occurs'], res['top_s_occurs']"
   ]
  },
  {
   "cell_type": "markdown",
   "metadata": {},
   "source": [
    "# Super-Duper LCG"
   ]
  },
  {
   "cell_type": "code",
   "execution_count": 26,
   "metadata": {
    "collapsed": false
   },
   "outputs": [],
   "source": [
    "# Parameters for the Super Duper LCG\n",
    "A_SD = 0\n",
    "B_SD = 69069\n",
    "M_SD = 2**32\n",
    "sdlcg = lcgRandom(seed=547691802, A=A_SD, B=B_SD, M=M_SD) \n",
    "sampling_func = lambda: PIKK(n, k, sdlcg)\n",
    "sampling_func()\n",
    "\n",
    "res = sequential_multinomial_conditional_test(sampling_func, alpha=alpha, beta=beta, multiplier=multiplier, s=int(comb(n, k)/2))"
   ]
  },
  {
   "cell_type": "code",
   "execution_count": 27,
   "metadata": {
    "collapsed": false
   },
   "outputs": [
    {
     "data": {
      "text/plain": [
       "({143: 'None'}, {143: 100000}, {143: 50108})"
      ]
     },
     "execution_count": 27,
     "metadata": {},
     "output_type": "execute_result"
    }
   ],
   "source": [
    "res['decision'], res['event_occurs'], res['top_s_occurs']"
   ]
  },
  {
   "cell_type": "code",
   "execution_count": 28,
   "metadata": {
    "collapsed": false
   },
   "outputs": [],
   "source": [
    "# Parameters for the Super Duper LCG\n",
    "A_SD = 0\n",
    "B_SD = 69069\n",
    "M_SD = 2**32\n",
    "sdlcg = lcgRandom(seed=547691802, A=A_SD, B=B_SD, M=M_SD) \n",
    "sampling_func = lambda: sample_by_index(n, k, sdlcg)\n",
    "sampling_func()\n",
    "\n",
    "res = sequential_multinomial_conditional_test(sampling_func, alpha=alpha, beta=beta, multiplier=multiplier, s=int(comb(n, k)/2))"
   ]
  },
  {
   "cell_type": "code",
   "execution_count": 29,
   "metadata": {
    "collapsed": false
   },
   "outputs": [
    {
     "data": {
      "text/plain": [
       "({143: 'None'}, {143: 100000}, {143: 50102})"
      ]
     },
     "execution_count": 29,
     "metadata": {},
     "output_type": "execute_result"
    }
   ],
   "source": [
    "res['decision'], res['event_occurs'], res['top_s_occurs']"
   ]
  },
  {
   "cell_type": "markdown",
   "metadata": {},
   "source": [
    "# Mersenne Twister"
   ]
  },
  {
   "cell_type": "code",
   "execution_count": 30,
   "metadata": {
    "collapsed": false,
    "scrolled": true
   },
   "outputs": [],
   "source": [
    "prng = np.random\n",
    "prng.seed(547691802)\n",
    "sampling_func = lambda: PIKK(n, k, prng)\n",
    "sampling_func()\n",
    "\n",
    "res = sequential_multinomial_conditional_test(sampling_func, alpha=alpha, beta=beta, multiplier=multiplier, s=int(comb(n, k)/2))"
   ]
  },
  {
   "cell_type": "code",
   "execution_count": 31,
   "metadata": {
    "collapsed": false
   },
   "outputs": [
    {
     "data": {
      "text/plain": [
       "({143: 'None'}, {143: 100000}, {143: 49959})"
      ]
     },
     "execution_count": 31,
     "metadata": {},
     "output_type": "execute_result"
    }
   ],
   "source": [
    "res['decision'], res['event_occurs'], res['top_s_occurs']"
   ]
  },
  {
   "cell_type": "code",
   "execution_count": 32,
   "metadata": {
    "collapsed": false
   },
   "outputs": [],
   "source": [
    "prng = np.random\n",
    "prng.seed(547691802)\n",
    "sampling_func = lambda: sample_by_index(n, k, prng)\n",
    "sampling_func()\n",
    "\n",
    "res = sequential_multinomial_conditional_test(sampling_func, alpha=alpha, beta=beta, multiplier=multiplier, s=int(comb(n, k)/2))"
   ]
  },
  {
   "cell_type": "code",
   "execution_count": 33,
   "metadata": {
    "collapsed": false
   },
   "outputs": [
    {
     "data": {
      "text/plain": [
       "({143: 'None'}, {143: 100000}, {143: 50098})"
      ]
     },
     "execution_count": 33,
     "metadata": {},
     "output_type": "execute_result"
    }
   ],
   "source": [
    "res['decision'], res['event_occurs'], res['top_s_occurs']"
   ]
  },
  {
   "cell_type": "markdown",
   "metadata": {},
   "source": [
    "# SHA256"
   ]
  },
  {
   "cell_type": "code",
   "execution_count": 34,
   "metadata": {
    "collapsed": false
   },
   "outputs": [],
   "source": [
    "prng = SHA256(547691802)\n",
    "sampling_func = lambda: PIKK(n, k, prng)\n",
    "sampling_func()\n",
    "\n",
    "res = sequential_multinomial_conditional_test(sampling_func, alpha=alpha, beta=beta, multiplier=multiplier, s=int(comb(n, k)/2))"
   ]
  },
  {
   "cell_type": "code",
   "execution_count": 35,
   "metadata": {
    "collapsed": false
   },
   "outputs": [
    {
     "data": {
      "text/plain": [
       "({143: 'None'}, {143: 100000}, {143: 49833})"
      ]
     },
     "execution_count": 35,
     "metadata": {},
     "output_type": "execute_result"
    }
   ],
   "source": [
    "res['decision'], res['event_occurs'], res['top_s_occurs']"
   ]
  },
  {
   "cell_type": "code",
   "execution_count": 36,
   "metadata": {
    "collapsed": false
   },
   "outputs": [],
   "source": [
    "prng = SHA256(547691802)\n",
    "sampling_func = lambda: sample_by_index(n, k, prng)\n",
    "sampling_func()\n",
    "\n",
    "res = sequential_multinomial_conditional_test(sampling_func, alpha=alpha, beta=beta, multiplier=multiplier, s=int(comb(n, k)/2))"
   ]
  },
  {
   "cell_type": "code",
   "execution_count": 37,
   "metadata": {
    "collapsed": false
   },
   "outputs": [
    {
     "data": {
      "text/plain": [
       "({143: 'None'}, {143: 100000}, {143: 50006})"
      ]
     },
     "execution_count": 37,
     "metadata": {},
     "output_type": "execute_result"
    }
   ],
   "source": [
    "res['decision'], res['event_occurs'], res['top_s_occurs']"
   ]
  },
  {
   "cell_type": "code",
   "execution_count": null,
   "metadata": {
    "collapsed": true
   },
   "outputs": [],
   "source": []
  }
 ],
 "metadata": {
  "kernelspec": {
   "display_name": "Python 3",
   "language": "python",
   "name": "python3"
  },
  "language_info": {
   "codemirror_mode": {
    "name": "ipython",
    "version": 3
   },
   "file_extension": ".py",
   "mimetype": "text/x-python",
   "name": "python",
   "nbconvert_exporter": "python",
   "pygments_lexer": "ipython3",
   "version": "3.4.3"
  }
 },
 "nbformat": 4,
 "nbformat_minor": 1
}
