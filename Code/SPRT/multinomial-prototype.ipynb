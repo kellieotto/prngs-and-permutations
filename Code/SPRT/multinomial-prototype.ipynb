{
 "cells": [
  {
   "cell_type": "markdown",
   "metadata": {},
   "source": [
    "# Sequential probability ratio test, applied to PRNGs\n",
    "\n",
    "Sequential testing procedure from Weiss (1962)\n",
    "\n",
    "The method tests the null hypothesis that a multinomial random variable has equal category probabilities $1/k$ against the alternative that the most common $s$ categories have a probability of occuring more often than $s/k$.\n",
    "\n",
    "The function `sequential_multinomial_test` tests the null with type 1 error at most $\\alpha$ and power at least $1 - \\beta$."
   ]
  },
  {
   "cell_type": "markdown",
   "metadata": {},
   "source": [
    "In this particular use case, we want to test whether samples of size $k$ drawn from a population of size $n$ using a particular PRNG and sampling algorithm actually occur with equal frequency.  They should be distributed as multinomial with probability ${n \\choose k}^{-1}$."
   ]
  },
  {
   "cell_type": "code",
   "execution_count": 1,
   "metadata": {
    "collapsed": false
   },
   "outputs": [],
   "source": [
    "%matplotlib inline\n",
    "import matplotlib.pyplot as plt\n",
    "import math\n",
    "import numpy as np\n",
    "import sys\n",
    "sys.path.append('../modules')\n",
    "from sample import PIKK, sample_by_index\n",
    "from sha256prng import SHA256\n",
    "from prng import lcgRandom\n",
    "from scipy.misc import comb"
   ]
  },
  {
   "cell_type": "code",
   "execution_count": 2,
   "metadata": {
    "collapsed": true
   },
   "outputs": [],
   "source": [
    "def sequential_multinomial_test(sampling_function, num_categories, alpha, beta, multiplier, \\\n",
    "                                s = None, maxsteps=10**5):\n",
    "    '''\n",
    "    Conduct Wald's SPRT for multinomial distribution with num_categories categories\n",
    "    Let p = sum_{s most frequent categories} p_category\n",
    "    H_0: selection probabilities are all 1/num_categories so p=s/num_categories\n",
    "    H_1: p = p1 = multiplier * s/num_categories\n",
    "    \n",
    "    sampling_function: a function which generates a random number or random sample.\n",
    "    num_categories: number of categories\n",
    "    alpha: desired type 1 error rate\n",
    "    beta: desired power\n",
    "    multiplier: value larger than 1. Determines alternative: p1 = multiplier * s/num_categories\n",
    "    s: tuning parameter, integer between 1 and k. Default is 1% of num_categories.\n",
    "    '''\n",
    "\n",
    "    assert multiplier > 1\n",
    "    assert maxsteps > 0\n",
    "    \n",
    "    if s is None:\n",
    "        s = [math.ceil(0.01*num_categories)]\n",
    "    if isinstance(s, int):\n",
    "        s = [s]\n",
    "\n",
    "    k = num_categories # Rename for ease of use!\n",
    "    lessthan_multiplier = 2 - multiplier\n",
    "    \n",
    "    # Set parameters\n",
    "    lower = beta/(1-alpha)\n",
    "    upper = (1-beta)/alpha\n",
    "\n",
    "    # Initialize counter\n",
    "    sampleCounts = dict()\n",
    "    while len(sampleCounts.keys()) < max(s):\n",
    "        Xn = str(sorted(sampling_function()))\n",
    "        if Xn not in sampleCounts.keys():\n",
    "            sampleCounts[Xn] = 0\n",
    "    steps = 0\n",
    "    LR_upper = {ss: [1] for ss in s}\n",
    "    decision_upper = {ss: \"None\" for ss in s}\n",
    "    num_steps_upper = {ss: maxsteps for ss in s}\n",
    "    LR_lower = {ss: [1] for ss in s}\n",
    "    decision_lower = {ss: \"None\" for ss in s}\n",
    "    num_steps_lower = {ss: maxsteps for ss in s}    \n",
    "    tests_running = len(s)*2\n",
    "    \n",
    "    # Draw samples\n",
    "    while tests_running and steps < maxsteps:\n",
    "        Xn = str(sorted(sampling_function()))\n",
    "        top_categories = sorted(sampleCounts, key = sampleCounts.get, reverse = True)\n",
    "        \n",
    "        steps += 1\n",
    "        for ss in s:\n",
    "            # Run test for greater than alternative\n",
    "            # Event occurs if Xn is among the s most frequent values of X1,...,X_n-1\n",
    "            if Xn in top_categories[:ss]:\n",
    "                LR_upper[ss].append(LR_upper[ss][-1] * multiplier) # p1/p0 = multiplier\n",
    "            else:\n",
    "                LR_upper[ss].append(LR_upper[ss][-1] * (1 - multiplier*ss/k)/(1-ss/k)) # (1-p1)/(1-p0)\n",
    "\n",
    "            # Run test at step n\n",
    "            if LR_upper[ss][-1] <= lower:\n",
    "                # accept the null and stop\n",
    "                decision_upper[ss] = 0\n",
    "                num_steps_upper[ss] = steps\n",
    "                tests_running -= 1\n",
    "                if decision_lower[ss] != \"None\":\n",
    "                    s.remove(ss)\n",
    "                \n",
    "            if LR_upper[ss][-1] >= upper:\n",
    "                # reject the null and stop\n",
    "                decision_upper[ss] = 1\n",
    "                num_steps_upper[ss] = steps\n",
    "                tests_running -= 1\n",
    "                if decision_lower[ss] != \"None\":\n",
    "                    s.remove(ss)\n",
    "            \n",
    "            # Run test for less than alternative\n",
    "            # Event occurs if Xn is among the s least frequent values of X1,...,X_n-1\n",
    "            if Xn in top_categories[-ss:]:\n",
    "                LR_lower[ss].append(LR_lower[ss][-1] * lessthan_multiplier) # p1/p0 = lessthan_multiplier\n",
    "            else:\n",
    "                LR_lower[ss].append(LR_lower[ss][-1] * (1 - lessthan_multiplier*ss/k)/(1-ss/k)) # (1-p1)/(1-p0)\n",
    "\n",
    "            # Run test at step n\n",
    "            if LR_lower[ss][-1] <= lower:\n",
    "                # accept the null and stop\n",
    "                decision_lower[ss] = 0\n",
    "                num_steps_lower[ss] = steps\n",
    "                tests_running -= 1\n",
    "                if decision_upper[ss] != \"None\":\n",
    "                    s.remove(ss)\n",
    "                \n",
    "            if LR_lower[ss][-1] >= upper:\n",
    "                # reject the null and stop\n",
    "                decision_lower[ss] = 1\n",
    "                num_steps_lower[ss] = steps\n",
    "                tests_running -= 1\n",
    "                if decision_upper[ss] != \"None\":\n",
    "                    s.remove(ss)\n",
    "\n",
    "        # add Xn to sampleCounts and repeat\n",
    "        if Xn in sampleCounts.keys():\n",
    "            sampleCounts[Xn] += 1\n",
    "        else:\n",
    "            sampleCounts[Xn] = 1\n",
    "    return {'decision_upper' : decision_upper,\n",
    "            'decision_lower' : decision_lower,\n",
    "            'lower_threshold' : lower,\n",
    "            'LR_upper' : LR_upper,\n",
    "            'LR_lower' : LR_lower,\n",
    "            'upper_threshold' : upper,\n",
    "            'steps_upper' : num_steps_upper,\n",
    "            'steps_lower' : num_steps_lower\n",
    "            }"
   ]
  },
  {
   "cell_type": "code",
   "execution_count": 3,
   "metadata": {
    "collapsed": true
   },
   "outputs": [],
   "source": [
    "# Choose pop and sample size, multiplier > 1, alpha, beta\n",
    "n = 13\n",
    "k = 4\n",
    "alpha = 0.05\n",
    "beta = 0.05\n",
    "multiplier = 1.2\n",
    "s = 10"
   ]
  },
  {
   "cell_type": "markdown",
   "metadata": {},
   "source": [
    "# RANDU"
   ]
  },
  {
   "cell_type": "code",
   "execution_count": 4,
   "metadata": {
    "collapsed": false
   },
   "outputs": [
    {
     "data": {
      "text/plain": [
       "({5: 'None', 10: 'None'},\n",
       " {5: 100000, 10: 100000},\n",
       " {5: 'None', 10: 0},\n",
       " {5: 100000, 10: 1672})"
      ]
     },
     "execution_count": 4,
     "metadata": {},
     "output_type": "execute_result"
    }
   ],
   "source": [
    "prng = lcgRandom(100) # from random.org Timestamp: 2017-01-14 22:56:40 UTC\n",
    "sampling_func = lambda: PIKK(n, k, prng)\n",
    "sampling_func()\n",
    "\n",
    "res = sequential_multinomial_test(sampling_func, num_categories=comb(n, k), \n",
    "                                  alpha=alpha, beta=beta, multiplier=multiplier, s=[5, 10])\n",
    "res['decision_upper'], res['steps_upper'], res['decision_lower'], res['steps_lower'] "
   ]
  },
  {
   "cell_type": "code",
   "execution_count": 5,
   "metadata": {
    "collapsed": false
   },
   "outputs": [
    {
     "data": {
      "text/plain": [
       "({10: 'None'}, {10: 100000}, {10: 0}, {10: 3329})"
      ]
     },
     "execution_count": 5,
     "metadata": {},
     "output_type": "execute_result"
    }
   ],
   "source": [
    "prng = lcgRandom(100) # from random.org Timestamp: 2017-01-14 22:56:40 UTC\n",
    "sampling_func = lambda: sample_by_index(n, k, prng)\n",
    "sampling_func()\n",
    "\n",
    "res = sequential_multinomial_test(sampling_func, num_categories=comb(n, k), \n",
    "                                  alpha=alpha, beta=beta, multiplier=multiplier, s=s)\n",
    "res['decision_upper'], res['steps_upper'], res['decision_lower'], res['steps_lower'] "
   ]
  },
  {
   "cell_type": "markdown",
   "metadata": {},
   "source": [
    "# Super-Duper LCG"
   ]
  },
  {
   "cell_type": "code",
   "execution_count": 6,
   "metadata": {
    "collapsed": false
   },
   "outputs": [
    {
     "data": {
      "text/plain": [
       "({5: 'None', 10: 'None', 20: 0},\n",
       " {5: 100000, 10: 100000, 20: 2178},\n",
       " {5: 'None', 10: 'None', 20: 'None'},\n",
       " {5: 100000, 10: 100000, 20: 100000})"
      ]
     },
     "execution_count": 6,
     "metadata": {},
     "output_type": "execute_result"
    }
   ],
   "source": [
    "# Parameters for the Super Duper LCG\n",
    "A_SD = 0\n",
    "B_SD = 69069\n",
    "M_SD = 2**32\n",
    "sdlcg = lcgRandom(seed=547691802, A=A_SD, B=B_SD, M=M_SD) \n",
    "sampling_func = lambda: PIKK(n, k, sdlcg)\n",
    "sampling_func()\n",
    "\n",
    "res = sequential_multinomial_test(sampling_func, num_categories=comb(n, k), \n",
    "                                  alpha=alpha, beta=beta, multiplier=multiplier, s=[5, 10, 20])\n",
    "res['decision_upper'], res['steps_upper'], res['decision_lower'], res['steps_lower'] "
   ]
  },
  {
   "cell_type": "code",
   "execution_count": 7,
   "metadata": {
    "collapsed": false
   },
   "outputs": [
    {
     "data": {
      "text/plain": [
       "({10: 'None'}, {10: 100000}, {10: 0}, {10: 11446})"
      ]
     },
     "execution_count": 7,
     "metadata": {},
     "output_type": "execute_result"
    }
   ],
   "source": [
    "# Parameters for the Super Duper LCG\n",
    "A_SD = 0\n",
    "B_SD = 69069\n",
    "M_SD = 2**32\n",
    "sdlcg = lcgRandom(seed=547691802, A=A_SD, B=B_SD, M=M_SD) \n",
    "sampling_func = lambda: sample_by_index(n, k, sdlcg)\n",
    "sampling_func()\n",
    "\n",
    "res = sequential_multinomial_test(sampling_func, num_categories=comb(n, k), \n",
    "                                  alpha=alpha, beta=beta, multiplier=multiplier, s=s)\n",
    "res['decision_upper'], res['steps_upper'], res['decision_lower'], res['steps_lower'] "
   ]
  },
  {
   "cell_type": "markdown",
   "metadata": {},
   "source": [
    "# Mersenne Twister"
   ]
  },
  {
   "cell_type": "code",
   "execution_count": 8,
   "metadata": {
    "collapsed": false
   },
   "outputs": [
    {
     "data": {
      "text/plain": [
       "({10: 'None'}, {10: 100000}, {10: 0}, {10: 6835})"
      ]
     },
     "execution_count": 8,
     "metadata": {},
     "output_type": "execute_result"
    }
   ],
   "source": [
    "prng = np.random\n",
    "prng.seed(547691802)\n",
    "sampling_func = lambda: PIKK(n, k, prng)\n",
    "sampling_func()\n",
    "\n",
    "res = sequential_multinomial_test(sampling_func, num_categories=comb(n, k), \n",
    "                                  alpha=alpha, beta=beta, multiplier=multiplier, s=s)\n",
    "res['decision_upper'], res['steps_upper'], res['decision_lower'], res['steps_lower'] "
   ]
  },
  {
   "cell_type": "code",
   "execution_count": 9,
   "metadata": {
    "collapsed": false
   },
   "outputs": [
    {
     "data": {
      "text/plain": [
       "({10: 0}, {10: 13813}, {10: 'None'}, {10: 100000})"
      ]
     },
     "execution_count": 9,
     "metadata": {},
     "output_type": "execute_result"
    }
   ],
   "source": [
    "prng = np.random\n",
    "prng.seed(547691802)\n",
    "sampling_func = lambda: sample_by_index(n, k, prng)\n",
    "sampling_func()\n",
    "\n",
    "res = sequential_multinomial_test(sampling_func, num_categories=comb(n, k), \n",
    "                                  alpha=alpha, beta=beta, multiplier=multiplier, s=s)\n",
    "res['decision_upper'], res['steps_upper'], res['decision_lower'], res['steps_lower'] "
   ]
  },
  {
   "cell_type": "markdown",
   "metadata": {},
   "source": [
    "# SHA256"
   ]
  },
  {
   "cell_type": "code",
   "execution_count": 10,
   "metadata": {
    "collapsed": false
   },
   "outputs": [
    {
     "data": {
      "text/plain": [
       "({10: 'None'}, {10: 100000}, {10: 0}, {10: 15470})"
      ]
     },
     "execution_count": 10,
     "metadata": {},
     "output_type": "execute_result"
    }
   ],
   "source": [
    "prng = SHA256(547691802)\n",
    "sampling_func = lambda: PIKK(n, k, prng)\n",
    "sampling_func()\n",
    "\n",
    "res = sequential_multinomial_test(sampling_func, num_categories=comb(n, k), \n",
    "                                  alpha=alpha, beta=beta, multiplier=multiplier, s=s)\n",
    "res['decision_upper'], res['steps_upper'], res['decision_lower'], res['steps_lower'] "
   ]
  },
  {
   "cell_type": "code",
   "execution_count": 11,
   "metadata": {
    "collapsed": false
   },
   "outputs": [
    {
     "data": {
      "text/plain": [
       "({10: 'None'}, {10: 100000}, {10: 0}, {10: 1888})"
      ]
     },
     "execution_count": 11,
     "metadata": {},
     "output_type": "execute_result"
    }
   ],
   "source": [
    "prng = SHA256(547691802)\n",
    "sampling_func = lambda: sample_by_index(n, k, prng)\n",
    "sampling_func()\n",
    "\n",
    "res = sequential_multinomial_test(sampling_func, num_categories=comb(n, k), \n",
    "                                  alpha=alpha, beta=beta, multiplier=multiplier, s=s)\n",
    "res['decision_upper'], res['steps_upper'], res['decision_lower'], res['steps_lower'] "
   ]
  },
  {
   "cell_type": "code",
   "execution_count": null,
   "metadata": {
    "collapsed": true
   },
   "outputs": [],
   "source": []
  }
 ],
 "metadata": {
  "kernelspec": {
   "display_name": "Python 3",
   "language": "python",
   "name": "python3"
  },
  "language_info": {
   "codemirror_mode": {
    "name": "ipython",
    "version": 3
   },
   "file_extension": ".py",
   "mimetype": "text/x-python",
   "name": "python",
   "nbconvert_exporter": "python",
   "pygments_lexer": "ipython3",
   "version": "3.4.3"
  }
 },
 "nbformat": 4,
 "nbformat_minor": 1
}
