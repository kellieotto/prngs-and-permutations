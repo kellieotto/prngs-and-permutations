{
 "cells": [
  {
   "cell_type": "markdown",
   "metadata": {},
   "source": [
    "# Sequential probability ratio test, applied to PRNGs\n",
    "\n",
    "Sequential testing procedure from Weiss (1962)\n",
    "\n",
    "The method tests the null hypothesis that a multinomial random variable has equal category probabilities $1/k$ against the alternative that the most common $s$ categories have a probability of occuring more often than $s/k$.\n",
    "\n",
    "The function `sequential_multinomial_test` tests the null with type 1 error at most $\\alpha$ and power at least $1 - \\beta$."
   ]
  },
  {
   "cell_type": "markdown",
   "metadata": {},
   "source": [
    "In this particular use case, we want to test whether samples of size $k$ drawn from a population of size $n$ using a particular PRNG and sampling algorithm actually occur with equal frequency.  They should be distributed as multinomial with probability ${n \\choose k}^{-1}$."
   ]
  },
  {
   "cell_type": "code",
   "execution_count": 1,
   "metadata": {
    "collapsed": false
   },
   "outputs": [],
   "source": [
    "%matplotlib inline\n",
    "import matplotlib.pyplot as plt\n",
    "import math\n",
    "import numpy as np\n",
    "import sys\n",
    "sys.path.append('../modules')\n",
    "from sample import PIKK, sample_by_index\n",
    "from sha256prng import SHA256\n",
    "from prng import lcgRandom\n",
    "from scipy.misc import comb"
   ]
  },
  {
   "cell_type": "code",
   "execution_count": 2,
   "metadata": {
    "collapsed": true
   },
   "outputs": [],
   "source": [
    "def sequential_multinomial_test(sampling_function, num_categories, alpha, beta, multiplier, \\\n",
    "                                s = None, maxsteps=10**5):\n",
    "    '''\n",
    "    Conduct Wald's SPRT for multinomial distribution with num_categories categories\n",
    "    Let p = sum_{s most frequent categories} p_category\n",
    "    H_0: selection probabilities are all 1/num_categories so p=s/num_categories\n",
    "    H_1: p = p1 = multiplier * s/num_categories\n",
    "    \n",
    "    sampling_function: a function which generates a random number or random sample.\n",
    "    num_categories: number of categories\n",
    "    alpha: desired type 1 error rate\n",
    "    beta: desired power\n",
    "    multiplier: value larger than 1. Determines alternative: p1 = multiplier * s/num_categories\n",
    "    s: tuning parameter, integer between 1 and k. Default is 1% of num_categories.\n",
    "    '''\n",
    "\n",
    "    assert multiplier > 1\n",
    "    assert maxsteps > 0\n",
    "    \n",
    "    if s is None:\n",
    "        s = math.ceil(0.01*num_categories)\n",
    "    assert isinstance(s, int)    \n",
    "\n",
    "\n",
    "    k = num_categories # Rename for ease of use!\n",
    "    \n",
    "    # Set p0 = s/k, p1 = multiplier*(s/k)\n",
    "    p0 = s/k\n",
    "    p1 = multiplier*s/k\n",
    "    assert p1 < 1\n",
    "    assert p0 < 1\n",
    "    \n",
    "    # Set parameters\n",
    "    lower = beta/(1-alpha)\n",
    "    upper = (1-beta)/alpha\n",
    "    lr_occurs = p1/p0\n",
    "    lr_doesnotoccur = (1 - p1)/(1 - p0)\n",
    "\n",
    "    # Initialize counter\n",
    "    sampleCounts = dict()\n",
    "    while len(sampleCounts.keys()) < s:\n",
    "        Xn = str(sorted(sampling_function()))\n",
    "        if Xn not in sampleCounts.keys():\n",
    "            sampleCounts[Xn] = 0\n",
    "    steps = 0\n",
    "    LR = [1]\n",
    "    decision = None        \n",
    "    \n",
    "    # Draw samples\n",
    "    while lower < LR[-1] < upper and steps < maxsteps:\n",
    "        Xn = str(sorted(sampling_function()))\n",
    "\n",
    "        # Event occurs if Xn is among the top s most frequent values of X1,...,X_n-1\n",
    "        steps += 1\n",
    "        top_categories = sorted(sampleCounts, key = sampleCounts.get, reverse = True)[:s]\n",
    "        if Xn in top_categories:\n",
    "            Bn = 1\n",
    "            LR.append(LR[-1] * lr_occurs)\n",
    "        else:\n",
    "            Bn = 0\n",
    "            LR.append(LR[-1] * lr_doesnotoccur)\n",
    "\n",
    "        # Run test at step n\n",
    "        if LR[-1] <= lower:\n",
    "            # accept the null and stop\n",
    "            decision = 0\n",
    "            break\n",
    "#            return {'decision' : 0,\n",
    "#                    'lower' : lower,\n",
    "#                    'LR' : LR,\n",
    "#                    'upper' : upper,\n",
    "#                    'steps' : steps,\n",
    "#                    'pvalue' : min(1/LR[-1], 1)\n",
    "#                   }\n",
    "        if LR[-1] >= upper:\n",
    "            # reject the null and stop\n",
    "            decision = 1\n",
    "            break\n",
    "#            return {'decision' : 1,\n",
    "#                    'lower' : lower,\n",
    "#                    'LR' : LR,\n",
    "#                    'upper' : upper,\n",
    "#                    'steps' : steps,\n",
    "#                    'pvalue' : min(1/LR[-1], 1)\n",
    "#                   }\n",
    "        \n",
    "        # add Xn to sampleCounts and repeat\n",
    "        if Xn in sampleCounts.keys():\n",
    "            sampleCounts[Xn] += 1\n",
    "        else:\n",
    "            sampleCounts[Xn] = 1\n",
    "    return {'decision' : decision,\n",
    "            'lower' : lower,\n",
    "            'LR' : LR,\n",
    "            'upper' : upper,\n",
    "            'steps' : steps,\n",
    "            'pvalue' : min(1/LR[-1], 1)\n",
    "            }"
   ]
  },
  {
   "cell_type": "code",
   "execution_count": 3,
   "metadata": {
    "collapsed": true
   },
   "outputs": [],
   "source": [
    "# Choose pop and sample size, multiplier > 1, alpha, beta\n",
    "n = 13\n",
    "k = 4\n",
    "alpha = 0.05\n",
    "beta = 0.05\n",
    "multiplier = 1.2\n",
    "s = 10"
   ]
  },
  {
   "cell_type": "markdown",
   "metadata": {},
   "source": [
    "# RANDU"
   ]
  },
  {
   "cell_type": "code",
   "execution_count": 4,
   "metadata": {
    "collapsed": false
   },
   "outputs": [
    {
     "data": {
      "text/plain": [
       "(0, 24957, 1)"
      ]
     },
     "execution_count": 4,
     "metadata": {},
     "output_type": "execute_result"
    }
   ],
   "source": [
    "prng = lcgRandom(100) # from random.org Timestamp: 2017-01-14 22:56:40 UTC\n",
    "sampling_func = lambda: PIKK(n, k, prng)\n",
    "sampling_func()\n",
    "\n",
    "res = sequential_multinomial_test(sampling_func, num_categories=comb(n, k), \n",
    "                                  alpha=alpha, beta=beta, multiplier=multiplier, s=s)\n",
    "res['decision'], res['steps'], res['pvalue']"
   ]
  },
  {
   "cell_type": "code",
   "execution_count": 5,
   "metadata": {
    "collapsed": false
   },
   "outputs": [
    {
     "data": {
      "text/plain": [
       "(1, 32652, 0.051428137921121123)"
      ]
     },
     "execution_count": 5,
     "metadata": {},
     "output_type": "execute_result"
    }
   ],
   "source": [
    "prng = lcgRandom(100) # from random.org Timestamp: 2017-01-14 22:56:40 UTC\n",
    "sampling_func = lambda: sample_by_index(n, k, prng)\n",
    "sampling_func()\n",
    "\n",
    "res = sequential_multinomial_test(sampling_func, num_categories=comb(n, k), \n",
    "                                  alpha=alpha, beta=beta, multiplier=multiplier, s=s)\n",
    "res['decision'], res['steps'], res['pvalue']"
   ]
  },
  {
   "cell_type": "markdown",
   "metadata": {},
   "source": [
    "# Super-Duper LCG"
   ]
  },
  {
   "cell_type": "code",
   "execution_count": 6,
   "metadata": {
    "collapsed": false
   },
   "outputs": [
    {
     "data": {
      "text/plain": [
       "(0, 2862, 1)"
      ]
     },
     "execution_count": 6,
     "metadata": {},
     "output_type": "execute_result"
    }
   ],
   "source": [
    "# Parameters for the Super Duper LCG\n",
    "A_SD = 0\n",
    "B_SD = 69069\n",
    "M_SD = 2**32\n",
    "sdlcg = lcgRandom(seed=547691802, A=A_SD, B=B_SD, M=M_SD) \n",
    "sampling_func = lambda: PIKK(n, k, sdlcg)\n",
    "sampling_func()\n",
    "\n",
    "res = sequential_multinomial_test(sampling_func, num_categories=comb(n, k), \n",
    "                                  alpha=alpha, beta=beta, multiplier=multiplier, s=s)\n",
    "res['decision'], res['steps'], res['pvalue']"
   ]
  },
  {
   "cell_type": "code",
   "execution_count": 7,
   "metadata": {
    "collapsed": false
   },
   "outputs": [
    {
     "data": {
      "text/plain": [
       "(0, 20329, 1)"
      ]
     },
     "execution_count": 7,
     "metadata": {},
     "output_type": "execute_result"
    }
   ],
   "source": [
    "# Parameters for the Super Duper LCG\n",
    "A_SD = 0\n",
    "B_SD = 69069\n",
    "M_SD = 2**32\n",
    "sdlcg = lcgRandom(seed=547691802, A=A_SD, B=B_SD, M=M_SD) \n",
    "sampling_func = lambda: sample_by_index(n, k, sdlcg)\n",
    "sampling_func()\n",
    "\n",
    "res = sequential_multinomial_test(sampling_func, num_categories=comb(n, k), \n",
    "                                  alpha=alpha, beta=beta, multiplier=multiplier, s=s)\n",
    "res['decision'], res['steps'], res['pvalue']"
   ]
  },
  {
   "cell_type": "markdown",
   "metadata": {},
   "source": [
    "# Mersenne Twister"
   ]
  },
  {
   "cell_type": "code",
   "execution_count": 8,
   "metadata": {
    "collapsed": false
   },
   "outputs": [
    {
     "data": {
      "text/plain": [
       "(1, 6771, 0.050605867869732174)"
      ]
     },
     "execution_count": 8,
     "metadata": {},
     "output_type": "execute_result"
    }
   ],
   "source": [
    "prng = np.random\n",
    "prng.seed(547691802)\n",
    "sampling_func = lambda: PIKK(n, k, prng)\n",
    "sampling_func()\n",
    "\n",
    "res = sequential_multinomial_test(sampling_func, num_categories=comb(n, k), \n",
    "                                  alpha=alpha, beta=beta, multiplier=multiplier, s=s)\n",
    "res['decision'], res['steps'], res['pvalue']"
   ]
  },
  {
   "cell_type": "code",
   "execution_count": 9,
   "metadata": {
    "collapsed": false
   },
   "outputs": [
    {
     "data": {
      "text/plain": [
       "(0, 12182, 1)"
      ]
     },
     "execution_count": 9,
     "metadata": {},
     "output_type": "execute_result"
    }
   ],
   "source": [
    "prng = np.random\n",
    "prng.seed(547691802)\n",
    "sampling_func = lambda: sample_by_index(n, k, prng)\n",
    "sampling_func()\n",
    "\n",
    "res = sequential_multinomial_test(sampling_func, num_categories=comb(n, k), \n",
    "                                  alpha=alpha, beta=beta, multiplier=multiplier, s=s)\n",
    "res['decision'], res['steps'], res['pvalue']"
   ]
  },
  {
   "cell_type": "markdown",
   "metadata": {},
   "source": [
    "# SHA256"
   ]
  },
  {
   "cell_type": "code",
   "execution_count": 10,
   "metadata": {
    "collapsed": false
   },
   "outputs": [
    {
     "data": {
      "text/plain": [
       "(0, 12117, 1)"
      ]
     },
     "execution_count": 10,
     "metadata": {},
     "output_type": "execute_result"
    }
   ],
   "source": [
    "prng = SHA256(547691802)\n",
    "sampling_func = lambda: PIKK(n, k, prng)\n",
    "sampling_func()\n",
    "\n",
    "res = sequential_multinomial_test(sampling_func, num_categories=comb(n, k), \n",
    "                                  alpha=alpha, beta=beta, multiplier=multiplier, s=s)\n",
    "res['decision'], res['steps'], res['pvalue']"
   ]
  },
  {
   "cell_type": "code",
   "execution_count": 11,
   "metadata": {
    "collapsed": false
   },
   "outputs": [
    {
     "data": {
      "text/plain": [
       "(0, 3188, 1)"
      ]
     },
     "execution_count": 11,
     "metadata": {},
     "output_type": "execute_result"
    }
   ],
   "source": [
    "prng = SHA256(547691802)\n",
    "sampling_func = lambda: sample_by_index(n, k, prng)\n",
    "sampling_func()\n",
    "\n",
    "res = sequential_multinomial_test(sampling_func, num_categories=comb(n, k), \n",
    "                                  alpha=alpha, beta=beta, multiplier=multiplier, s=s)\n",
    "res['decision'], res['steps'], res['pvalue']"
   ]
  },
  {
   "cell_type": "code",
   "execution_count": null,
   "metadata": {
    "collapsed": true
   },
   "outputs": [],
   "source": []
  }
 ],
 "metadata": {
  "kernelspec": {
   "display_name": "Python 3",
   "language": "python",
   "name": "python3"
  },
  "language_info": {
   "codemirror_mode": {
    "name": "ipython",
    "version": 3
   },
   "file_extension": ".py",
   "mimetype": "text/x-python",
   "name": "python",
   "nbconvert_exporter": "python",
   "pygments_lexer": "ipython3",
   "version": "3.4.3"
  }
 },
 "nbformat": 4,
 "nbformat_minor": 1
}
