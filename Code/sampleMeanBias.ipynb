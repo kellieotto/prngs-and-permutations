{
 "cells": [
  {
   "cell_type": "code",
   "execution_count": null,
   "metadata": {
    "collapsed": true
   },
   "outputs": [],
   "source": [
    "from __future__ import division\n",
    "import numpy as np\n",
    "from prng import lcgRandom\n",
    "from sample import PIKK\n",
    "from scipy.misc import comb, factorial\n",
    "import pandas as pd\n",
    "import math"
   ]
  },
  {
   "cell_type": "code",
   "execution_count": null,
   "metadata": {
    "collapsed": true
   },
   "outputs": [],
   "source": [
    "def getEmpiricalDistr(randomObject, n, k, reps=10**7):\n",
    "    uniqueSamples = dict()\n",
    "\n",
    "    for i in range(reps): # use range in python 3, xrange in python 2\n",
    "        sam = frozenset(PIKK(n, k, randomObject))\n",
    "        if sam in uniqueSamples:\n",
    "            uniqueSamples[sam] += 1\n",
    "        else:\n",
    "            uniqueSamples[sam] = 1\n",
    "    return uniqueSamples\n",
    "\n",
    "\n",
    "def getPopMean(x):\n",
    "    return(np.mean(x))\n",
    "\n",
    "\n",
    "def getSampleMean(x, uniqueSamples):\n",
    "    m = 0\n",
    "    totCnt = 0\n",
    "    for sam, cnt in uniqueSamples.items():\n",
    "        m += np.mean([x[i] for i in sam])*cnt\n",
    "        totCnt += cnt\n",
    "    sampleMean = m/totCnt\n",
    "    return(sampleMean)\n",
    "\n",
    "    \n",
    "def makePopulation(n, p):\n",
    "    '''\n",
    "    Create a population of 0s and 1s\n",
    "    n = pop size\n",
    "    p = number of 1s in the population\n",
    "    '''\n",
    "    x = [0]*n\n",
    "    x[:p] = [1]*p\n",
    "    return(x)"
   ]
  },
  {
   "cell_type": "code",
   "execution_count": null,
   "metadata": {
    "collapsed": true
   },
   "outputs": [],
   "source": [
    "# Boilerplate stuff\n",
    "\n",
    "reps = int(10**4)\n",
    "n = [13, 30, 90]\n",
    "k = [4, 10, 20]\n",
    "p = [5, 10, 20]\n",
    "\n",
    "popMean = []\n",
    "sampleMean = []\n",
    "nvalues = []\n",
    "kvalues = []\n",
    "prng = []\n",
    "se = []\n",
    "bias = []\n",
    "relBias = []\n",
    "theoreticalSE = []"
   ]
  },
  {
   "cell_type": "markdown",
   "metadata": {},
   "source": [
    "# RANDU"
   ]
  },
  {
   "cell_type": "code",
   "execution_count": null,
   "metadata": {
    "collapsed": false
   },
   "outputs": [],
   "source": [
    "for nn in n:\n",
    "    for kk in k:\n",
    "        for pp in p:\n",
    "            if pp >= nn or kk >= nn:\n",
    "                continue\n",
    "            lcg = lcgRandom(seed=100) # set seed of RANDU to 100\n",
    "            randu_counts = getEmpiricalDistr(lcg, n=nn, k=kk, reps=reps)\n",
    "\n",
    "            x = makePopulation(nn, pp)\n",
    "            truePopMean = getPopMean(x)\n",
    "            popMean = popMean + [truePopMean]\n",
    "            sampleMean = sampleMean + [getSampleMean(x, randu_counts)]\n",
    "            nvalues = nvalues + [nn]\n",
    "            kvalues = kvalues + [kk]\n",
    "            prng = prng + ['RANDU']\n",
    "            \n",
    "            estimBias = sampleMean[-1] - truePopMean\n",
    "            bias = bias + [estimBias]\n",
    "            se = se + [theoreticalSE]\n",
    "            relBias = relBias + [estimBias/truePopMean]\n",
    "            \n",
    "            theoreticalSE = theoreticalSE + \\\n",
    "                [math.sqrt(truePopMean*(1-truePopMean)*(nn-kk)/(reps**2 * kk * nn**2 * (nn-1)))]"
   ]
  },
  {
   "cell_type": "code",
   "execution_count": null,
   "metadata": {
    "collapsed": false
   },
   "outputs": [],
   "source": [
    "d = {'Sample size' : kvalues,\n",
    "     'Pop size' : nvalues,\n",
    "     'Pop mean' : popMean,\n",
    "     'Sample mean' : sampleMean,\n",
    "     'Bias' : bias,\n",
    "     'Relative bias' : relBias,\n",
    "     'Theoretical SE' : theoreticalSE\n",
    "    }\n",
    "resTable = pd.DataFrame(d)\n",
    "cols = ['Pop size', 'Sample size', 'Pop mean', 'Sample mean', 'Bias', 'Relative bias', 'Theoretical SE']\n",
    "resTable[cols].sort_values(['Pop size', 'Sample size'])"
   ]
  },
  {
   "cell_type": "markdown",
   "metadata": {},
   "source": [
    "# Super Duper LCG"
   ]
  },
  {
   "cell_type": "code",
   "execution_count": null,
   "metadata": {
    "collapsed": true
   },
   "outputs": [],
   "source": [
    "# Parameters for the Super Duper LCG\n",
    "A_SD = 0\n",
    "B_SD = 69069\n",
    "M_SD = 2**32\n",
    "\n",
    "# Boilerplate stuff\n",
    "\n",
    "reps = int(10**4)\n",
    "n = [13, 30, 90]\n",
    "k = [4, 10, 20]\n",
    "p = [5, 10, 20]\n",
    "\n",
    "popMean = []\n",
    "sampleMean = []\n",
    "nvalues = []\n",
    "kvalues = []\n",
    "prng = []\n",
    "seed = []\n",
    "se = []\n",
    "bias = []\n",
    "relBias = []\n",
    "theoreticalSE = []"
   ]
  },
  {
   "cell_type": "code",
   "execution_count": null,
   "metadata": {
    "collapsed": false
   },
   "outputs": [],
   "source": [
    "for nn in n:\n",
    "    for kk in k:\n",
    "        for pp in p:\n",
    "            if pp >= nn or kk >= nn:\n",
    "                continue\n",
    "            sdlcg = lcgRandom(seed=100, A=A_SD, B=B_SD, M=M_SD)\n",
    "            sdlcg_counts = getEmpiricalDistr(sdlcg, n=nn, k=kk, reps=reps)\n",
    "            \n",
    "            x = makePopulation(nn, pp)\n",
    "            truePopMean = getPopMean(x)\n",
    "            popMean = popMean + [truePopMean]\n",
    "            sampleMean = sampleMean + [getSampleMean(x, sdlcg_counts)]\n",
    "            nvalues = nvalues + [nn]\n",
    "            kvalues = kvalues + [kk]\n",
    "            prng = prng + ['Super Duper']\n",
    "            \n",
    "            estimBias = sampleMean[-1] - truePopMean\n",
    "            bias = bias + [estimBias]\n",
    "            theoreticalSE = math.sqrt(truePopMean * (1-truePopMean)/kk)\n",
    "            se = se + [theoreticalSE]\n",
    "            relBias = relBias + [estimBias/truePopMean]\n",
    "            seed = seed + [100]\n",
    "            \n",
    "                        \n",
    "            theoreticalSE = theoreticalSE + \\\n",
    "                [math.sqrt(truePopMean*(1-truePopMean)*(nn-kk)/(reps**2 * kk * nn**2 * (nn-1)))]"
   ]
  },
  {
   "cell_type": "code",
   "execution_count": null,
   "metadata": {
    "collapsed": false
   },
   "outputs": [],
   "source": [
    "for nn in n:\n",
    "    for kk in k:\n",
    "        for pp in p:\n",
    "            if pp >= nn or kk >= nn:\n",
    "                continue\n",
    "            sdlcg = lcgRandom(seed=2334242802, A=A_SD, B=B_SD, M=M_SD)\n",
    "            sdlcg_counts = getEmpiricalDistr(sdlcg, n=nn, k=kk, reps=reps)\n",
    "            \n",
    "            x = makePopulation(nn, pp)\n",
    "            truePopMean = getPopMean(x)\n",
    "            popMean = popMean + [truePopMean]\n",
    "            sampleMean = sampleMean + [getSampleMean(x, sdlcg_counts)]\n",
    "            nvalues = nvalues + [nn]\n",
    "            kvalues = kvalues + [kk]\n",
    "            prng = prng + ['Super Duper']\n",
    "            \n",
    "            estimBias = sampleMean[-1] - truePopMean\n",
    "            bias = bias + [estimBias]\n",
    "            theoreticalSE = math.sqrt(truePopMean * (1-truePopMean)/kk)\n",
    "            se = se + [theoreticalSE]\n",
    "            relBias = relBias + [estimBias/truePopMean]\n",
    "            seed = seed + [2334242802]\n",
    "             \n",
    "            theoreticalSE = theoreticalSE + \\\n",
    "                [math.sqrt(truePopMean*(1-truePopMean)*(nn-kk)/(reps**2 * kk * nn**2 * (nn-1)))]"
   ]
  },
  {
   "cell_type": "code",
   "execution_count": null,
   "metadata": {
    "collapsed": false
   },
   "outputs": [],
   "source": [
    "d = {'Sample size' : kvalues,\n",
    "     'Pop size' : nvalues,\n",
    "     'Pop Mean' : popMean,\n",
    "     'Sample Mean' : sampleMean,\n",
    "     'Bias' : bias,\n",
    "     'Relative bias' : relBias,\n",
    "     'seed' : seed,\n",
    "     'Theoretical SE' : theoreticalSE\n",
    "    }\n",
    "resTable = pd.DataFrame(d)\n",
    "cols = [\"Pop size\", \"Sample size\", \"seed\", \"Pop Mean\", \"Sample Mean\", \"Bias\", \"Relative bias\", 'Theoretical SE']\n",
    "resTable[cols].sort_values(['Pop size', 'Sample size'])"
   ]
  },
  {
   "cell_type": "markdown",
   "metadata": {},
   "source": [
    "# Mersenne Twister"
   ]
  },
  {
   "cell_type": "code",
   "execution_count": null,
   "metadata": {
    "collapsed": true
   },
   "outputs": [],
   "source": [
    "# Boilerplate stuff\n",
    "\n",
    "reps = int(10**4)\n",
    "n = [13, 30, 90]\n",
    "k = [4, 10, 20]\n",
    "p = [5, 10, 20]\n",
    "\n",
    "popMean = []\n",
    "sampleMean = []\n",
    "nvalues = []\n",
    "kvalues = []\n",
    "prng = []\n",
    "se = []\n",
    "bias = []\n",
    "relBias = []\n",
    "seed = []\n",
    "theoreticalSE = []"
   ]
  },
  {
   "cell_type": "code",
   "execution_count": null,
   "metadata": {
    "collapsed": false
   },
   "outputs": [],
   "source": [
    "for nn in n:\n",
    "    for kk in k:\n",
    "        for pp in p:\n",
    "            if pp >= nn or kk >= nn:\n",
    "                continue\n",
    "            mt = np.random\n",
    "            mt.seed(100)\n",
    "            mt_counts = getEmpiricalDistr(mt, n=nn, k=kk, reps=reps)\n",
    "            \n",
    "            x = makePopulation(nn, pp)\n",
    "            truePopMean = getPopMean(x)\n",
    "            popMean = popMean + [truePopMean]\n",
    "            sampleMean = sampleMean + [getSampleMean(x, mt_counts)]\n",
    "            nvalues = nvalues + [nn]\n",
    "            kvalues = kvalues + [kk]\n",
    "            prng = prng + ['MT']\n",
    "            \n",
    "            estimBias = sampleMean[-1] - truePopMean\n",
    "            bias = bias + [estimBias]\n",
    "            theoreticalSE = math.sqrt(truePopMean * (1-truePopMean)/kk)\n",
    "            se = se + [theoreticalSE]\n",
    "            relBias = relBias + [estimBias/truePopMean]\n",
    "            seed = seed + [100]\n",
    "            \n",
    "            theoreticalSE = theoreticalSE + \\\n",
    "                [math.sqrt(truePopMean*(1-truePopMean)*(nn-kk)/(reps**2 * kk * nn**2 * (nn-1)))]"
   ]
  },
  {
   "cell_type": "code",
   "execution_count": null,
   "metadata": {
    "collapsed": true
   },
   "outputs": [],
   "source": [
    "for nn in n:\n",
    "    for kk in k:\n",
    "        for pp in p:\n",
    "            if pp >= nn or kk >= nn:\n",
    "                continue\n",
    "            mt = np.random\n",
    "            mt.seed(2334242802)\n",
    "            mt_counts = getEmpiricalDistr(mt, n=nn, k=kk, reps=reps)\n",
    "            \n",
    "            x = makePopulation(nn, pp)\n",
    "            truePopMean = getPopMean(x)\n",
    "            popMean = popMean + [truePopMean]\n",
    "            sampleMean = sampleMean + [getSampleMean(x, mt_counts)]\n",
    "            nvalues = nvalues + [nn]\n",
    "            kvalues = kvalues + [kk]\n",
    "            prng = prng + ['MT']\n",
    "            \n",
    "            estimBias = sampleMean[-1] - truePopMean\n",
    "            bias = bias + [estimBias]\n",
    "            theoreticalSE = math.sqrt(truePopMean * (1-truePopMean)/kk)\n",
    "            se = se + [theoreticalSE]\n",
    "            relBias = relBias + [estimBias/truePopMean]\n",
    "            seed = seed + [2334242802]\n",
    "                        \n",
    "            theoreticalSE = theoreticalSE + \\\n",
    "                [math.sqrt(truePopMean*(1-truePopMean)*(nn-kk)/(reps**2 * kk * nn**2 * (nn-1)))]"
   ]
  },
  {
   "cell_type": "code",
   "execution_count": null,
   "metadata": {
    "collapsed": true
   },
   "outputs": [],
   "source": [
    "for nn in n:\n",
    "    for kk in k:\n",
    "        for pp in p:\n",
    "            if pp >= nn or kk >= nn:\n",
    "                continue\n",
    "            mt = np.random\n",
    "            mt.seed(4294967295)\n",
    "            mt_counts = getEmpiricalDistr(mt, n=nn, k=kk, reps=reps)\n",
    "            \n",
    "            x = makePopulation(nn, pp)\n",
    "            truePopMean = getPopMean(x)\n",
    "            popMean = popMean + [truePopMean]\n",
    "            sampleMean = sampleMean + [getSampleMean(x, mt_counts)]\n",
    "            nvalues = nvalues + [nn]\n",
    "            kvalues = kvalues + [kk]\n",
    "            prng = prng + ['MT']\n",
    "            \n",
    "            estimBias = sampleMean[-1] - truePopMean\n",
    "            bias = bias + [estimBias]\n",
    "            theoreticalSE = math.sqrt(truePopMean * (1-truePopMean)/kk)\n",
    "            se = se + [theoreticalSE]\n",
    "            relBias = relBias + [estimBias/truePopMean]\n",
    "            seed = seed + [4294967295]\n",
    "                        \n",
    "            theoreticalSE = theoreticalSE + \\\n",
    "                [math.sqrt(truePopMean*(1-truePopMean)*(nn-kk)/(reps**2 * kk * nn**2 * (nn-1)))]"
   ]
  },
  {
   "cell_type": "code",
   "execution_count": null,
   "metadata": {
    "collapsed": false
   },
   "outputs": [],
   "source": [
    "d = {'Sample size' : kvalues,\n",
    "     'Pop size' : nvalues,\n",
    "     'Pop Mean' : popMean,\n",
    "     'Sample Mean' : sampleMean,\n",
    "     'Bias' : bias,\n",
    "     'Relative bias' : relBias,\n",
    "     'seed' : seed,\n",
    "     'Theoretical SE' : theoreticalSE\n",
    "    }\n",
    "resTable = pd.DataFrame(d)\n",
    "cols = [\"Pop size\", \"Sample size\", \"seed\", \"Pop Mean\", \"Sample Mean\", \"Bias\", \"Relative bias\", 'Theoretical SE']\n",
    "resTable[cols].sort_values(['Pop size', 'Sample size'])"
   ]
  },
  {
   "cell_type": "markdown",
   "metadata": {
    "collapsed": true
   },
   "source": [
    "If all samples were *actually* equally likely, then the sum of $1$s drawn from the population is distributed as hypergeometric with $p = n\\times \\text{popMean}$ \"good\" items, $n-p = n*(1-\\text{popMean})$ \"bad\" items, and $k$ draws.\n",
    "This random variable $X$ is distributed with\n",
    "\n",
    "$$E(X) = k\\text{popMean} = \\frac{kp}{n}$$ and \n",
    "$$var(X) = \\frac{k\\text{popMean}(1-\\text{popMean})(n-k)}{n-1} = \\frac{kp(1-p)(n-k)}{n^2(n-1)}.$$ \n",
    "\n",
    "Instead of the sum, we look at the mean of the $k$ draws, $\\bar{X}$. It has a scaled hypergeometric distribution, with\n",
    "\n",
    "$$E(\\bar{X}) = \\text{popMean} = \\frac{p}{n}$$ and \n",
    "$$var(\\bar{X}) = \\frac{\\text{popMean}(1-\\text{popMean})(n-k)}{k(n-1)} = \\frac{p(1-p)(n-k)}{kn^2(n-1)}.$$\n",
    "\n",
    "Finally, we sample from this distribution $B$ times and take the sample average -- this is the column Sample Mean in the table. This is an average of IID random variables, so it has mean $\\text{popMean} = \\frac{p}{n}$ and variance\n",
    "\n",
    "$$\\frac{\\text{popMean}(1-\\text{popMean})(n-k)}{B^2k(n-1)} = \\frac{p(1-p)(n-k)}{B^2kn^2(n-1)}.$$\n",
    "\n",
    "For large $B$, this is miniscule. If $B = 10^4$, the variance should be on the order of $10^{-8}$. Yet, we see bias on the order of $10^{-3}$."
   ]
  },
  {
   "cell_type": "code",
   "execution_count": null,
   "metadata": {
    "collapsed": true
   },
   "outputs": [],
   "source": []
  }
 ],
 "metadata": {
  "kernelspec": {
   "display_name": "Python 3",
   "language": "python",
   "name": "python3"
  },
  "language_info": {
   "codemirror_mode": {
    "name": "ipython",
    "version": 3
   },
   "file_extension": ".py",
   "mimetype": "text/x-python",
   "name": "python",
   "nbconvert_exporter": "python",
   "pygments_lexer": "ipython3",
   "version": "3.4.3"
  }
 },
 "nbformat": 4,
 "nbformat_minor": 1
}
