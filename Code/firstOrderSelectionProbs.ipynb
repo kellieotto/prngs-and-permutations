{
 "cells": [
  {
   "cell_type": "code",
   "execution_count": 1,
   "metadata": {
    "collapsed": true
   },
   "outputs": [],
   "source": [
    "from __future__ import division\n",
    "import numpy as np\n",
    "from prng import lcgRandom\n",
    "from sample import PIKK\n",
    "from scipy.misc import comb, factorial\n",
    "from scipy.stats import chisquare, norm \n",
    "import scipy.integrate as integrate\n",
    "import pandas as pd"
   ]
  },
  {
   "cell_type": "code",
   "execution_count": 2,
   "metadata": {
    "collapsed": true
   },
   "outputs": [],
   "source": [
    "def getEmpiricalDistr(randomObject, n, k, reps=10**7):\n",
    "    uniqueSamples = dict()\n",
    "\n",
    "    for i in range(reps): # use range in python 3, xrange in python 2\n",
    "        sam = frozenset(PIKK(n, k, randomObject))\n",
    "        if sam in uniqueSamples:\n",
    "            uniqueSamples[sam] += 1\n",
    "        else:\n",
    "            uniqueSamples[sam] = 1\n",
    "    return uniqueSamples\n",
    "    \n",
    "\n",
    "def getItemCounts(uniqueSamples):\n",
    "    itemCounts = dict()\n",
    "    for u,v in uniqueSamples.items():\n",
    "        for i in u:\n",
    "            if i in itemCounts:\n",
    "                itemCounts[i] += v\n",
    "            else:\n",
    "                itemCounts[i] = v\n",
    "    return itemCounts\n",
    "\n",
    "\n",
    "def printItemFreq(itemCounts, verbose=False):\n",
    "    for i in itemCounts.keys():\n",
    "        itemCounts[i] /= reps\n",
    "        if verbose:\n",
    "            print(i, itemCounts[i])\n",
    "    return itemCounts\n",
    "    \n",
    "\n",
    "def printMaxProbRatio(itemCounts, verbose=False):\n",
    "    freq = list(itemCounts.values())\n",
    "    pr = np.amax(freq)/np.amin(freq)\n",
    "    if verbose:\n",
    "        print(\"Max ratio of selection probs: \" + str(pr))\n",
    "    return pr\n",
    "\n",
    "\n",
    "def conductChiSquareTest(itemCounts):\n",
    "    freq = list(itemCounts.values())\n",
    "    return(chisquare(freq))"
   ]
  },
  {
   "cell_type": "code",
   "execution_count": 3,
   "metadata": {
    "collapsed": true
   },
   "outputs": [],
   "source": [
    "def distrNormalRange(w, n):\n",
    "    '''\n",
    "    The CDF of the range of n IID standard normals evaluated at w\n",
    "    '''\n",
    "    innerInt = lambda x: norm.pdf(x)*(norm.cdf(x+w) - norm.cdf(x))**(n-1)\n",
    "    tmp = integrate.quad(innerInt, -np.inf, np.inf)\n",
    "    return n*tmp[0]\n",
    "\n",
    "\n",
    "def test_distrNormalRange():\n",
    "    n = 100\n",
    "    np.random.seed(12345)\n",
    "\n",
    "    empiricalRangeDistr = np.array([np.ptp(norm.rvs(size=n)) for i in range(100000)])\n",
    "    for w in np.array(range(6,13))/2:\n",
    "        emp = np.mean(empiricalRangeDistr <= w)\n",
    "        theoretical = distrNormalRange(w, n)\n",
    "        assert np.abs(emp - theoretical) <= 0.005\n",
    "    return None\n",
    "\n",
    "\n",
    "def distrMultinomialRange(w, n, k):\n",
    "    '''\n",
    "    CDF of the range of multinomial variables, evaluated at w\n",
    "    n draws, k categories each having probability 1/k\n",
    "    '''\n",
    "    cutoff = (w - 1/(2*n))*np.sqrt(k/n)\n",
    "    return distrNormalRange(cutoff, k)\n",
    "\n",
    "\n",
    "def test_distrMultinomialRange():\n",
    "    reps = 10000\n",
    "    bins = 15\n",
    "    np.random.seed(12345)\n",
    "\n",
    "    empiricalRangeDistr = np.ptp(np.random.multinomial(n=reps, pvals=[1/bins]*bins, size=100000), axis=1)\n",
    "    for w in np.array(range(20))*10:\n",
    "        emp = np.mean(empiricalRangeDistr <= w)\n",
    "        theoretical = distrMultinomialRange(w, reps, bins)\n",
    "        assert np.abs(emp - theoretical) <= 0.05\n",
    "    return None\n",
    "\n",
    "# will be silent if there are no errors\n",
    "test_distrNormalRange()\n",
    "test_distrMultinomialRange()"
   ]
  },
  {
   "cell_type": "code",
   "execution_count": null,
   "metadata": {
    "collapsed": true
   },
   "outputs": [],
   "source": [
    "# Boilerplate stuff\n",
    "\n",
    "reps = int(10**7)\n",
    "n = [13, 30, 90]\n",
    "k = [4, 10, 20]\n",
    "\n",
    "maxProb = []\n",
    "minProb = []\n",
    "meanProb = []\n",
    "maxProbRatio = []\n",
    "nvalues = []\n",
    "kvalues = []\n",
    "prng = []\n",
    "seed = []\n",
    "\n",
    "# FO = first order selection probabilities\n",
    "chisqStatistic_FO = []\n",
    "chisqDF_FO = []\n",
    "chisqPvalue_FO = []\n",
    "rangeStat_FO = []\n",
    "rangePvalue_FO = []\n",
    "\n",
    "# US = unique sample selection probabilities\n",
    "chisqStatistic_US = []\n",
    "chisqDF_US = []\n",
    "chisqPvalue_US = []\n",
    "rangeStat_US = []\n",
    "rangePvalue_US = []"
   ]
  },
  {
   "cell_type": "markdown",
   "metadata": {},
   "source": [
    "# RANDU"
   ]
  },
  {
   "cell_type": "code",
   "execution_count": null,
   "metadata": {
    "collapsed": false
   },
   "outputs": [],
   "source": [
    "for nn in n:\n",
    "    for kk in k:\n",
    "        if kk >= nn:\n",
    "            continue\n",
    "        \n",
    "        lcg = lcgRandom(seed=100) # set seed of RANDU to 100\n",
    "\n",
    "        uniqueSampleCounts = getEmpiricalDistr(lcg, n=nn, k=kk, reps=reps)\n",
    "        itemCounts = getItemCounts(uniqueSampleCounts)\n",
    "        \n",
    "        # First order\n",
    "        chisqTestResults = conductChiSquareTest(itemCounts)\n",
    "        chisqDF_FO = chisqDF_FO + [len(itemCounts)]\n",
    "        chisqStatistic_FO = chisqStatistic_FO + [chisqTestResults[0]]\n",
    "        chisqPvalue_FO = chisqPvalue_FO + [chisqTestResults[1]]\n",
    "        \n",
    "        rangeStatObserved = np.ptp(list(itemCounts.values()))\n",
    "        rangeStat_FO = rangeStat_FO + [rangeStatObserved]\n",
    "        rangePvalue_FO = rangePvalue_FO + [1-distrMultinomialRange(rangeStatObserved, reps*kk, nn)]\n",
    "        \n",
    "        # Unique samples\n",
    "        chisqTestResults = conductChiSquareTest(uniqueSampleCounts)\n",
    "        chisqDF_US = chisqDF_US + [len(uniqueSampleCounts)]\n",
    "        chisqStatistic_US = chisqStatistic_US + [chisqTestResults[0]]\n",
    "        chisqPvalue_US = chisqPvalue_US + [chisqTestResults[1]]\n",
    "        \n",
    "        rangeStatObserved = np.ptp(list(itemCounts.values()))\n",
    "        rangeStat_US = rangeStat_US + [rangeStatObserved]\n",
    "        rangePvalue_US = rangePvalue_US + [1-distrMultinomialRange(rangeStatObserved, reps, comb(nn, kk))]\n",
    "        \n",
    "        # Selection probability summary stats\n",
    "        itemFreq = printItemFreq(itemCounts)\n",
    "        maxProb = maxProb + [np.amax(list(itemFreq.values()))]\n",
    "        minProb = minProb + [np.amin(list(itemFreq.values()))]\n",
    "        meanProb = meanProb + [np.mean(list(itemFreq.values()))]\n",
    "        maxProbRatio = maxProbRatio + [printMaxProbRatio(itemFreq)]\n",
    "        nvalues = nvalues + [nn]\n",
    "        kvalues = kvalues + [kk]\n",
    "        prng = prng + ['RANDU']\n",
    "        seed = seed + [100]"
   ]
  },
  {
   "cell_type": "markdown",
   "metadata": {},
   "source": [
    "# Super Duper LCG"
   ]
  },
  {
   "cell_type": "code",
   "execution_count": null,
   "metadata": {
    "collapsed": true
   },
   "outputs": [],
   "source": [
    "# Parameters for the Super Duper LCG\n",
    "A_SD = 0\n",
    "B_SD = 69069\n",
    "M_SD = 2**32"
   ]
  },
  {
   "cell_type": "code",
   "execution_count": null,
   "metadata": {
    "collapsed": true
   },
   "outputs": [],
   "source": [
    "seedvalues = [100, 233424280]\n",
    "\n",
    "for nn in n:\n",
    "    for kk in k:\n",
    "        if kk >= nn:\n",
    "            continue\n",
    "        for ss in seedvalues:\n",
    "            sdlcg = lcgRandom(seed=ss, A=A_SD, B=B_SD, M=M_SD)\n",
    "\n",
    "            uniqueSampleCounts = getEmpiricalDistr(sdlcg, n=nn, k=kk, reps=reps)\n",
    "            itemCounts = getItemCounts(uniqueSampleCounts)\n",
    "        \n",
    "            # First order\n",
    "            chisqTestResults = conductChiSquareTest(itemCounts)\n",
    "            chisqDF_FO = chisqDF_FO + [len(itemCounts)]\n",
    "            chisqStatistic_FO = chisqStatistic_FO + [chisqTestResults[0]]\n",
    "            chisqPvalue_FO = chisqPvalue_FO + [chisqTestResults[1]]\n",
    "        \n",
    "            rangeStatObserved = np.ptp(list(itemCounts.values()))\n",
    "            rangeStat_FO = rangeStat_FO + [rangeStatObserved]\n",
    "            rangePvalue_FO = rangePvalue_FO + [1-distrMultinomialRange(rangeStatObserved, reps*kk, nn)]\n",
    "        \n",
    "            # Unique samples\n",
    "            chisqTestResults = conductChiSquareTest(uniqueSampleCounts)\n",
    "            chisqDF_US = chisqDF_US + [len(uniqueSampleCounts)]\n",
    "            chisqStatistic_US = chisqStatistic_US + [chisqTestResults[0]]\n",
    "            chisqPvalue_US = chisqPvalue_US + [chisqTestResults[1]]\n",
    "        \n",
    "            rangeStatObserved = np.ptp(list(itemCounts.values()))\n",
    "            rangeStat_US = rangeStat_US + [rangeStatObserved]\n",
    "            rangePvalue_US = rangePvalue_US + [1-distrMultinomialRange(rangeStatObserved, reps, comb(nn, kk))]\n",
    "        \n",
    "            # Selection probability summary stats\n",
    "            itemFreq = printItemFreq(itemCounts)\n",
    "            maxProb = maxProb + [np.amax(list(itemFreq.values()))]\n",
    "            minProb = minProb + [np.amin(list(itemFreq.values()))]\n",
    "            meanProb = meanProb + [np.mean(list(itemFreq.values()))]\n",
    "            maxProbRatio = maxProbRatio + [printMaxProbRatio(itemFreq)]\n",
    "            nvalues = nvalues + [nn]\n",
    "            kvalues = kvalues + [kk]\n",
    "            prng = prng + ['Super-Duper']\n",
    "            seed = seed + [ss]"
   ]
  },
  {
   "cell_type": "markdown",
   "metadata": {},
   "source": [
    "# Mersenne Twister"
   ]
  },
  {
   "cell_type": "code",
   "execution_count": null,
   "metadata": {
    "collapsed": false
   },
   "outputs": [],
   "source": [
    "seedvalues = [100, 233424280, 429496729]\n",
    "\n",
    "for nn in n:\n",
    "    for kk in k:\n",
    "        if kk >= nn:\n",
    "            continue\n",
    "        for ss in seedvalues:\n",
    "            mt = np.random\n",
    "            mt.seed(ss)\n",
    "\n",
    "            uniqueSampleCounts = getEmpiricalDistr(mt, n=nn, k=kk, reps=reps)\n",
    "            itemCounts = getItemCounts(uniqueSampleCounts)\n",
    "        \n",
    "            # First order\n",
    "            chisqTestResults = conductChiSquareTest(itemCounts)\n",
    "            chisqDF_FO = chisqDF_FO + [len(itemCounts)]\n",
    "            chisqStatistic_FO = chisqStatistic_FO + [chisqTestResults[0]]\n",
    "            chisqPvalue_FO = chisqPvalue_FO + [chisqTestResults[1]]\n",
    "        \n",
    "            rangeStatObserved = np.ptp(list(itemCounts.values()))\n",
    "            rangeStat_FO = rangeStat_FO + [rangeStatObserved]\n",
    "            rangePvalue_FO = rangePvalue_FO + [1-distrMultinomialRange(rangeStatObserved, reps*kk, nn)]\n",
    "        \n",
    "            # Unique samples\n",
    "            chisqTestResults = conductChiSquareTest(uniqueSampleCounts)\n",
    "            chisqDF_US = chisqDF_US + [len(uniqueSampleCounts)]\n",
    "            chisqStatistic_US = chisqStatistic_US + [chisqTestResults[0]]\n",
    "            chisqPvalue_US = chisqPvalue_US + [chisqTestResults[1]]\n",
    "        \n",
    "            rangeStatObserved = np.ptp(list(itemCounts.values()))\n",
    "            rangeStat_US = rangeStat_US + [rangeStatObserved]\n",
    "            rangePvalue_US = rangePvalue_US + [1-distrMultinomialRange(rangeStatObserved, reps, comb(nn, kk))]\n",
    "        \n",
    "            # Selection probability summary stats\n",
    "            itemFreq = printItemFreq(itemCounts)\n",
    "            maxProb = maxProb + [np.amax(list(itemFreq.values()))]\n",
    "            minProb = minProb + [np.amin(list(itemFreq.values()))]\n",
    "            meanProb = meanProb + [np.mean(list(itemFreq.values()))]\n",
    "            maxProbRatio = maxProbRatio + [printMaxProbRatio(itemFreq)]\n",
    "            nvalues = nvalues + [nn]\n",
    "            kvalues = kvalues + [kk]\n",
    "            prng = prng + ['Mersenne Twister']\n",
    "            seed = seed + [ss]"
   ]
  },
  {
   "cell_type": "markdown",
   "metadata": {},
   "source": [
    "# First-order selection probabilities, summary statistics"
   ]
  },
  {
   "cell_type": "code",
   "execution_count": null,
   "metadata": {
    "collapsed": false
   },
   "outputs": [],
   "source": [
    "d = {'Sample size' : kvalues,\n",
    "     'Pop size' : nvalues,\n",
    "     'PRNG' : prng,\n",
    "     'Min Prob' : minProb,\n",
    "     'Mean Prob' : meanProb,\n",
    "     'Max Prob' : maxProb,\n",
    "     'Max Selection Prob Ratio' : maxProbRatio,\n",
    "     'seed' : seed\n",
    "    }\n",
    "resTable = pd.DataFrame(d)\n",
    "cols = resTable.columns.tolist()\n",
    "cols.reverse()\n",
    "cols = [cols[2]] + [cols[1]] + [cols[0]] + cols[3:6] + [cols[7]] + [cols[6]]\n",
    "resTable[cols].sort_values(['Pop size', 'Sample size', 'PRNG', 'seed'])"
   ]
  },
  {
   "cell_type": "markdown",
   "metadata": {
    "collapsed": true
   },
   "source": [
    "# First order selection probabilities, chi-squared test and range statistic\n",
    "\n",
    "We first test whether each item $1, \\dots, k$ is selected with equal probability. We do two tests: the usual chi-squared test and another test based on the range of the multinomial values, $max_i n_i - min_i n_i$, where $n_1, \\dots, n_k$ are the number of items in each of $k$ cells that have equal probability $1/k$.\n",
    "\n",
    "Johnson and Young (1960) and Young (1962) provide the following approximation to the distribution of the range\n",
    "\n",
    "$$P(\\max_i n_k - \\min_i n_k \\leq r) \\approx P(W_m \\leq (r-(2n)^{-1})(m/n)^{1/2})$$\n",
    "\n",
    "where $W_m$ denotes the sample range of $m$ independent standard normal random variables. It is a known result (see e.g. Pearson and Hartley p. 43, 1954 or Ruben, 1960) that the distribution function for the range of IID normal samples is given by\n",
    "\n",
    "$$R(w) = n \\int_{-\\infty}^{\\infty} \\phi(x)\\left[ \\Phi(x+w) - \\Phi(x)\\right]^{n-1}dx$$\n",
    "\n",
    "where $\\phi$ and $\\Phi$ are the standard normal density and cumulative distribution function, respectively.  We leverage these two results to approximate the p-value of the range statistic."
   ]
  },
  {
   "cell_type": "code",
   "execution_count": null,
   "metadata": {
    "collapsed": false
   },
   "outputs": [],
   "source": [
    "d = {'Sample size' : kvalues,\n",
    "     'Pop size' : nvalues,\n",
    "     'PRNG' : prng,\n",
    "     'Max Selection Prob Ratio' : maxProbRatio,\n",
    "     'seed' : seed,\n",
    "     'Chi-squared' : chisqStatistic_FO,\n",
    "     'Df' : chisqDF_FO,\n",
    "     'P-value' : chisqPvalue_FO,\n",
    "     'Range' : rangeStat_FO,\n",
    "     'Range P-value' : rangePvalue_FO\n",
    "    }\n",
    "resTable = pd.DataFrame(d)\n",
    "cols = ['Pop size', 'Sample size', 'PRNG', 'seed', 'Chi-squared', 'Df', 'P-value', 'Range', 'Range P-value']\n",
    "resTable[cols].sort_values(['Pop size', 'Sample size', 'PRNG', 'seed'])"
   ]
  },
  {
   "cell_type": "markdown",
   "metadata": {
    "collapsed": true
   },
   "source": [
    "# Selection probabilities for unique samples, chi-squared test + range test"
   ]
  },
  {
   "cell_type": "code",
   "execution_count": null,
   "metadata": {
    "collapsed": false
   },
   "outputs": [],
   "source": [
    "d = {'Sample size' : kvalues,\n",
    "     'Pop size' : nvalues,\n",
    "     'PRNG' : prng,\n",
    "     'Max Selection Prob Ratio' : maxProbRatio,\n",
    "     'seed' : seed,\n",
    "     'Chi-squared' : chisqStatistic_US,\n",
    "     'Df' : chisqDF_US,\n",
    "     'P-value' : chisqPvalue_US,\n",
    "     'Range' : rangeStat_US,\n",
    "     'Range P-value' : rangePvalue_US\n",
    "    }\n",
    "resTable = pd.DataFrame(d)\n",
    "cols = ['Pop size', 'Sample size', 'PRNG', 'seed', 'Chi-squared', 'Df', 'P-value', 'Range', 'Range P-value']\n",
    "resTable[cols].sort_values(['Pop size', 'Sample size', 'PRNG', 'seed'])"
   ]
  }
 ],
 "metadata": {
  "kernelspec": {
   "display_name": "Python 3",
   "language": "python",
   "name": "python3"
  },
  "language_info": {
   "codemirror_mode": {
    "name": "ipython",
    "version": 3
   },
   "file_extension": ".py",
   "mimetype": "text/x-python",
   "name": "python",
   "nbconvert_exporter": "python",
   "pygments_lexer": "ipython3",
   "version": "3.4.3"
  }
 },
 "nbformat": 4,
 "nbformat_minor": 1
}
